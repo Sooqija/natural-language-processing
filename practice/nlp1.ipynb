{
  "cells": [
    {
      "cell_type": "markdown",
      "metadata": {
        "id": "LrWvjqAgzT0n"
      },
      "source": [
        "## Seminar 1: Fun with Word Embeddings\n",
        "\n",
        "Today we gonna play with word embeddings: train our own little embeddings, load one from gensim model zoo and use it to visualize text corpora.\n",
        "\n",
        "This whole thing is gonna happen on top of embedding dataset.\n",
        "\n",
        "__Requirements:__  `pip install --upgrade nltk gensim bokeh` , but only if you're running locally."
      ]
    },
    {
      "cell_type": "code",
      "execution_count": 1,
      "metadata": {
        "collapsed": true,
        "id": "TFFwh0ZczT0p",
        "outputId": "ec955f46-adc0-400e-bc0c-99002e2f5c9c",
        "colab": {
          "base_uri": "https://localhost:8080/"
        }
      },
      "outputs": [
        {
          "output_type": "stream",
          "name": "stdout",
          "text": [
            "--2024-10-14 13:22:52--  https://www.dropbox.com/s/obaitrix9jyu84r/quora.txt?dl=1\n",
            "Resolving www.dropbox.com (www.dropbox.com)... 162.125.2.18, 2620:100:6017:18::a27d:212\n",
            "Connecting to www.dropbox.com (www.dropbox.com)|162.125.2.18|:443... connected.\n",
            "HTTP request sent, awaiting response... 302 Found\n",
            "Location: https://www.dropbox.com/scl/fi/p0t2dw6oqs6oxpd6zz534/quora.txt?rlkey=bjupppwua4zmd4elz8octecy9&dl=1 [following]\n",
            "--2024-10-14 13:22:52--  https://www.dropbox.com/scl/fi/p0t2dw6oqs6oxpd6zz534/quora.txt?rlkey=bjupppwua4zmd4elz8octecy9&dl=1\n",
            "Reusing existing connection to www.dropbox.com:443.\n",
            "HTTP request sent, awaiting response... 302 Found\n",
            "Location: https://uc639ac1d857b1dea8e94cc79148.dl.dropboxusercontent.com/cd/0/inline/Cca3Y4FtW__kw3fdB7wB1J-Tl8q83GtKssjlSLamu0bC9JNdY5Of0GKqgQK7G5tzN82w1BL66FRCogSm1337MlzwE0NImUZNjxZjLZndWBfoHjmYa4QW1M0qpJhR-fqMx08/file?dl=1# [following]\n",
            "--2024-10-14 13:22:53--  https://uc639ac1d857b1dea8e94cc79148.dl.dropboxusercontent.com/cd/0/inline/Cca3Y4FtW__kw3fdB7wB1J-Tl8q83GtKssjlSLamu0bC9JNdY5Of0GKqgQK7G5tzN82w1BL66FRCogSm1337MlzwE0NImUZNjxZjLZndWBfoHjmYa4QW1M0qpJhR-fqMx08/file?dl=1\n",
            "Resolving uc639ac1d857b1dea8e94cc79148.dl.dropboxusercontent.com (uc639ac1d857b1dea8e94cc79148.dl.dropboxusercontent.com)... 162.125.2.15, 2620:100:6021:15::a27d:410f\n",
            "Connecting to uc639ac1d857b1dea8e94cc79148.dl.dropboxusercontent.com (uc639ac1d857b1dea8e94cc79148.dl.dropboxusercontent.com)|162.125.2.15|:443... connected.\n",
            "HTTP request sent, awaiting response... 200 OK\n",
            "Length: 33813903 (32M) [application/binary]\n",
            "Saving to: ‘./quora.txt’\n",
            "\n",
            "./quora.txt         100%[===================>]  32.25M  75.6MB/s    in 0.4s    \n",
            "\n",
            "2024-10-14 13:22:54 (75.6 MB/s) - ‘./quora.txt’ saved [33813903/33813903]\n",
            "\n"
          ]
        }
      ],
      "source": [
        "# download the data:\n",
        "!wget https://www.dropbox.com/s/obaitrix9jyu84r/quora.txt?dl=1 -O ./quora.txt\n",
        "# alternative download link: https://yadi.sk/i/BPQrUu1NaTduEw"
      ]
    },
    {
      "cell_type": "code",
      "execution_count": 2,
      "metadata": {
        "scrolled": false,
        "id": "AwQENMzWzT0q",
        "outputId": "3a248e1b-3dcd-42ec-e908-1a836e4a38b3",
        "colab": {
          "base_uri": "https://localhost:8080/",
          "height": 35
        }
      },
      "outputs": [
        {
          "output_type": "execute_result",
          "data": {
            "text/plain": [
              "\"What TV shows or books help you read people's body language?\\n\""
            ],
            "application/vnd.google.colaboratory.intrinsic+json": {
              "type": "string"
            }
          },
          "metadata": {},
          "execution_count": 2
        }
      ],
      "source": [
        "import numpy as np\n",
        "\n",
        "with open(\"./quora.txt\", encoding=\"utf-8\") as file:\n",
        "    data = list(file)\n",
        "\n",
        "data[50]"
      ]
    },
    {
      "cell_type": "markdown",
      "metadata": {
        "id": "59G5alRGzT0r"
      },
      "source": [
        "__Tokenization:__ a typical first step for an NLP task is to split raw data into words.\n",
        "The text we're working with is in raw format: with all the punctuation and smiles attached to some words, so a simple str.split won't do.\n",
        "\n",
        "Let's use __`nltk`__ - a library that handles many NLP tasks like tokenization, stemming or part-of-speech tagging."
      ]
    },
    {
      "cell_type": "code",
      "execution_count": 3,
      "metadata": {
        "id": "iWTd3kiVzT0r",
        "outputId": "181345b8-b44b-4b3b-d084-0f587edf3178",
        "colab": {
          "base_uri": "https://localhost:8080/"
        }
      },
      "outputs": [
        {
          "output_type": "stream",
          "name": "stdout",
          "text": [
            "['What', 'TV', 'shows', 'or', 'books', 'help', 'you', 'read', 'people', \"'\", 's', 'body', 'language', '?']\n"
          ]
        }
      ],
      "source": [
        "from nltk.tokenize import WordPunctTokenizer\n",
        "tokenizer = WordPunctTokenizer()\n",
        "\n",
        "print(tokenizer.tokenize(data[50]))"
      ]
    },
    {
      "cell_type": "code",
      "execution_count": 4,
      "metadata": {
        "collapsed": true,
        "id": "g3KgqgPTzT0r"
      },
      "outputs": [],
      "source": [
        "# TASK: lowercase everything and extract tokens with tokenizer.\n",
        "# data_tok should be a list of lists of tokens for each line in data.\n",
        "\n",
        "data_tok = [tokenizer.tokenize(s.lower()) for s in data] # YOUR CODE"
      ]
    },
    {
      "cell_type": "code",
      "execution_count": 5,
      "metadata": {
        "collapsed": true,
        "id": "I-V01UoYzT0r"
      },
      "outputs": [],
      "source": [
        "assert all(isinstance(row, (list, tuple)) for row in data_tok), \"please convert each line into a list of tokens (strings)\"\n",
        "assert all(all(isinstance(tok, str) for tok in row) for row in data_tok), \"please convert each line into a list of tokens (strings)\"\n",
        "is_latin = lambda tok: all('a' <= x.lower() <= 'z' for x in tok)\n",
        "assert all(map(lambda l: not is_latin(l) or l.islower(), map(' '.join, data_tok))), \"please make sure to lowercase the data\""
      ]
    },
    {
      "cell_type": "code",
      "execution_count": 6,
      "metadata": {
        "id": "_wMOAU6ozT0s",
        "outputId": "3580424c-dd40-426e-bcc6-01fe4a47b38e",
        "colab": {
          "base_uri": "https://localhost:8080/"
        }
      },
      "outputs": [
        {
          "output_type": "stream",
          "name": "stdout",
          "text": [
            "[\"can i get back with my ex even though she is pregnant with another guy ' s baby ?\", 'what are some ways to overcome a fast food addiction ?']\n"
          ]
        }
      ],
      "source": [
        "print([' '.join(row) for row in data_tok[:2]])"
      ]
    },
    {
      "cell_type": "markdown",
      "metadata": {
        "id": "sjAwh33PzT0s"
      },
      "source": [
        "__Word vectors:__ as the saying goes, there's more than one way to train word embeddings. There's Word2Vec and GloVe with different objective functions. Then there's fasttext that uses character-level models to train word embeddings.\n",
        "\n",
        "The choice is huge, so let's start someplace small: __gensim__ is another nlp library that features many vector-based models incuding word2vec."
      ]
    },
    {
      "cell_type": "code",
      "execution_count": 7,
      "metadata": {
        "collapsed": true,
        "id": "LMCK0EOnzT0s"
      },
      "outputs": [],
      "source": [
        "from gensim.models import Word2Vec\n",
        "model = Word2Vec(data_tok,\n",
        "                 vector_size=32,      # embedding vector size\n",
        "                 min_count=5,  # consider words that occured at least 5 times\n",
        "                 window=5).wv  # define context as a 5-word window around the target word"
      ]
    },
    {
      "cell_type": "code",
      "execution_count": 8,
      "metadata": {
        "id": "hv1FjbmYzT0s",
        "outputId": "ae94276a-3b10-4292-b866-b684d759aa37",
        "colab": {
          "base_uri": "https://localhost:8080/"
        }
      },
      "outputs": [
        {
          "output_type": "execute_result",
          "data": {
            "text/plain": [
              "array([-1.7883229 , -0.13964611,  0.15945542,  3.0461924 ,  1.4895023 ,\n",
              "        1.465195  , -0.44916424, -5.2592835 ,  2.6818438 ,  2.9165618 ,\n",
              "        0.8238135 ,  3.5878983 ,  3.3571773 ,  0.6840834 ,  0.9608818 ,\n",
              "       -0.24771829,  0.42759225, -1.7438143 ,  0.53152543, -4.0184827 ,\n",
              "       -1.6673398 ,  0.7292039 , -1.2210948 , -1.8027066 ,  2.9619567 ,\n",
              "       -0.8577589 ,  0.12353683,  1.2177224 ,  1.7548442 , -1.1030226 ,\n",
              "       -0.57728165, -0.4905658 ], dtype=float32)"
            ]
          },
          "metadata": {},
          "execution_count": 8
        }
      ],
      "source": [
        "# now you can get word vectors !\n",
        "model.get_vector('anything')"
      ]
    },
    {
      "cell_type": "code",
      "execution_count": 9,
      "metadata": {
        "id": "1MHKP8OezT0t",
        "outputId": "6a77c284-595b-453d-9f63-1ae52c3431dd",
        "colab": {
          "base_uri": "https://localhost:8080/"
        }
      },
      "outputs": [
        {
          "output_type": "execute_result",
          "data": {
            "text/plain": [
              "[('rice', 0.9656685590744019),\n",
              " ('fruit', 0.9298413395881653),\n",
              " ('corn', 0.9251534938812256),\n",
              " ('sauce', 0.9248530268669128),\n",
              " ('cheese', 0.9215301871299744),\n",
              " ('pasta', 0.9214571714401245),\n",
              " ('chicken', 0.9162442684173584),\n",
              " ('wine', 0.9108425974845886),\n",
              " ('beans', 0.9100497961044312),\n",
              " ('banana', 0.9091483354568481)]"
            ]
          },
          "metadata": {},
          "execution_count": 9
        }
      ],
      "source": [
        "# or query similar words directly. Go play with it!\n",
        "model.most_similar('bread')"
      ]
    },
    {
      "cell_type": "markdown",
      "metadata": {
        "id": "E3ckgwYvzT0t"
      },
      "source": [
        "### Using pre-trained model\n",
        "\n",
        "Took it a while, huh? Now imagine training life-sized (100~300D) word embeddings on gigabytes of text: wikipedia articles or twitter posts.\n",
        "\n",
        "Thankfully, nowadays you can get a pre-trained word embedding model in 2 lines of code (no sms required, promise)."
      ]
    },
    {
      "cell_type": "code",
      "execution_count": 10,
      "metadata": {
        "collapsed": true,
        "id": "ZN4HWcvOzT0t",
        "colab": {
          "base_uri": "https://localhost:8080/"
        },
        "outputId": "2e38d034-8533-4a37-9341-f042542543ee"
      },
      "outputs": [
        {
          "output_type": "stream",
          "name": "stdout",
          "text": [
            "[==================================================] 100.0% 387.1/387.1MB downloaded\n"
          ]
        }
      ],
      "source": [
        "import gensim.downloader as api\n",
        "model = api.load('glove-twitter-100')"
      ]
    },
    {
      "cell_type": "code",
      "execution_count": 11,
      "metadata": {
        "id": "lOjezGuEzT0t",
        "outputId": "04cab9a5-4243-4cc3-9d28-f7cd3d9930e5",
        "colab": {
          "base_uri": "https://localhost:8080/"
        }
      },
      "outputs": [
        {
          "output_type": "execute_result",
          "data": {
            "text/plain": [
              "[('broker', 0.5820155739784241),\n",
              " ('bonuses', 0.5424473285675049),\n",
              " ('banker', 0.5385112762451172),\n",
              " ('designer', 0.5197198390960693),\n",
              " ('merchandising', 0.4964233338832855),\n",
              " ('treet', 0.4922019839286804),\n",
              " ('shopper', 0.4920562207698822),\n",
              " ('part-time', 0.4912828207015991),\n",
              " ('freelance', 0.4843311905860901),\n",
              " ('aupair', 0.4796452522277832)]"
            ]
          },
          "metadata": {},
          "execution_count": 11
        }
      ],
      "source": [
        "model.most_similar(positive=[\"coder\", \"money\"], negative=[\"brain\"])"
      ]
    },
    {
      "cell_type": "markdown",
      "metadata": {
        "id": "2BWtI1gxzT0t"
      },
      "source": [
        "### Visualizing word vectors\n",
        "\n",
        "One way to see if our vectors are any good is to plot them. Thing is, those vectors are in 30D+ space and we humans are more used to 2-3D.\n",
        "\n",
        "Luckily, we machine learners know about __dimensionality reduction__ methods.\n",
        "\n",
        "Let's use that to plot 1000 most frequent words"
      ]
    },
    {
      "cell_type": "code",
      "execution_count": 12,
      "metadata": {
        "id": "4JCuZGA-zT0t",
        "outputId": "cbdadffb-21b4-49bf-cb32-0cb58674ca9e",
        "colab": {
          "base_uri": "https://localhost:8080/"
        }
      },
      "outputs": [
        {
          "output_type": "stream",
          "name": "stdout",
          "text": [
            "['<user>', '_', 'please', 'apa', 'justin', 'text', 'hari', 'playing', 'once', 'sei']\n"
          ]
        }
      ],
      "source": [
        "words = model.index_to_key[:1000]\n",
        "\n",
        "print(words[::100])"
      ]
    },
    {
      "cell_type": "code",
      "execution_count": 13,
      "metadata": {
        "id": "yAx_LUqgzT0t"
      },
      "outputs": [],
      "source": [
        "# for each word, compute it's vector with model\n",
        "word_vectors = np.array([model.get_vector(word) for word in words]) # YOUR CODE"
      ]
    },
    {
      "cell_type": "code",
      "execution_count": 14,
      "metadata": {
        "collapsed": true,
        "id": "N5cPM9DwzT0t"
      },
      "outputs": [],
      "source": [
        "assert isinstance(word_vectors, np.ndarray)\n",
        "assert word_vectors.shape == (len(words), 100)\n",
        "assert np.isfinite(word_vectors).all()"
      ]
    },
    {
      "cell_type": "markdown",
      "metadata": {
        "id": "qIoakKMxzT0t"
      },
      "source": [
        "#### Linear projection: PCA\n",
        "\n",
        "The simplest linear dimensionality reduction method is __P__rincipial __C__omponent __A__nalysis.\n",
        "\n",
        "In geometric terms, PCA tries to find axes along which most of the variance occurs. The \"natural\" axes, if you wish.\n",
        "\n",
        "<img src=\"https://github.com/yandexdataschool/Practical_RL/raw/master/yet_another_week/_resource/pca_fish.png\" style=\"width:30%\">\n",
        "\n",
        "\n",
        "Under the hood, it attempts to decompose object-feature matrix $X$ into two smaller matrices: $W$ and $\\hat W$ minimizing _mean squared error_:\n",
        "\n",
        "$$\\|(X W) \\hat{W} - X\\|^2_2 \\to_{W, \\hat{W}} \\min$$\n",
        "- $X \\in \\mathbb{R}^{n \\times m}$ - object matrix (**centered**);\n",
        "- $W \\in \\mathbb{R}^{m \\times d}$ - matrix of direct transformation;\n",
        "- $\\hat{W} \\in \\mathbb{R}^{d \\times m}$ - matrix of reverse transformation;\n",
        "- $n$ samples, $m$ original dimensions and $d$ target dimensions;\n",
        "\n"
      ]
    },
    {
      "cell_type": "code",
      "execution_count": 15,
      "metadata": {
        "collapsed": true,
        "id": "7JJKl7XbzT0t"
      },
      "outputs": [],
      "source": [
        "from sklearn.decomposition import PCA\n",
        "\n",
        "# map word vectors onto 2d plane with PCA. Use good old sklearn api (fit, transform)\n",
        "# after that, normalize vectors to make sure they have zero mean and unit variance\n",
        "pca = PCA(n_components=2).fit(word_vectors)\n",
        "pca_2d = pca.transform(word_vectors)\n",
        "word_vectors_pca = (pca_2d - pca_2d.mean(0))/pca_2d.std(0) # YOUR CODE\n",
        "\n",
        "# and maybe MORE OF YOUR CODE here :)"
      ]
    },
    {
      "cell_type": "code",
      "execution_count": 16,
      "metadata": {
        "collapsed": true,
        "id": "xizDhQaezT0t"
      },
      "outputs": [],
      "source": [
        "assert word_vectors_pca.shape == (len(word_vectors), 2), \"there must be a 2d vector for each word\"\n",
        "assert max(abs(word_vectors_pca.mean(0))) < 1e-5, \"points must be zero-centered\"\n",
        "assert max(abs(1.0 - word_vectors_pca.std(0))) < 1e-2, \"points must have unit variance\""
      ]
    },
    {
      "cell_type": "markdown",
      "metadata": {
        "id": "ZRdO3bE8zT0t"
      },
      "source": [
        "#### Let's draw it!"
      ]
    },
    {
      "cell_type": "code",
      "execution_count": 17,
      "metadata": {
        "id": "q-VD6f9czT0u"
      },
      "outputs": [],
      "source": [
        "import bokeh.models as bm, bokeh.plotting as pl\n",
        "from bokeh.io import output_notebook\n",
        "output_notebook()\n",
        "\n",
        "def draw_vectors(x, y, radius=10, alpha=0.25, color='blue',\n",
        "                 width=600, height=400, show=True, **kwargs):\n",
        "    \"\"\" draws an interactive plot for data points with auxilirary info on hover \"\"\"\n",
        "    if isinstance(color, str): color = [color] * len(x)\n",
        "    data_source = bm.ColumnDataSource({ 'x' : x, 'y' : y, 'color': color, **kwargs })\n",
        "\n",
        "    fig = pl.figure(active_scroll='wheel_zoom', width=width, height=height)\n",
        "    fig.scatter('x', 'y', size=radius, color='color', alpha=alpha, source=data_source)\n",
        "\n",
        "    fig.add_tools(bm.HoverTool(tooltips=[(key, \"@\" + key) for key in kwargs.keys()]))\n",
        "    if show:\n",
        "        pl.show(fig)\n",
        "    return fig"
      ]
    },
    {
      "cell_type": "code",
      "execution_count": 18,
      "metadata": {
        "id": "KSp3QP1QzT0u",
        "outputId": "366cac75-6c4f-4cc4-95fa-f8bdb250a17a",
        "colab": {
          "base_uri": "https://localhost:8080/",
          "height": 417
        }
      },
      "outputs": [
        {
          "output_type": "display_data",
          "data": {
            "application/javascript": [
              "'use strict';\n",
              "(function(root) {\n",
              "  function now() {\n",
              "    return new Date();\n",
              "  }\n",
              "\n",
              "  const force = true;\n",
              "\n",
              "  if (typeof root._bokeh_onload_callbacks === \"undefined\" || force === true) {\n",
              "    root._bokeh_onload_callbacks = [];\n",
              "    root._bokeh_is_loading = undefined;\n",
              "  }\n",
              "\n",
              "const JS_MIME_TYPE = 'application/javascript';\n",
              "  const HTML_MIME_TYPE = 'text/html';\n",
              "  const EXEC_MIME_TYPE = 'application/vnd.bokehjs_exec.v0+json';\n",
              "  const CLASS_NAME = 'output_bokeh rendered_html';\n",
              "\n",
              "  /**\n",
              "   * Render data to the DOM node\n",
              "   */\n",
              "  function render(props, node) {\n",
              "    const script = document.createElement(\"script\");\n",
              "    node.appendChild(script);\n",
              "  }\n",
              "\n",
              "  /**\n",
              "   * Handle when an output is cleared or removed\n",
              "   */\n",
              "  function handleClearOutput(event, handle) {\n",
              "    function drop(id) {\n",
              "      const view = Bokeh.index.get_by_id(id)\n",
              "      if (view != null) {\n",
              "        view.model.document.clear()\n",
              "        Bokeh.index.delete(view)\n",
              "      }\n",
              "    }\n",
              "\n",
              "    const cell = handle.cell;\n",
              "\n",
              "    const id = cell.output_area._bokeh_element_id;\n",
              "    const server_id = cell.output_area._bokeh_server_id;\n",
              "\n",
              "    // Clean up Bokeh references\n",
              "    if (id != null) {\n",
              "      drop(id)\n",
              "    }\n",
              "\n",
              "    if (server_id !== undefined) {\n",
              "      // Clean up Bokeh references\n",
              "      const cmd_clean = \"from bokeh.io.state import curstate; print(curstate().uuid_to_server['\" + server_id + \"'].get_sessions()[0].document.roots[0]._id)\";\n",
              "      cell.notebook.kernel.execute(cmd_clean, {\n",
              "        iopub: {\n",
              "          output: function(msg) {\n",
              "            const id = msg.content.text.trim()\n",
              "            drop(id)\n",
              "          }\n",
              "        }\n",
              "      });\n",
              "      // Destroy server and session\n",
              "      const cmd_destroy = \"import bokeh.io.notebook as ion; ion.destroy_server('\" + server_id + \"')\";\n",
              "      cell.notebook.kernel.execute(cmd_destroy);\n",
              "    }\n",
              "  }\n",
              "\n",
              "  /**\n",
              "   * Handle when a new output is added\n",
              "   */\n",
              "  function handleAddOutput(event, handle) {\n",
              "    const output_area = handle.output_area;\n",
              "    const output = handle.output;\n",
              "\n",
              "    // limit handleAddOutput to display_data with EXEC_MIME_TYPE content only\n",
              "    if ((output.output_type != \"display_data\") || (!Object.prototype.hasOwnProperty.call(output.data, EXEC_MIME_TYPE))) {\n",
              "      return\n",
              "    }\n",
              "\n",
              "    const toinsert = output_area.element.find(\".\" + CLASS_NAME.split(' ')[0]);\n",
              "\n",
              "    if (output.metadata[EXEC_MIME_TYPE][\"id\"] !== undefined) {\n",
              "      toinsert[toinsert.length - 1].firstChild.textContent = output.data[JS_MIME_TYPE];\n",
              "      // store reference to embed id on output_area\n",
              "      output_area._bokeh_element_id = output.metadata[EXEC_MIME_TYPE][\"id\"];\n",
              "    }\n",
              "    if (output.metadata[EXEC_MIME_TYPE][\"server_id\"] !== undefined) {\n",
              "      const bk_div = document.createElement(\"div\");\n",
              "      bk_div.innerHTML = output.data[HTML_MIME_TYPE];\n",
              "      const script_attrs = bk_div.children[0].attributes;\n",
              "      for (let i = 0; i < script_attrs.length; i++) {\n",
              "        toinsert[toinsert.length - 1].firstChild.setAttribute(script_attrs[i].name, script_attrs[i].value);\n",
              "        toinsert[toinsert.length - 1].firstChild.textContent = bk_div.children[0].textContent\n",
              "      }\n",
              "      // store reference to server id on output_area\n",
              "      output_area._bokeh_server_id = output.metadata[EXEC_MIME_TYPE][\"server_id\"];\n",
              "    }\n",
              "  }\n",
              "\n",
              "  function register_renderer(events, OutputArea) {\n",
              "\n",
              "    function append_mime(data, metadata, element) {\n",
              "      // create a DOM node to render to\n",
              "      const toinsert = this.create_output_subarea(\n",
              "        metadata,\n",
              "        CLASS_NAME,\n",
              "        EXEC_MIME_TYPE\n",
              "      );\n",
              "      this.keyboard_manager.register_events(toinsert);\n",
              "      // Render to node\n",
              "      const props = {data: data, metadata: metadata[EXEC_MIME_TYPE]};\n",
              "      render(props, toinsert[toinsert.length - 1]);\n",
              "      element.append(toinsert);\n",
              "      return toinsert\n",
              "    }\n",
              "\n",
              "    /* Handle when an output is cleared or removed */\n",
              "    events.on('clear_output.CodeCell', handleClearOutput);\n",
              "    events.on('delete.Cell', handleClearOutput);\n",
              "\n",
              "    /* Handle when a new output is added */\n",
              "    events.on('output_added.OutputArea', handleAddOutput);\n",
              "\n",
              "    /**\n",
              "     * Register the mime type and append_mime function with output_area\n",
              "     */\n",
              "    OutputArea.prototype.register_mime_type(EXEC_MIME_TYPE, append_mime, {\n",
              "      /* Is output safe? */\n",
              "      safe: true,\n",
              "      /* Index of renderer in `output_area.display_order` */\n",
              "      index: 0\n",
              "    });\n",
              "  }\n",
              "\n",
              "  // register the mime type if in Jupyter Notebook environment and previously unregistered\n",
              "  if (root.Jupyter !== undefined) {\n",
              "    const events = require('base/js/events');\n",
              "    const OutputArea = require('notebook/js/outputarea').OutputArea;\n",
              "\n",
              "    if (OutputArea.prototype.mime_types().indexOf(EXEC_MIME_TYPE) == -1) {\n",
              "      register_renderer(events, OutputArea);\n",
              "    }\n",
              "  }\n",
              "  if (typeof (root._bokeh_timeout) === \"undefined\" || force === true) {\n",
              "    root._bokeh_timeout = Date.now() + 5000;\n",
              "    root._bokeh_failed_load = false;\n",
              "  }\n",
              "\n",
              "  const NB_LOAD_WARNING = {'data': {'text/html':\n",
              "     \"<div style='background-color: #fdd'>\\n\"+\n",
              "     \"<p>\\n\"+\n",
              "     \"BokehJS does not appear to have successfully loaded. If loading BokehJS from CDN, this \\n\"+\n",
              "     \"may be due to a slow or bad network connection. Possible fixes:\\n\"+\n",
              "     \"</p>\\n\"+\n",
              "     \"<ul>\\n\"+\n",
              "     \"<li>re-rerun `output_notebook()` to attempt to load from CDN again, or</li>\\n\"+\n",
              "     \"<li>use INLINE resources instead, as so:</li>\\n\"+\n",
              "     \"</ul>\\n\"+\n",
              "     \"<code>\\n\"+\n",
              "     \"from bokeh.resources import INLINE\\n\"+\n",
              "     \"output_notebook(resources=INLINE)\\n\"+\n",
              "     \"</code>\\n\"+\n",
              "     \"</div>\"}};\n",
              "\n",
              "  function display_loaded(error = null) {\n",
              "    const el = document.getElementById(null);\n",
              "    if (el != null) {\n",
              "      const html = (() => {\n",
              "        if (typeof root.Bokeh === \"undefined\") {\n",
              "          if (error == null) {\n",
              "            return \"BokehJS is loading ...\";\n",
              "          } else {\n",
              "            return \"BokehJS failed to load.\";\n",
              "          }\n",
              "        } else {\n",
              "          const prefix = `BokehJS ${root.Bokeh.version}`;\n",
              "          if (error == null) {\n",
              "            return `${prefix} successfully loaded.`;\n",
              "          } else {\n",
              "            return `${prefix} <b>encountered errors</b> while loading and may not function as expected.`;\n",
              "          }\n",
              "        }\n",
              "      })();\n",
              "      el.innerHTML = html;\n",
              "\n",
              "      if (error != null) {\n",
              "        const wrapper = document.createElement(\"div\");\n",
              "        wrapper.style.overflow = \"auto\";\n",
              "        wrapper.style.height = \"5em\";\n",
              "        wrapper.style.resize = \"vertical\";\n",
              "        const content = document.createElement(\"div\");\n",
              "        content.style.fontFamily = \"monospace\";\n",
              "        content.style.whiteSpace = \"pre-wrap\";\n",
              "        content.style.backgroundColor = \"rgb(255, 221, 221)\";\n",
              "        content.textContent = error.stack ?? error.toString();\n",
              "        wrapper.append(content);\n",
              "        el.append(wrapper);\n",
              "      }\n",
              "    } else if (Date.now() < root._bokeh_timeout) {\n",
              "      setTimeout(() => display_loaded(error), 100);\n",
              "    }\n",
              "  }\n",
              "\n",
              "  function run_callbacks() {\n",
              "    try {\n",
              "      root._bokeh_onload_callbacks.forEach(function(callback) {\n",
              "        if (callback != null)\n",
              "          callback();\n",
              "      });\n",
              "    } finally {\n",
              "      delete root._bokeh_onload_callbacks\n",
              "    }\n",
              "    console.debug(\"Bokeh: all callbacks have finished\");\n",
              "  }\n",
              "\n",
              "  function load_libs(css_urls, js_urls, callback) {\n",
              "    if (css_urls == null) css_urls = [];\n",
              "    if (js_urls == null) js_urls = [];\n",
              "\n",
              "    root._bokeh_onload_callbacks.push(callback);\n",
              "    if (root._bokeh_is_loading > 0) {\n",
              "      console.debug(\"Bokeh: BokehJS is being loaded, scheduling callback at\", now());\n",
              "      return null;\n",
              "    }\n",
              "    if (js_urls == null || js_urls.length === 0) {\n",
              "      run_callbacks();\n",
              "      return null;\n",
              "    }\n",
              "    console.debug(\"Bokeh: BokehJS not loaded, scheduling load and callback at\", now());\n",
              "    root._bokeh_is_loading = css_urls.length + js_urls.length;\n",
              "\n",
              "    function on_load() {\n",
              "      root._bokeh_is_loading--;\n",
              "      if (root._bokeh_is_loading === 0) {\n",
              "        console.debug(\"Bokeh: all BokehJS libraries/stylesheets loaded\");\n",
              "        run_callbacks()\n",
              "      }\n",
              "    }\n",
              "\n",
              "    function on_error(url) {\n",
              "      console.error(\"failed to load \" + url);\n",
              "    }\n",
              "\n",
              "    for (let i = 0; i < css_urls.length; i++) {\n",
              "      const url = css_urls[i];\n",
              "      const element = document.createElement(\"link\");\n",
              "      element.onload = on_load;\n",
              "      element.onerror = on_error.bind(null, url);\n",
              "      element.rel = \"stylesheet\";\n",
              "      element.type = \"text/css\";\n",
              "      element.href = url;\n",
              "      console.debug(\"Bokeh: injecting link tag for BokehJS stylesheet: \", url);\n",
              "      document.body.appendChild(element);\n",
              "    }\n",
              "\n",
              "    for (let i = 0; i < js_urls.length; i++) {\n",
              "      const url = js_urls[i];\n",
              "      const element = document.createElement('script');\n",
              "      element.onload = on_load;\n",
              "      element.onerror = on_error.bind(null, url);\n",
              "      element.async = false;\n",
              "      element.src = url;\n",
              "      console.debug(\"Bokeh: injecting script tag for BokehJS library: \", url);\n",
              "      document.head.appendChild(element);\n",
              "    }\n",
              "  };\n",
              "\n",
              "  function inject_raw_css(css) {\n",
              "    const element = document.createElement(\"style\");\n",
              "    element.appendChild(document.createTextNode(css));\n",
              "    document.body.appendChild(element);\n",
              "  }\n",
              "\n",
              "  const js_urls = [\"https://cdn.bokeh.org/bokeh/release/bokeh-3.4.3.min.js\", \"https://cdn.bokeh.org/bokeh/release/bokeh-gl-3.4.3.min.js\", \"https://cdn.bokeh.org/bokeh/release/bokeh-widgets-3.4.3.min.js\", \"https://cdn.bokeh.org/bokeh/release/bokeh-tables-3.4.3.min.js\", \"https://cdn.bokeh.org/bokeh/release/bokeh-mathjax-3.4.3.min.js\"];\n",
              "  const css_urls = [];\n",
              "\n",
              "  const inline_js = [    function(Bokeh) {\n",
              "      Bokeh.set_log_level(\"info\");\n",
              "    },\n",
              "function(Bokeh) {\n",
              "    }\n",
              "  ];\n",
              "\n",
              "  function run_inline_js() {\n",
              "    if (root.Bokeh !== undefined || force === true) {\n",
              "      try {\n",
              "            for (let i = 0; i < inline_js.length; i++) {\n",
              "      inline_js[i].call(root, root.Bokeh);\n",
              "    }\n",
              "\n",
              "      } catch (error) {throw error;\n",
              "      }} else if (Date.now() < root._bokeh_timeout) {\n",
              "      setTimeout(run_inline_js, 100);\n",
              "    } else if (!root._bokeh_failed_load) {\n",
              "      console.log(\"Bokeh: BokehJS failed to load within specified timeout.\");\n",
              "      root._bokeh_failed_load = true;\n",
              "    } else if (force !== true) {\n",
              "      const cell = $(document.getElementById(null)).parents('.cell').data().cell;\n",
              "      cell.output_area.append_execute_result(NB_LOAD_WARNING)\n",
              "    }\n",
              "  }\n",
              "\n",
              "  if (root._bokeh_is_loading === 0) {\n",
              "    console.debug(\"Bokeh: BokehJS loaded, going straight to plotting\");\n",
              "    run_inline_js();\n",
              "  } else {\n",
              "    load_libs(css_urls, js_urls, function() {\n",
              "      console.debug(\"Bokeh: BokehJS plotting callback run at\", now());\n",
              "      run_inline_js();\n",
              "    });\n",
              "  }\n",
              "}(window));"
            ],
            "application/vnd.bokehjs_load.v0+json": "'use strict';\n(function(root) {\n  function now() {\n    return new Date();\n  }\n\n  const force = true;\n\n  if (typeof root._bokeh_onload_callbacks === \"undefined\" || force === true) {\n    root._bokeh_onload_callbacks = [];\n    root._bokeh_is_loading = undefined;\n  }\n\n\n  if (typeof (root._bokeh_timeout) === \"undefined\" || force === true) {\n    root._bokeh_timeout = Date.now() + 5000;\n    root._bokeh_failed_load = false;\n  }\n\n  const NB_LOAD_WARNING = {'data': {'text/html':\n     \"<div style='background-color: #fdd'>\\n\"+\n     \"<p>\\n\"+\n     \"BokehJS does not appear to have successfully loaded. If loading BokehJS from CDN, this \\n\"+\n     \"may be due to a slow or bad network connection. Possible fixes:\\n\"+\n     \"</p>\\n\"+\n     \"<ul>\\n\"+\n     \"<li>re-rerun `output_notebook()` to attempt to load from CDN again, or</li>\\n\"+\n     \"<li>use INLINE resources instead, as so:</li>\\n\"+\n     \"</ul>\\n\"+\n     \"<code>\\n\"+\n     \"from bokeh.resources import INLINE\\n\"+\n     \"output_notebook(resources=INLINE)\\n\"+\n     \"</code>\\n\"+\n     \"</div>\"}};\n\n  function display_loaded(error = null) {\n    const el = document.getElementById(null);\n    if (el != null) {\n      const html = (() => {\n        if (typeof root.Bokeh === \"undefined\") {\n          if (error == null) {\n            return \"BokehJS is loading ...\";\n          } else {\n            return \"BokehJS failed to load.\";\n          }\n        } else {\n          const prefix = `BokehJS ${root.Bokeh.version}`;\n          if (error == null) {\n            return `${prefix} successfully loaded.`;\n          } else {\n            return `${prefix} <b>encountered errors</b> while loading and may not function as expected.`;\n          }\n        }\n      })();\n      el.innerHTML = html;\n\n      if (error != null) {\n        const wrapper = document.createElement(\"div\");\n        wrapper.style.overflow = \"auto\";\n        wrapper.style.height = \"5em\";\n        wrapper.style.resize = \"vertical\";\n        const content = document.createElement(\"div\");\n        content.style.fontFamily = \"monospace\";\n        content.style.whiteSpace = \"pre-wrap\";\n        content.style.backgroundColor = \"rgb(255, 221, 221)\";\n        content.textContent = error.stack ?? error.toString();\n        wrapper.append(content);\n        el.append(wrapper);\n      }\n    } else if (Date.now() < root._bokeh_timeout) {\n      setTimeout(() => display_loaded(error), 100);\n    }\n  }\n\n  function run_callbacks() {\n    try {\n      root._bokeh_onload_callbacks.forEach(function(callback) {\n        if (callback != null)\n          callback();\n      });\n    } finally {\n      delete root._bokeh_onload_callbacks\n    }\n    console.debug(\"Bokeh: all callbacks have finished\");\n  }\n\n  function load_libs(css_urls, js_urls, callback) {\n    if (css_urls == null) css_urls = [];\n    if (js_urls == null) js_urls = [];\n\n    root._bokeh_onload_callbacks.push(callback);\n    if (root._bokeh_is_loading > 0) {\n      console.debug(\"Bokeh: BokehJS is being loaded, scheduling callback at\", now());\n      return null;\n    }\n    if (js_urls == null || js_urls.length === 0) {\n      run_callbacks();\n      return null;\n    }\n    console.debug(\"Bokeh: BokehJS not loaded, scheduling load and callback at\", now());\n    root._bokeh_is_loading = css_urls.length + js_urls.length;\n\n    function on_load() {\n      root._bokeh_is_loading--;\n      if (root._bokeh_is_loading === 0) {\n        console.debug(\"Bokeh: all BokehJS libraries/stylesheets loaded\");\n        run_callbacks()\n      }\n    }\n\n    function on_error(url) {\n      console.error(\"failed to load \" + url);\n    }\n\n    for (let i = 0; i < css_urls.length; i++) {\n      const url = css_urls[i];\n      const element = document.createElement(\"link\");\n      element.onload = on_load;\n      element.onerror = on_error.bind(null, url);\n      element.rel = \"stylesheet\";\n      element.type = \"text/css\";\n      element.href = url;\n      console.debug(\"Bokeh: injecting link tag for BokehJS stylesheet: \", url);\n      document.body.appendChild(element);\n    }\n\n    for (let i = 0; i < js_urls.length; i++) {\n      const url = js_urls[i];\n      const element = document.createElement('script');\n      element.onload = on_load;\n      element.onerror = on_error.bind(null, url);\n      element.async = false;\n      element.src = url;\n      console.debug(\"Bokeh: injecting script tag for BokehJS library: \", url);\n      document.head.appendChild(element);\n    }\n  };\n\n  function inject_raw_css(css) {\n    const element = document.createElement(\"style\");\n    element.appendChild(document.createTextNode(css));\n    document.body.appendChild(element);\n  }\n\n  const js_urls = [\"https://cdn.bokeh.org/bokeh/release/bokeh-3.4.3.min.js\", \"https://cdn.bokeh.org/bokeh/release/bokeh-gl-3.4.3.min.js\", \"https://cdn.bokeh.org/bokeh/release/bokeh-widgets-3.4.3.min.js\", \"https://cdn.bokeh.org/bokeh/release/bokeh-tables-3.4.3.min.js\", \"https://cdn.bokeh.org/bokeh/release/bokeh-mathjax-3.4.3.min.js\"];\n  const css_urls = [];\n\n  const inline_js = [    function(Bokeh) {\n      Bokeh.set_log_level(\"info\");\n    },\nfunction(Bokeh) {\n    }\n  ];\n\n  function run_inline_js() {\n    if (root.Bokeh !== undefined || force === true) {\n      try {\n            for (let i = 0; i < inline_js.length; i++) {\n      inline_js[i].call(root, root.Bokeh);\n    }\n\n      } catch (error) {throw error;\n      }} else if (Date.now() < root._bokeh_timeout) {\n      setTimeout(run_inline_js, 100);\n    } else if (!root._bokeh_failed_load) {\n      console.log(\"Bokeh: BokehJS failed to load within specified timeout.\");\n      root._bokeh_failed_load = true;\n    } else if (force !== true) {\n      const cell = $(document.getElementById(null)).parents('.cell').data().cell;\n      cell.output_area.append_execute_result(NB_LOAD_WARNING)\n    }\n  }\n\n  if (root._bokeh_is_loading === 0) {\n    console.debug(\"Bokeh: BokehJS loaded, going straight to plotting\");\n    run_inline_js();\n  } else {\n    load_libs(css_urls, js_urls, function() {\n      console.debug(\"Bokeh: BokehJS plotting callback run at\", now());\n      run_inline_js();\n    });\n  }\n}(window));"
          },
          "metadata": {}
        },
        {
          "output_type": "display_data",
          "data": {
            "text/html": [
              "\n",
              "  <div id=\"adcc9071-61de-476c-8484-1137269970ed\" data-root-id=\"p1004\" style=\"display: contents;\"></div>\n"
            ]
          },
          "metadata": {}
        },
        {
          "output_type": "display_data",
          "data": {
            "application/javascript": [
              "(function(root) {\n",
              "  function embed_document(root) {\n",
              "  const docs_json = {\"af71df46-603f-4e00-a930-480b3f7aed28\":{\"version\":\"3.4.3\",\"title\":\"Bokeh Application\",\"roots\":[{\"type\":\"object\",\"name\":\"Figure\",\"id\":\"p1004\",\"attributes\":{\"height\":400,\"x_range\":{\"type\":\"object\",\"name\":\"DataRange1d\",\"id\":\"p1005\"},\"y_range\":{\"type\":\"object\",\"name\":\"DataRange1d\",\"id\":\"p1006\"},\"x_scale\":{\"type\":\"object\",\"name\":\"LinearScale\",\"id\":\"p1013\"},\"y_scale\":{\"type\":\"object\",\"name\":\"LinearScale\",\"id\":\"p1014\"},\"title\":{\"type\":\"object\",\"name\":\"Title\",\"id\":\"p1011\"},\"renderers\":[{\"type\":\"object\",\"name\":\"GlyphRenderer\",\"id\":\"p1042\",\"attributes\":{\"data_source\":{\"type\":\"object\",\"name\":\"ColumnDataSource\",\"id\":\"p1001\",\"attributes\":{\"selected\":{\"type\":\"object\",\"name\":\"Selection\",\"id\":\"p1002\",\"attributes\":{\"indices\":[],\"line_indices\":[]}},\"selection_policy\":{\"type\":\"object\",\"name\":\"UnionRenderers\",\"id\":\"p1003\"},\"data\":{\"type\":\"map\",\"entries\":[[\"x\",{\"type\":\"ndarray\",\"array\":{\"type\":\"bytes\",\"data\":\"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\"},\"shape\":[1000],\"dtype\":\"float32\",\"order\":\"little\"}],[\"y\",{\"type\":\"ndarray\",\"array\":{\"type\":\"bytes\",\"data\":\"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\"},\"shape\":[1000],\"dtype\":\"float32\",\"order\":\"little\"}],[\"color\",[\"blue\",\"blue\",\"blue\",\"blue\",\"blue\",\"blue\",\"blue\",\"blue\",\"blue\",\"blue\",\"blue\",\"blue\",\"blue\",\"blue\",\"blue\",\"blue\",\"blue\",\"blue\",\"blue\",\"blue\",\"blue\",\"blue\",\"blue\",\"blue\",\"blue\",\"blue\",\"blue\",\"blue\",\"blue\",\"blue\",\"blue\",\"blue\",\"blue\",\"blue\",\"blue\",\"blue\",\"blue\",\"blue\",\"blue\",\"blue\",\"blue\",\"blue\",\"blue\",\"blue\",\"blue\",\"blue\",\"blue\",\"blue\",\"blue\",\"blue\",\"blue\",\"blue\",\"blue\",\"blue\",\"blue\",\"blue\",\"blue\",\"blue\",\"blue\",\"blue\",\"blue\",\"blue\",\"blue\",\"blue\",\"blue\",\"blue\",\"blue\",\"blue\",\"blue\",\"blue\",\"blue\",\"blue\",\"blue\",\"blue\",\"blue\",\"blue\",\"blue\",\"blue\",\"blue\",\"blue\",\"blue\",\"blue\",\"blue\",\"blue\",\"blue\",\"blue\",\"blue\",\"blue\",\"blue\",\"blue\",\"blue\",\"blue\",\"blue\",\"blue\",\"blue\",\"blue\",\"blue\",\"blue\",\"blue\",\"blue\",\"blue\",\"blue\",\"blue\",\"blue\",\"blue\",\"blue\",\"blue\",\"blue\",\"blue\",\"blue\",\"blue\",\"blue\",\"blue\",\"blue\",\"blue\",\"blue\",\"blue\",\"blue\",\"blue\",\"blue\",\"blue\",\"blue\",\"blue\",\"blue\",\"blue\",\"blue\",\"blue\",\"blue\",\"blue\",\"blue\",\"blue\",\"blue\",\"blue\",\"blue\",\"blue\",\"blue\",\"blue\",\"blue\",\"blue\",\"blue\",\"blue\",\"blue\",\"blue\",\"blue\",\"blue\",\"blue\",\"blue\",\"blue\",\"blue\",\"blue\",\"blue\",\"blue\",\"blue\",\"blue\",\"blue\",\"blue\",\"blue\",\"blue\",\"blue\",\"blue\",\"blue\",\"blue\",\"blue\",\"blue\",\"blue\",\"blue\",\"blue\",\"blue\",\"blue\",\"blue\",\"blue\",\"blue\",\"blue\",\"blue\",\"blue\",\"blue\",\"blue\",\"blue\",\"blue\",\"blue\",\"blue\",\"blue\",\"blue\",\"blue\",\"blue\",\"blue\",\"blue\",\"blue\",\"blue\",\"blue\",\"blue\",\"blue\",\"blue\",\"blue\",\"blue\",\"blue\",\"blue\",\"blue\",\"blue\",\"blue\",\"blue\",\"blue\",\"blue\",\"blue\",\"blue\",\"blue\",\"blue\",\"blue\",\"blue\",\"blue\",\"blue\",\"blue\",\"blue\",\"blue\",\"blue\",\"blue\",\"blue\",\"blue\",\"blue\",\"blue\",\"blue\",\"blue\",\"blue\",\"blue\",\"blue\",\"blue\",\"blue\",\"blue\",\"blue\",\"blue\",\"blue\",\"blue\",\"blue\",\"blue\",\"blue\",\"blue\",\"blue\",\"blue\",\"blue\",\"blue\",\"blue\",\"blue\",\"blue\",\"blue\",\"blue\",\"blue\",\"blue\",\"blue\",\"blue\",\"blue\",\"blue\",\"blue\",\"blue\",\"blue\",\"blue\",\"blue\",\"blue\",\"blue\",\"blue\",\"blue\",\"blue\",\"blue\",\"blue\",\"blue\",\"blue\",\"blue\",\"blue\",\"blue\",\"blue\",\"blue\",\"blue\",\"blue\",\"blue\",\"blue\",\"blue\",\"blue\",\"blue\",\"blue\",\"blue\",\"blue\",\"blue\",\"blue\",\"blue\",\"blue\",\"blue\",\"blue\",\"blue\",\"blue\",\"blue\",\"blue\",\"blue\",\"blue\",\"blue\",\"blue\",\"blue\",\"blue\",\"blue\",\"blue\",\"blue\",\"blue\",\"blue\",\"blue\",\"blue\",\"blue\",\"blue\",\"blue\",\"blue\",\"blue\",\"blue\",\"blue\",\"blue\",\"blue\",\"blue\",\"blue\",\"blue\",\"blue\",\"blue\",\"blue\",\"blue\",\"blue\",\"blue\",\"blue\",\"blue\",\"blue\",\"blue\",\"blue\",\"blue\",\"blue\",\"blue\",\"blue\",\"blue\",\"blue\",\"blue\",\"blue\",\"blue\",\"blue\",\"blue\",\"blue\",\"blue\",\"blue\",\"blue\",\"blue\",\"blue\",\"blue\",\"blue\",\"blue\",\"blue\",\"blue\",\"blue\",\"blue\",\"blue\",\"blue\",\"blue\",\"blue\",\"blue\",\"blue\",\"blue\",\"blue\",\"blue\",\"blue\",\"blue\",\"blue\",\"blue\",\"blue\",\"blue\",\"blue\",\"blue\",\"blue\",\"blue\",\"blue\",\"blue\",\"blue\",\"blue\",\"blue\",\"blue\",\"blue\",\"blue\",\"blue\",\"blue\",\"blue\",\"blue\",\"blue\",\"blue\",\"blue\",\"blue\",\"blue\",\"blue\",\"blue\",\"blue\",\"blue\",\"blue\",\"blue\",\"blue\",\"blue\",\"blue\",\"blue\",\"blue\",\"blue\",\"blue\",\"blue\",\"blue\",\"blue\",\"blue\",\"blue\",\"blue\",\"blue\",\"blue\",\"blue\",\"blue\",\"blue\",\"blue\",\"blue\",\"blue\",\"blue\",\"blue\",\"blue\",\"blue\",\"blue\",\"blue\",\"blue\",\"blue\",\"blue\",\"blue\",\"blue\",\"blue\",\"blue\",\"blue\",\"blue\",\"blue\",\"blue\",\"blue\",\"blue\",\"blue\",\"blue\",\"blue\",\"blue\",\"blue\",\"blue\",\"blue\",\"blue\",\"blue\",\"blue\",\"blue\",\"blue\",\"blue\",\"blue\",\"blue\",\"blue\",\"blue\",\"blue\",\"blue\",\"blue\",\"blue\",\"blue\",\"blue\",\"blue\",\"blue\",\"blue\",\"blue\",\"blue\",\"blue\",\"blue\",\"blue\",\"blue\",\"blue\",\"blue\",\"blue\",\"blue\",\"blue\",\"blue\",\"blue\",\"blue\",\"blue\",\"blue\",\"blue\",\"blue\",\"blue\",\"blue\",\"blue\",\"blue\",\"blue\",\"blue\",\"blue\",\"blue\",\"blue\",\"blue\",\"blue\",\"blue\",\"blue\",\"blue\",\"blue\",\"blue\",\"blue\",\"blue\",\"blue\",\"blue\",\"blue\",\"blue\",\"blue\",\"blue\",\"blue\",\"blue\",\"blue\",\"blue\",\"blue\",\"blue\",\"blue\",\"blue\",\"blue\",\"blue\",\"blue\",\"blue\",\"blue\",\"blue\",\"blue\",\"blue\",\"blue\",\"blue\",\"blue\",\"blue\",\"blue\",\"blue\",\"blue\",\"blue\",\"blue\",\"blue\",\"blue\",\"blue\",\"blue\",\"blue\",\"blue\",\"blue\",\"blue\",\"blue\",\"blue\",\"blue\",\"blue\",\"blue\",\"blue\",\"blue\",\"blue\",\"blue\",\"blue\",\"blue\",\"blue\",\"blue\",\"blue\",\"blue\",\"blue\",\"blue\",\"blue\",\"blue\",\"blue\",\"blue\",\"blue\",\"blue\",\"blue\",\"blue\",\"blue\",\"blue\",\"blue\",\"blue\",\"blue\",\"blue\",\"blue\",\"blue\",\"blue\",\"blue\",\"blue\",\"blue\",\"blue\",\"blue\",\"blue\",\"blue\",\"blue\",\"blue\",\"blue\",\"blue\",\"blue\",\"blue\",\"blue\",\"blue\",\"blue\",\"blue\",\"blue\",\"blue\",\"blue\",\"blue\",\"blue\",\"blue\",\"blue\",\"blue\",\"blue\",\"blue\",\"blue\",\"blue\",\"blue\",\"blue\",\"blue\",\"blue\",\"blue\",\"blue\",\"blue\",\"blue\",\"blue\",\"blue\",\"blue\",\"blue\",\"blue\",\"blue\",\"blue\",\"blue\",\"blue\",\"blue\",\"blue\",\"blue\",\"blue\",\"blue\",\"blue\",\"blue\",\"blue\",\"blue\",\"blue\",\"blue\",\"blue\",\"blue\",\"blue\",\"blue\",\"blue\",\"blue\",\"blue\",\"blue\",\"blue\",\"blue\",\"blue\",\"blue\",\"blue\",\"blue\",\"blue\",\"blue\",\"blue\",\"blue\",\"blue\",\"blue\",\"blue\",\"blue\",\"blue\",\"blue\",\"blue\",\"blue\",\"blue\",\"blue\",\"blue\",\"blue\",\"blue\",\"blue\",\"blue\",\"blue\",\"blue\",\"blue\",\"blue\",\"blue\",\"blue\",\"blue\",\"blue\",\"blue\",\"blue\",\"blue\",\"blue\",\"blue\",\"blue\",\"blue\",\"blue\",\"blue\",\"blue\",\"blue\",\"blue\",\"blue\",\"blue\",\"blue\",\"blue\",\"blue\",\"blue\",\"blue\",\"blue\",\"blue\",\"blue\",\"blue\",\"blue\",\"blue\",\"blue\",\"blue\",\"blue\",\"blue\",\"blue\",\"blue\",\"blue\",\"blue\",\"blue\",\"blue\",\"blue\",\"blue\",\"blue\",\"blue\",\"blue\",\"blue\",\"blue\",\"blue\",\"blue\",\"blue\",\"blue\",\"blue\",\"blue\",\"blue\",\"blue\",\"blue\",\"blue\",\"blue\",\"blue\",\"blue\",\"blue\",\"blue\",\"blue\",\"blue\",\"blue\",\"blue\",\"blue\",\"blue\",\"blue\",\"blue\",\"blue\",\"blue\",\"blue\",\"blue\",\"blue\",\"blue\",\"blue\",\"blue\",\"blue\",\"blue\",\"blue\",\"blue\",\"blue\",\"blue\",\"blue\",\"blue\",\"blue\",\"blue\",\"blue\",\"blue\",\"blue\",\"blue\",\"blue\",\"blue\",\"blue\",\"blue\",\"blue\",\"blue\",\"blue\",\"blue\",\"blue\",\"blue\",\"blue\",\"blue\",\"blue\",\"blue\",\"blue\",\"blue\",\"blue\",\"blue\",\"blue\",\"blue\",\"blue\",\"blue\",\"blue\",\"blue\",\"blue\",\"blue\",\"blue\",\"blue\",\"blue\",\"blue\",\"blue\",\"blue\",\"blue\",\"blue\",\"blue\",\"blue\",\"blue\",\"blue\",\"blue\",\"blue\",\"blue\",\"blue\",\"blue\",\"blue\",\"blue\",\"blue\",\"blue\",\"blue\",\"blue\",\"blue\",\"blue\",\"blue\",\"blue\",\"blue\",\"blue\",\"blue\",\"blue\",\"blue\",\"blue\",\"blue\",\"blue\",\"blue\",\"blue\",\"blue\",\"blue\",\"blue\",\"blue\",\"blue\",\"blue\",\"blue\",\"blue\",\"blue\",\"blue\",\"blue\",\"blue\",\"blue\",\"blue\",\"blue\",\"blue\",\"blue\",\"blue\",\"blue\",\"blue\",\"blue\",\"blue\",\"blue\",\"blue\",\"blue\",\"blue\",\"blue\",\"blue\",\"blue\",\"blue\",\"blue\",\"blue\",\"blue\",\"blue\",\"blue\",\"blue\",\"blue\",\"blue\",\"blue\",\"blue\",\"blue\",\"blue\",\"blue\",\"blue\",\"blue\",\"blue\",\"blue\",\"blue\",\"blue\",\"blue\",\"blue\",\"blue\",\"blue\",\"blue\",\"blue\",\"blue\",\"blue\",\"blue\",\"blue\",\"blue\",\"blue\",\"blue\",\"blue\",\"blue\",\"blue\",\"blue\",\"blue\",\"blue\",\"blue\",\"blue\",\"blue\",\"blue\",\"blue\",\"blue\",\"blue\",\"blue\",\"blue\",\"blue\",\"blue\",\"blue\",\"blue\",\"blue\",\"blue\",\"blue\",\"blue\",\"blue\",\"blue\",\"blue\",\"blue\",\"blue\",\"blue\",\"blue\",\"blue\",\"blue\",\"blue\",\"blue\",\"blue\",\"blue\",\"blue\",\"blue\",\"blue\",\"blue\",\"blue\",\"blue\",\"blue\",\"blue\",\"blue\",\"blue\",\"blue\",\"blue\",\"blue\",\"blue\",\"blue\",\"blue\",\"blue\",\"blue\",\"blue\",\"blue\",\"blue\",\"blue\",\"blue\",\"blue\",\"blue\",\"blue\",\"blue\",\"blue\",\"blue\",\"blue\",\"blue\",\"blue\",\"blue\",\"blue\",\"blue\",\"blue\",\"blue\",\"blue\",\"blue\",\"blue\",\"blue\",\"blue\",\"blue\",\"blue\",\"blue\",\"blue\",\"blue\",\"blue\",\"blue\",\"blue\",\"blue\",\"blue\",\"blue\",\"blue\",\"blue\",\"blue\",\"blue\",\"blue\",\"blue\",\"blue\",\"blue\",\"blue\",\"blue\",\"blue\",\"blue\",\"blue\",\"blue\",\"blue\",\"blue\",\"blue\",\"blue\",\"blue\",\"blue\",\"blue\",\"blue\",\"blue\",\"blue\",\"blue\",\"blue\",\"blue\",\"blue\",\"blue\",\"blue\",\"blue\",\"blue\",\"blue\",\"blue\"]],[\"token\",[\"<user>\",\".\",\":\",\"rt\",\",\",\"<repeat>\",\"<hashtag>\",\"<number>\",\"<url>\",\"!\",\"i\",\"a\",\"\\\"\",\"the\",\"?\",\"you\",\"to\",\"(\",\"<allcaps>\",\"<elong>\",\")\",\"me\",\"de\",\"<smile>\",\"\\uff01\",\"que\",\"and\",\"\\u3002\",\"-\",\"my\",\"no\",\"\\u3001\",\"is\",\"it\",\"\\u2026\",\"in\",\"n\",\"for\",\"/\",\"of\",\"la\",\"'s\",\"*\",\"do\",\"n't\",\"that\",\"on\",\"y\",\"'\",\"e\",\"o\",\"u\",\"en\",\"this\",\"el\",\"so\",\"be\",\"'m\",\"with\",\"just\",\">\",\"your\",\"^\",\"like\",\"have\",\"te\",\"at\",\"\\uff1f\",\"love\",\"se\",\"are\",\"<\",\"m\",\"r\",\"if\",\"all\",\"b\",\"\\u30fb\",\"not\",\"but\",\"we\",\"es\",\"ya\",\"&\",\"follow\",\"up\",\"what\",\"get\",\"lol\",\"un\",\"\\u2665\",\"lo\",\"when\",\"was\",\"\\u201c\",\"\\u201d\",\"one\",\"por\",\"si\",\"out\",\"_\",\"mi\",\"can\",\"<sadface>\",\"\\u0645\\u0646\",\"\\u2661\",\"\\u00b4\",\"he\",\"con\",\"they\",\"now\",\"go\",\"\\u060c\",\"para\",\"los\",\"know\",\"haha\",\"good\",\"tu\",\"back\",\"~\",\"about\",\"new\",\";\",\"as\",\"day\",\"how\",\"who\",\"will\",\"want\",\"people\",\"yo\",\"eu\",\"from\",\"di\",\"time\",\"<heart>\",\"s\",\"aku\",\"da\",\"'re\",\"<lolface>\",\"una\",\"got\",\"las\",\"more\",\"x\",\"she\",\"today\",\"\\uff08\",\">>\",\"k\",\"by\",\"or\",\"\\u0641\\u064a\",\"\\uff65\",\"too\",\"le\",\"\\u00e9\",\"|\",\"[\",\"\\uff09\",\"]\",\"see\",\"why\",\"yg\",\"ca\",\"como\",\"her\",\"\\u2014\",\"q\",\"need\",\"an\",\"na\",\"\\u7b11\",\"there\",\"\\u03c9\",\"happy\",\"im\",\"mas\",\"je\",\"life\",\"really\",\"make\",\"yang\",\"shit\",\"think\",\"t\",\"\\u2764\",\"n\\u00e3o\",\"never\",\"some\",\"\\uff5e\",\"oh\",\"\\u2605\",\"did\",\"would\",\"del\",\"`\",\"d\",\"please\",\"via\",\"much\",\"fuck\",\"al\",\"dia\",\"$\",\"\\u0648\",\"right\",\"best\",\"c\",\"going\",\"\\u0627\\u0644\\u0644\\u0647\",\"pero\",\"only\",\"has\",\"\\u266a\",\"'ll\",\"twitter\",\"=\",\"hahaha\",\"its\",\"nn\",\"\\uff40\",\"\\u00bf\",\"am\",\"say\",\"<neutralface>\",\"them\",\"here\",\"\\u0644\\u0627\",\"off\",\"still\",\"dan\",\"+\",\"night\",\"w\",\"ada\",\"someone\",\"even\",\"then\",\"\\u2606\",\"ni\",\"come\",\"com\",\"always\",\"man\",\"'ve\",\"been\",\"his\",\"itu\",\"\\u0639\\u0644\\u0649\",\"-_-\",\"\\u263a\",\"over\",\"um\",\"\\u0645\\u0627\",\"hate\",\"girl\",\"ai\",\"had\",\"pra\",\"todo\",\"mais\",\"feel\",\"let\",\"ini\",\"because\",\"\\uff9f\",\"thanks\",\"ah\",\"way\",\"ever\",\"look\",\"tweet\",\"followers\",\"should\",\"our\",\"xd\",\"aja\",\"esta\",\"school\",\"him\",\"ser\",\"take\",\"than\",\"video\",\"em\",\"last\",\"wanna\",\"does\",\"us\",\"miss\",\"l\",\"ga\",\"better\",\"well\",\"could\",\"\\u25bd\",\"%\",\"apa\",\"cuando\",\"team\",\"\\u2714\",\"@\",\"ok\",\"\\u061f\",\"\\u2022\",\"vida\",\"quiero\",\"les\",\"being\",\"real\",\"down\",\"kamu\",\"everyone\",\"gonna\",\"live\",\"tonight\",\"yes\",\"work\",\"ass\",\"retweet\",\"nada\",\"sama\",\"first\",\"<<\",\"photo\",\"tomorrow\",\"where\",\"god\",\"son\",\"ke\",\"ta\",\"f\",\"home\",\"lagi\",\"thank\",\"birthday\",\"\\u2588\",\"ha\",\"great\",\"lmao\",\"omg\",\"morning\",\"m\\u00e1s\",\"mau\",\"baby\",\"dont\",\"\\uff61\",\"their\",\"p\",\"things\",\"game\",\"pas\",\"bad\",\"year\",\"yeah\",\"su\",\"bitch\",\"\\u0432\",\"stop\",\"hoy\",\"something\",\"meu\",\"tak\",\"gak\",\"world\",\"amor\",\"h\",\"\\\\\",\"ver\",\"\\uff1b\",\"porque\",\"give\",\"these\",\"\\u0627\\u0644\\u0644\\u0647\\u0645\",\"were\",\"hay\",\"sleep\",\"gue\",\"every\",\"friends\",\"uma\",\"tell\",\"amo\",\"vou\",\"bien\",\"\\u00a1\",\"again\",\"\\uff3e\",\"\\uff0f\",\"done\",\"after\",\"todos\",\"girls\",\"guys\",\"getting\",\"big\",\"wait\",\"justin\",\"eh\",\"\\u2192\",\"kan\",\"kita\",\"jajaja\",\"wish\",\"said\",\"fucking\",\"show\",\"thing\",\"next\",\"voc\\u00ea\",\"nos\",\"little\",\"tengo\",\"keep\",\"person\",\"''\",\"\\u2200\",\"hope\",\"\\u0643\\u0644\",\"hey\",\"bisa\",\"free\",\"made\",\"foto\",\"va\",\"everything\",\"iya\",\"nigga\",\"eso\",\"et\",\"watch\",\"music\",\"week\",\"talk\",\"ne\",\"solo\",\"gente\",\"udah\",\"\\uff1a\",\"--\",\"\\uff3c\",\"mejor\",\"facebook\",\"ma\",\"v\",\"phone\",\"most\",\"same\",\"okay\",\"ik\",\"before\",\"minha\",\"days\",\"g\",\"ti\",\"damn\",\"nice\",\"voy\",\"vai\",\"call\",\"long\",\"tapi\",\"http\",\"sin\",\"nunca\",\"doing\",\"other\",\"find\",\"il\",\"sa\",\"sorry\",\"nya\",\"orang\",\"\\u00b0\",\"hard\",\"mean\",\"die\",\"\\u0627\\u0644\\u0644\\u064a\",\"tem\",\"soy\",\"este\",\"kalo\",\"s\\u00f3\",\"th\",\"win\",\"nothing\",\"into\",\"face\",\"cute\",\"'d\",\"gracias\",\"lah\",\"\\u0438\",\"any\",\"play\",\"\\u2190\",\"ko\",\"text\",\"\\u2323\",\"estoy\",\"tau\",\"ur\",\"buat\",\"#\",\"cause\",\"\\u044f\",\"put\",\"kau\",\"siempre\",\"juga\",\"casa\",\"\\u0623\\u0646\",\"help\",\"start\",\"feliz\",\"old\",\"ir\",\"very\",\"care\",\"bir\",\"makes\",\"song\",\"check\",\"watching\",\"ahora\",\"jadi\",\"os\",\"may\",\"friend\",\"beautiful\",\"heart\",\"ka\",\"vc\",\"mundo\",\"\\u043d\\u0430\",\"sure\",\"tan\",\"pretty\",\"aqui\",\"\\u043d\\u0435\",\"house\",\"\\u0631\\u062a\\u0648\\u064a\\u062a\",\"\\u064a\\u0627\",\"ja\",\"true\",\"muy\",\"away\",\"already\",\"actually\",\"believe\",\"try\",\"many\",\"ma\\u00f1ana\",\"mis\",\"lu\",\"those\",\"hot\",\"qu\\u00e9\",\"mal\",\"\\u0639\\u0646\",\"though\",\"ask\",\"amazing\",\"bed\",\"}\",\"two\",\"mom\",\"d\\u00eda\",\"ve\",\"dari\",\"gameinsight\",\"stay\",\"fun\",\"around\",\"van\",\"cont\",\"ready\",\"money\",\"bu\",\"funny\",\"cool\",\"hair\",\"\\u00e0\",\"tho\",\"{\",\"wo\",\"hi\",\"name\",\"tiene\",\"hahahaha\",\"pa\",\"algo\",\"gotta\",\"\\u0648\\u0644\\u0627\",\"boy\",\"another\",\"c'est\",\"hari\",\"jajajaja\",\"having\",\"cara\",\"jaja\",\"dm\",\"looking\",\"top\",\"android\",\"dah\",\"wow\",\"\\u2591\",\"eres\",\"ben\",\"must\",\"news\",\"met\",\"est\\u00e1\",\"nih\",\"family\",\"black\",\"thought\",\"nak\",\"super\",\"end\",\"hace\",\"remember\",\"ama\",\"party\",\"cant\",\"vamos\",\"anything\",\"anyone\",\"\\u0641\\u0648\\u0644\\u0648\",\"perfect\",\"guy\",\"vez\",\"christmas\",\"dos\",\"bueno\",\"nao\",\"years\",\"vote\",\"dormir\",\"bro\",\"else\",\"quien\",\"untuk\",\"jangan\",\"myself\",\"head\",\"mind\",\"gua\",\"talking\",\"while\",\"dat\",\"food\",\"\\u0434\",\"coming\",\"wkwk\",\"trying\",\"saya\",\"mucho\",\"without\",\"wrong\",\"\\u2019s\",\"baru\",\"__\",\"hehe\",\"hacer\",\"lot\",\"followed\",\"crazy\",\"hell\",\"feeling\",\"des\",\"kok\",\"j\",\"stats\",\"j'\",\"\\u0627\\u0646\",\"tweets\",\"non\",\"cosas\",\"era\",\"high\",\"niggas\",\"change\",\"movie\",\"xx\",\"mad\",\"sih\",\"sometimes\",\"deh\",\"allah\",\"through\",\"pour\",\"ela\",\"soon\",\"gone\",\"playing\",\"smile\",\"bukan\",\"tv\",\"fans\",\"hasta\",\"akan\",\"y'\",\"looks\",\"isso\",\"\\u270c\",\"tired\",\"boys\",\"might\",\"dong\",\"lg\",\"use\",\"maybe\",\"until\",\"menos\",\"own\",\"dengan\",\"eat\",\"ou\",\"weekend\",\"\\u02d8\",\"class\",\"ele\",\"harry\",\"iphone\",\"friday\",\"single\",\"ff\",\"awesome\",\"bout\",\"muito\",\"hoje\",\"\\u00ac\",\"dios\",\"such\",\"estar\",\"j\\u00e1\",\"quando\",\"esa\",\"making\",\"\\u2501\",\"times\",\"lmfao\",\"gw\",\"moment\",\"yet\",\"aw\",\"smh\",\"banget\",\"masih\",\"qui\",\"quem\",\"\\u2013\",\"leave\",\"du\",\"une\",\"guess\",\"hit\",\"\\u0441\",\"pm\",\"since\",\"pues\",\"est\",\"job\",\"\\uff89\",\"mana\",\"bom\",\"siapa\",\"suka\",\"bieber\",\"mention\",\"lebih\",\"favorite\",\"bitches\",\"forever\",\"\\u0644\\u064a\",\"final\",\"read\",\"alguien\",\"open\",\"yourself\",\"ese\",\"che\",\"sex\",\"yaa\",\"car\",\"direction\",\"tidak\",\"seu\",\"gets\",\"left\",\"re\",\"jam\",\"enough\",\"\\u0625\\u0644\\u0627\",\"once\",\"\\u2019\",\"part\",\"cada\",\"\\u5b9a\\u671f\",\"\\u0644\\u0643\",\"een\",\"seen\",\"kak\",\"as\\u00ed\",\"nem\",\"\\u0639\\u0645\\u0644\",\"white\",\"told\",\"says\",\"esto\",\"sad\",\"mo\",\"fue\",\"yah\",\"summer\",\"\\u0647\",\"\\u2b55\",\"\\u00bb\",\"thats\",\"\\u0645\\u0639\",\"posted\",\"wants\",\"agora\",\"together\",\"fan\",\"men\",\"hear\",\"full\",\"\\u2600\",\"sigo\",\"pq\",\"dulu\",\"plus\",\"foi\",\"tudo\",\"\\u0647\\u0648\",\"ill\",\"\\u3042\",\"thinking\",\"wtf\",\"pagi\",\"mama\",\"kalau\",\"hati\",\"sexy\",\"sayang\",\"baik\",\"semua\",\"hola\",\"went\",\"vos\",\"tanto\",\"finally\",\"fb\",\"sea\",\"stupid\",\"tus\",\"seriously\",\"hora\",\"min\",\"pic\",\"estas\",\"turn\",\"hours\",\"excited\",\"nah\",\"buy\",\"saying\",\"mah\",\"break\",\"needs\",\"ce\",\"room\",\"choice\",\"far\",\"dead\",\"quero\",\"saw\",\"kids\",\"lil\",\"whole\",\"puede\",\"fall\",\"sus\",\"lost\",\"asi\",\"word\",\"\\u2639\",\"also\",\"\\u0631\\u064a\\u062a\\u0648\\u064a\\u062a\",\"probably\",\"everybody\",\"tarde\",\"run\",\"sei\",\"follback\",\"forget\",\"sweet\",\"welcome\",\"selamat\",\"\\uff3f\",\"sur\",\"place\",\"gusta\",\"sabe\",\"androidgames\",\"tp\",\"tiempo\",\"\\u0628\\u0633\",\"sou\",\"tuh\",\"vs\",\"eyes\",\"\\u0627\\u0646\\u0627\",\"picture\",\"das\",\"meet\",\"anak\",\"persona\",\"essa\",\"bored\",\"following\",\"nadie\",\"nobody\",\"dice\",\"alone\",\"sick\",\"red\",\"city\",\"cinta\",\"\\u6708\",\"linda\",\"dream\",\"story\",\"km\",\"het\",\"waiting\",\"^_^\",\"mine\",\"\\u0447\\u0442\\u043e\",\"reason\",\"kk\",\"\\u0644\\u0648\",\"online\",\"fast\",\"udh\",\"wanted\",\"op\",\"others\",\"gay\",\"n\\u2019t\",\"used\",\"sem\",\"understand\",\"moi\",\"sm\",\"aint\",\"donde\",\"bem\",\"which\",\"ng\",\"followback\",\"punya\",\"late\",\"anda\",\"tidur\",\"puedo\",\"early\",\"nd\",\"personas\",\"banyak\",\"\\u2705\",\"\\u278a\",\"trust\",\"noche\",\"tl\",\"\\uff1e\",\"\\u00ab\",\"af\",\"move\",\"pro\",\"bring\",\"ku\",\"called\",\"relationship\",\"idk\",\"hurt\",\"st\",\"pernah\",\"pessoas\",\"hello\",\"uno\",\"unfollowers\",\"cry\"]]]}}},\"view\":{\"type\":\"object\",\"name\":\"CDSView\",\"id\":\"p1043\",\"attributes\":{\"filter\":{\"type\":\"object\",\"name\":\"AllIndices\",\"id\":\"p1044\"}}},\"glyph\":{\"type\":\"object\",\"name\":\"Scatter\",\"id\":\"p1039\",\"attributes\":{\"x\":{\"type\":\"field\",\"field\":\"x\"},\"y\":{\"type\":\"field\",\"field\":\"y\"},\"size\":{\"type\":\"value\",\"value\":10},\"line_color\":{\"type\":\"field\",\"field\":\"color\"},\"line_alpha\":{\"type\":\"value\",\"value\":0.25},\"fill_color\":{\"type\":\"field\",\"field\":\"color\"},\"fill_alpha\":{\"type\":\"value\",\"value\":0.25},\"hatch_color\":{\"type\":\"field\",\"field\":\"color\"},\"hatch_alpha\":{\"type\":\"value\",\"value\":0.25}}},\"nonselection_glyph\":{\"type\":\"object\",\"name\":\"Scatter\",\"id\":\"p1040\",\"attributes\":{\"x\":{\"type\":\"field\",\"field\":\"x\"},\"y\":{\"type\":\"field\",\"field\":\"y\"},\"size\":{\"type\":\"value\",\"value\":10},\"line_color\":{\"type\":\"field\",\"field\":\"color\"},\"line_alpha\":{\"type\":\"value\",\"value\":0.1},\"fill_color\":{\"type\":\"field\",\"field\":\"color\"},\"fill_alpha\":{\"type\":\"value\",\"value\":0.1},\"hatch_color\":{\"type\":\"field\",\"field\":\"color\"},\"hatch_alpha\":{\"type\":\"value\",\"value\":0.1}}},\"muted_glyph\":{\"type\":\"object\",\"name\":\"Scatter\",\"id\":\"p1041\",\"attributes\":{\"x\":{\"type\":\"field\",\"field\":\"x\"},\"y\":{\"type\":\"field\",\"field\":\"y\"},\"size\":{\"type\":\"value\",\"value\":10},\"line_color\":{\"type\":\"field\",\"field\":\"color\"},\"line_alpha\":{\"type\":\"value\",\"value\":0.2},\"fill_color\":{\"type\":\"field\",\"field\":\"color\"},\"fill_alpha\":{\"type\":\"value\",\"value\":0.2},\"hatch_color\":{\"type\":\"field\",\"field\":\"color\"},\"hatch_alpha\":{\"type\":\"value\",\"value\":0.2}}}}}],\"toolbar\":{\"type\":\"object\",\"name\":\"Toolbar\",\"id\":\"p1012\",\"attributes\":{\"tools\":[{\"type\":\"object\",\"name\":\"PanTool\",\"id\":\"p1025\"},{\"type\":\"object\",\"name\":\"WheelZoomTool\",\"id\":\"p1026\",\"attributes\":{\"renderers\":\"auto\"}},{\"type\":\"object\",\"name\":\"BoxZoomTool\",\"id\":\"p1027\",\"attributes\":{\"overlay\":{\"type\":\"object\",\"name\":\"BoxAnnotation\",\"id\":\"p1028\",\"attributes\":{\"syncable\":false,\"level\":\"overlay\",\"visible\":false,\"left\":{\"type\":\"number\",\"value\":\"nan\"},\"right\":{\"type\":\"number\",\"value\":\"nan\"},\"top\":{\"type\":\"number\",\"value\":\"nan\"},\"bottom\":{\"type\":\"number\",\"value\":\"nan\"},\"left_units\":\"canvas\",\"right_units\":\"canvas\",\"top_units\":\"canvas\",\"bottom_units\":\"canvas\",\"line_color\":\"black\",\"line_alpha\":1.0,\"line_width\":2,\"line_dash\":[4,4],\"fill_color\":\"lightgrey\",\"fill_alpha\":0.5}}}},{\"type\":\"object\",\"name\":\"SaveTool\",\"id\":\"p1033\"},{\"type\":\"object\",\"name\":\"ResetTool\",\"id\":\"p1034\"},{\"type\":\"object\",\"name\":\"HelpTool\",\"id\":\"p1035\"},{\"type\":\"object\",\"name\":\"HoverTool\",\"id\":\"p1045\",\"attributes\":{\"renderers\":\"auto\",\"tooltips\":[[\"token\",\"@token\"]]}}],\"active_scroll\":{\"id\":\"p1026\"}}},\"left\":[{\"type\":\"object\",\"name\":\"LinearAxis\",\"id\":\"p1020\",\"attributes\":{\"ticker\":{\"type\":\"object\",\"name\":\"BasicTicker\",\"id\":\"p1021\",\"attributes\":{\"mantissas\":[1,2,5]}},\"formatter\":{\"type\":\"object\",\"name\":\"BasicTickFormatter\",\"id\":\"p1022\"},\"major_label_policy\":{\"type\":\"object\",\"name\":\"AllLabels\",\"id\":\"p1023\"}}}],\"below\":[{\"type\":\"object\",\"name\":\"LinearAxis\",\"id\":\"p1015\",\"attributes\":{\"ticker\":{\"type\":\"object\",\"name\":\"BasicTicker\",\"id\":\"p1016\",\"attributes\":{\"mantissas\":[1,2,5]}},\"formatter\":{\"type\":\"object\",\"name\":\"BasicTickFormatter\",\"id\":\"p1017\"},\"major_label_policy\":{\"type\":\"object\",\"name\":\"AllLabels\",\"id\":\"p1018\"}}}],\"center\":[{\"type\":\"object\",\"name\":\"Grid\",\"id\":\"p1019\",\"attributes\":{\"axis\":{\"id\":\"p1015\"}}},{\"type\":\"object\",\"name\":\"Grid\",\"id\":\"p1024\",\"attributes\":{\"dimension\":1,\"axis\":{\"id\":\"p1020\"}}}]}}]}};\n",
              "  const render_items = [{\"docid\":\"af71df46-603f-4e00-a930-480b3f7aed28\",\"roots\":{\"p1004\":\"adcc9071-61de-476c-8484-1137269970ed\"},\"root_ids\":[\"p1004\"]}];\n",
              "  void root.Bokeh.embed.embed_items_notebook(docs_json, render_items);\n",
              "  }\n",
              "  if (root.Bokeh !== undefined) {\n",
              "    embed_document(root);\n",
              "  } else {\n",
              "    let attempts = 0;\n",
              "    const timer = setInterval(function(root) {\n",
              "      if (root.Bokeh !== undefined) {\n",
              "        clearInterval(timer);\n",
              "        embed_document(root);\n",
              "      } else {\n",
              "        attempts++;\n",
              "        if (attempts > 100) {\n",
              "          clearInterval(timer);\n",
              "          console.log(\"Bokeh: ERROR: Unable to run BokehJS code because BokehJS library is missing\");\n",
              "        }\n",
              "      }\n",
              "    }, 10, root)\n",
              "  }\n",
              "})(window);"
            ],
            "application/vnd.bokehjs_exec.v0+json": ""
          },
          "metadata": {
            "application/vnd.bokehjs_exec.v0+json": {
              "id": "p1004"
            }
          }
        }
      ],
      "source": [
        "draw_vectors(word_vectors_pca[:, 0], word_vectors_pca[:, 1], token=words)\n",
        "\n",
        "# hover a mouse over there and see if you can identify the clusters\n",
        "pass"
      ]
    },
    {
      "cell_type": "markdown",
      "metadata": {
        "id": "DfezCO9QzT0u"
      },
      "source": [
        "### Visualizing neighbors with t-SNE\n",
        "PCA is nice but it's strictly linear and thus only able to capture coarse high-level structure of the data.\n",
        "\n",
        "If we instead want to focus on keeping neighboring points near, we could use TSNE, which is itself an embedding method. Here you can read __[more on TSNE](https://distill.pub/2016/misread-tsne/)__."
      ]
    },
    {
      "cell_type": "code",
      "execution_count": 19,
      "metadata": {
        "id": "E-r-oLV5zT0u"
      },
      "outputs": [],
      "source": [
        "from sklearn.manifold import TSNE\n",
        "\n",
        "# map word vectors onto 2d plane with TSNE. hint: don't panic it may take a minute or two to fit.\n",
        "# normalize them as just lke with pca\n",
        "\n",
        "transformed = TSNE().fit_transform(word_vectors)\n",
        "word_tsne = (transformed - transformed.mean(0))/transformed.std(0) #YOUR CODE"
      ]
    },
    {
      "cell_type": "code",
      "source": [
        "assert word_tsne.shape == (len(word_vectors), 2), \"there must be a 2d vector for each word\"\n",
        "assert max(abs(word_tsne.mean(0))) < 1e-5, \"points must be zero-centered\"\n",
        "assert max(abs(1.0 - word_tsne.std(0))) < 1e-2, \"points must have unit variance\""
      ],
      "metadata": {
        "id": "vGT0XVOM7GeM"
      },
      "execution_count": 20,
      "outputs": []
    },
    {
      "cell_type": "code",
      "execution_count": 21,
      "metadata": {
        "collapsed": true,
        "scrolled": false,
        "id": "1gYz8RxlzT0u",
        "outputId": "09c81dd0-18e8-484c-dc54-60f9f05ce085",
        "colab": {
          "base_uri": "https://localhost:8080/",
          "height": 417
        }
      },
      "outputs": [
        {
          "output_type": "display_data",
          "data": {
            "application/javascript": [
              "'use strict';\n",
              "(function(root) {\n",
              "  function now() {\n",
              "    return new Date();\n",
              "  }\n",
              "\n",
              "  const force = true;\n",
              "\n",
              "  if (typeof root._bokeh_onload_callbacks === \"undefined\" || force === true) {\n",
              "    root._bokeh_onload_callbacks = [];\n",
              "    root._bokeh_is_loading = undefined;\n",
              "  }\n",
              "\n",
              "const JS_MIME_TYPE = 'application/javascript';\n",
              "  const HTML_MIME_TYPE = 'text/html';\n",
              "  const EXEC_MIME_TYPE = 'application/vnd.bokehjs_exec.v0+json';\n",
              "  const CLASS_NAME = 'output_bokeh rendered_html';\n",
              "\n",
              "  /**\n",
              "   * Render data to the DOM node\n",
              "   */\n",
              "  function render(props, node) {\n",
              "    const script = document.createElement(\"script\");\n",
              "    node.appendChild(script);\n",
              "  }\n",
              "\n",
              "  /**\n",
              "   * Handle when an output is cleared or removed\n",
              "   */\n",
              "  function handleClearOutput(event, handle) {\n",
              "    function drop(id) {\n",
              "      const view = Bokeh.index.get_by_id(id)\n",
              "      if (view != null) {\n",
              "        view.model.document.clear()\n",
              "        Bokeh.index.delete(view)\n",
              "      }\n",
              "    }\n",
              "\n",
              "    const cell = handle.cell;\n",
              "\n",
              "    const id = cell.output_area._bokeh_element_id;\n",
              "    const server_id = cell.output_area._bokeh_server_id;\n",
              "\n",
              "    // Clean up Bokeh references\n",
              "    if (id != null) {\n",
              "      drop(id)\n",
              "    }\n",
              "\n",
              "    if (server_id !== undefined) {\n",
              "      // Clean up Bokeh references\n",
              "      const cmd_clean = \"from bokeh.io.state import curstate; print(curstate().uuid_to_server['\" + server_id + \"'].get_sessions()[0].document.roots[0]._id)\";\n",
              "      cell.notebook.kernel.execute(cmd_clean, {\n",
              "        iopub: {\n",
              "          output: function(msg) {\n",
              "            const id = msg.content.text.trim()\n",
              "            drop(id)\n",
              "          }\n",
              "        }\n",
              "      });\n",
              "      // Destroy server and session\n",
              "      const cmd_destroy = \"import bokeh.io.notebook as ion; ion.destroy_server('\" + server_id + \"')\";\n",
              "      cell.notebook.kernel.execute(cmd_destroy);\n",
              "    }\n",
              "  }\n",
              "\n",
              "  /**\n",
              "   * Handle when a new output is added\n",
              "   */\n",
              "  function handleAddOutput(event, handle) {\n",
              "    const output_area = handle.output_area;\n",
              "    const output = handle.output;\n",
              "\n",
              "    // limit handleAddOutput to display_data with EXEC_MIME_TYPE content only\n",
              "    if ((output.output_type != \"display_data\") || (!Object.prototype.hasOwnProperty.call(output.data, EXEC_MIME_TYPE))) {\n",
              "      return\n",
              "    }\n",
              "\n",
              "    const toinsert = output_area.element.find(\".\" + CLASS_NAME.split(' ')[0]);\n",
              "\n",
              "    if (output.metadata[EXEC_MIME_TYPE][\"id\"] !== undefined) {\n",
              "      toinsert[toinsert.length - 1].firstChild.textContent = output.data[JS_MIME_TYPE];\n",
              "      // store reference to embed id on output_area\n",
              "      output_area._bokeh_element_id = output.metadata[EXEC_MIME_TYPE][\"id\"];\n",
              "    }\n",
              "    if (output.metadata[EXEC_MIME_TYPE][\"server_id\"] !== undefined) {\n",
              "      const bk_div = document.createElement(\"div\");\n",
              "      bk_div.innerHTML = output.data[HTML_MIME_TYPE];\n",
              "      const script_attrs = bk_div.children[0].attributes;\n",
              "      for (let i = 0; i < script_attrs.length; i++) {\n",
              "        toinsert[toinsert.length - 1].firstChild.setAttribute(script_attrs[i].name, script_attrs[i].value);\n",
              "        toinsert[toinsert.length - 1].firstChild.textContent = bk_div.children[0].textContent\n",
              "      }\n",
              "      // store reference to server id on output_area\n",
              "      output_area._bokeh_server_id = output.metadata[EXEC_MIME_TYPE][\"server_id\"];\n",
              "    }\n",
              "  }\n",
              "\n",
              "  function register_renderer(events, OutputArea) {\n",
              "\n",
              "    function append_mime(data, metadata, element) {\n",
              "      // create a DOM node to render to\n",
              "      const toinsert = this.create_output_subarea(\n",
              "        metadata,\n",
              "        CLASS_NAME,\n",
              "        EXEC_MIME_TYPE\n",
              "      );\n",
              "      this.keyboard_manager.register_events(toinsert);\n",
              "      // Render to node\n",
              "      const props = {data: data, metadata: metadata[EXEC_MIME_TYPE]};\n",
              "      render(props, toinsert[toinsert.length - 1]);\n",
              "      element.append(toinsert);\n",
              "      return toinsert\n",
              "    }\n",
              "\n",
              "    /* Handle when an output is cleared or removed */\n",
              "    events.on('clear_output.CodeCell', handleClearOutput);\n",
              "    events.on('delete.Cell', handleClearOutput);\n",
              "\n",
              "    /* Handle when a new output is added */\n",
              "    events.on('output_added.OutputArea', handleAddOutput);\n",
              "\n",
              "    /**\n",
              "     * Register the mime type and append_mime function with output_area\n",
              "     */\n",
              "    OutputArea.prototype.register_mime_type(EXEC_MIME_TYPE, append_mime, {\n",
              "      /* Is output safe? */\n",
              "      safe: true,\n",
              "      /* Index of renderer in `output_area.display_order` */\n",
              "      index: 0\n",
              "    });\n",
              "  }\n",
              "\n",
              "  // register the mime type if in Jupyter Notebook environment and previously unregistered\n",
              "  if (root.Jupyter !== undefined) {\n",
              "    const events = require('base/js/events');\n",
              "    const OutputArea = require('notebook/js/outputarea').OutputArea;\n",
              "\n",
              "    if (OutputArea.prototype.mime_types().indexOf(EXEC_MIME_TYPE) == -1) {\n",
              "      register_renderer(events, OutputArea);\n",
              "    }\n",
              "  }\n",
              "  if (typeof (root._bokeh_timeout) === \"undefined\" || force === true) {\n",
              "    root._bokeh_timeout = Date.now() + 5000;\n",
              "    root._bokeh_failed_load = false;\n",
              "  }\n",
              "\n",
              "  const NB_LOAD_WARNING = {'data': {'text/html':\n",
              "     \"<div style='background-color: #fdd'>\\n\"+\n",
              "     \"<p>\\n\"+\n",
              "     \"BokehJS does not appear to have successfully loaded. If loading BokehJS from CDN, this \\n\"+\n",
              "     \"may be due to a slow or bad network connection. Possible fixes:\\n\"+\n",
              "     \"</p>\\n\"+\n",
              "     \"<ul>\\n\"+\n",
              "     \"<li>re-rerun `output_notebook()` to attempt to load from CDN again, or</li>\\n\"+\n",
              "     \"<li>use INLINE resources instead, as so:</li>\\n\"+\n",
              "     \"</ul>\\n\"+\n",
              "     \"<code>\\n\"+\n",
              "     \"from bokeh.resources import INLINE\\n\"+\n",
              "     \"output_notebook(resources=INLINE)\\n\"+\n",
              "     \"</code>\\n\"+\n",
              "     \"</div>\"}};\n",
              "\n",
              "  function display_loaded(error = null) {\n",
              "    const el = document.getElementById(null);\n",
              "    if (el != null) {\n",
              "      const html = (() => {\n",
              "        if (typeof root.Bokeh === \"undefined\") {\n",
              "          if (error == null) {\n",
              "            return \"BokehJS is loading ...\";\n",
              "          } else {\n",
              "            return \"BokehJS failed to load.\";\n",
              "          }\n",
              "        } else {\n",
              "          const prefix = `BokehJS ${root.Bokeh.version}`;\n",
              "          if (error == null) {\n",
              "            return `${prefix} successfully loaded.`;\n",
              "          } else {\n",
              "            return `${prefix} <b>encountered errors</b> while loading and may not function as expected.`;\n",
              "          }\n",
              "        }\n",
              "      })();\n",
              "      el.innerHTML = html;\n",
              "\n",
              "      if (error != null) {\n",
              "        const wrapper = document.createElement(\"div\");\n",
              "        wrapper.style.overflow = \"auto\";\n",
              "        wrapper.style.height = \"5em\";\n",
              "        wrapper.style.resize = \"vertical\";\n",
              "        const content = document.createElement(\"div\");\n",
              "        content.style.fontFamily = \"monospace\";\n",
              "        content.style.whiteSpace = \"pre-wrap\";\n",
              "        content.style.backgroundColor = \"rgb(255, 221, 221)\";\n",
              "        content.textContent = error.stack ?? error.toString();\n",
              "        wrapper.append(content);\n",
              "        el.append(wrapper);\n",
              "      }\n",
              "    } else if (Date.now() < root._bokeh_timeout) {\n",
              "      setTimeout(() => display_loaded(error), 100);\n",
              "    }\n",
              "  }\n",
              "\n",
              "  function run_callbacks() {\n",
              "    try {\n",
              "      root._bokeh_onload_callbacks.forEach(function(callback) {\n",
              "        if (callback != null)\n",
              "          callback();\n",
              "      });\n",
              "    } finally {\n",
              "      delete root._bokeh_onload_callbacks\n",
              "    }\n",
              "    console.debug(\"Bokeh: all callbacks have finished\");\n",
              "  }\n",
              "\n",
              "  function load_libs(css_urls, js_urls, callback) {\n",
              "    if (css_urls == null) css_urls = [];\n",
              "    if (js_urls == null) js_urls = [];\n",
              "\n",
              "    root._bokeh_onload_callbacks.push(callback);\n",
              "    if (root._bokeh_is_loading > 0) {\n",
              "      console.debug(\"Bokeh: BokehJS is being loaded, scheduling callback at\", now());\n",
              "      return null;\n",
              "    }\n",
              "    if (js_urls == null || js_urls.length === 0) {\n",
              "      run_callbacks();\n",
              "      return null;\n",
              "    }\n",
              "    console.debug(\"Bokeh: BokehJS not loaded, scheduling load and callback at\", now());\n",
              "    root._bokeh_is_loading = css_urls.length + js_urls.length;\n",
              "\n",
              "    function on_load() {\n",
              "      root._bokeh_is_loading--;\n",
              "      if (root._bokeh_is_loading === 0) {\n",
              "        console.debug(\"Bokeh: all BokehJS libraries/stylesheets loaded\");\n",
              "        run_callbacks()\n",
              "      }\n",
              "    }\n",
              "\n",
              "    function on_error(url) {\n",
              "      console.error(\"failed to load \" + url);\n",
              "    }\n",
              "\n",
              "    for (let i = 0; i < css_urls.length; i++) {\n",
              "      const url = css_urls[i];\n",
              "      const element = document.createElement(\"link\");\n",
              "      element.onload = on_load;\n",
              "      element.onerror = on_error.bind(null, url);\n",
              "      element.rel = \"stylesheet\";\n",
              "      element.type = \"text/css\";\n",
              "      element.href = url;\n",
              "      console.debug(\"Bokeh: injecting link tag for BokehJS stylesheet: \", url);\n",
              "      document.body.appendChild(element);\n",
              "    }\n",
              "\n",
              "    for (let i = 0; i < js_urls.length; i++) {\n",
              "      const url = js_urls[i];\n",
              "      const element = document.createElement('script');\n",
              "      element.onload = on_load;\n",
              "      element.onerror = on_error.bind(null, url);\n",
              "      element.async = false;\n",
              "      element.src = url;\n",
              "      console.debug(\"Bokeh: injecting script tag for BokehJS library: \", url);\n",
              "      document.head.appendChild(element);\n",
              "    }\n",
              "  };\n",
              "\n",
              "  function inject_raw_css(css) {\n",
              "    const element = document.createElement(\"style\");\n",
              "    element.appendChild(document.createTextNode(css));\n",
              "    document.body.appendChild(element);\n",
              "  }\n",
              "\n",
              "  const js_urls = [\"https://cdn.bokeh.org/bokeh/release/bokeh-3.4.3.min.js\", \"https://cdn.bokeh.org/bokeh/release/bokeh-gl-3.4.3.min.js\", \"https://cdn.bokeh.org/bokeh/release/bokeh-widgets-3.4.3.min.js\", \"https://cdn.bokeh.org/bokeh/release/bokeh-tables-3.4.3.min.js\", \"https://cdn.bokeh.org/bokeh/release/bokeh-mathjax-3.4.3.min.js\"];\n",
              "  const css_urls = [];\n",
              "\n",
              "  const inline_js = [    function(Bokeh) {\n",
              "      Bokeh.set_log_level(\"info\");\n",
              "    },\n",
              "function(Bokeh) {\n",
              "    }\n",
              "  ];\n",
              "\n",
              "  function run_inline_js() {\n",
              "    if (root.Bokeh !== undefined || force === true) {\n",
              "      try {\n",
              "            for (let i = 0; i < inline_js.length; i++) {\n",
              "      inline_js[i].call(root, root.Bokeh);\n",
              "    }\n",
              "\n",
              "      } catch (error) {throw error;\n",
              "      }} else if (Date.now() < root._bokeh_timeout) {\n",
              "      setTimeout(run_inline_js, 100);\n",
              "    } else if (!root._bokeh_failed_load) {\n",
              "      console.log(\"Bokeh: BokehJS failed to load within specified timeout.\");\n",
              "      root._bokeh_failed_load = true;\n",
              "    } else if (force !== true) {\n",
              "      const cell = $(document.getElementById(null)).parents('.cell').data().cell;\n",
              "      cell.output_area.append_execute_result(NB_LOAD_WARNING)\n",
              "    }\n",
              "  }\n",
              "\n",
              "  if (root._bokeh_is_loading === 0) {\n",
              "    console.debug(\"Bokeh: BokehJS loaded, going straight to plotting\");\n",
              "    run_inline_js();\n",
              "  } else {\n",
              "    load_libs(css_urls, js_urls, function() {\n",
              "      console.debug(\"Bokeh: BokehJS plotting callback run at\", now());\n",
              "      run_inline_js();\n",
              "    });\n",
              "  }\n",
              "}(window));"
            ],
            "application/vnd.bokehjs_load.v0+json": "'use strict';\n(function(root) {\n  function now() {\n    return new Date();\n  }\n\n  const force = true;\n\n  if (typeof root._bokeh_onload_callbacks === \"undefined\" || force === true) {\n    root._bokeh_onload_callbacks = [];\n    root._bokeh_is_loading = undefined;\n  }\n\n\n  if (typeof (root._bokeh_timeout) === \"undefined\" || force === true) {\n    root._bokeh_timeout = Date.now() + 5000;\n    root._bokeh_failed_load = false;\n  }\n\n  const NB_LOAD_WARNING = {'data': {'text/html':\n     \"<div style='background-color: #fdd'>\\n\"+\n     \"<p>\\n\"+\n     \"BokehJS does not appear to have successfully loaded. If loading BokehJS from CDN, this \\n\"+\n     \"may be due to a slow or bad network connection. Possible fixes:\\n\"+\n     \"</p>\\n\"+\n     \"<ul>\\n\"+\n     \"<li>re-rerun `output_notebook()` to attempt to load from CDN again, or</li>\\n\"+\n     \"<li>use INLINE resources instead, as so:</li>\\n\"+\n     \"</ul>\\n\"+\n     \"<code>\\n\"+\n     \"from bokeh.resources import INLINE\\n\"+\n     \"output_notebook(resources=INLINE)\\n\"+\n     \"</code>\\n\"+\n     \"</div>\"}};\n\n  function display_loaded(error = null) {\n    const el = document.getElementById(null);\n    if (el != null) {\n      const html = (() => {\n        if (typeof root.Bokeh === \"undefined\") {\n          if (error == null) {\n            return \"BokehJS is loading ...\";\n          } else {\n            return \"BokehJS failed to load.\";\n          }\n        } else {\n          const prefix = `BokehJS ${root.Bokeh.version}`;\n          if (error == null) {\n            return `${prefix} successfully loaded.`;\n          } else {\n            return `${prefix} <b>encountered errors</b> while loading and may not function as expected.`;\n          }\n        }\n      })();\n      el.innerHTML = html;\n\n      if (error != null) {\n        const wrapper = document.createElement(\"div\");\n        wrapper.style.overflow = \"auto\";\n        wrapper.style.height = \"5em\";\n        wrapper.style.resize = \"vertical\";\n        const content = document.createElement(\"div\");\n        content.style.fontFamily = \"monospace\";\n        content.style.whiteSpace = \"pre-wrap\";\n        content.style.backgroundColor = \"rgb(255, 221, 221)\";\n        content.textContent = error.stack ?? error.toString();\n        wrapper.append(content);\n        el.append(wrapper);\n      }\n    } else if (Date.now() < root._bokeh_timeout) {\n      setTimeout(() => display_loaded(error), 100);\n    }\n  }\n\n  function run_callbacks() {\n    try {\n      root._bokeh_onload_callbacks.forEach(function(callback) {\n        if (callback != null)\n          callback();\n      });\n    } finally {\n      delete root._bokeh_onload_callbacks\n    }\n    console.debug(\"Bokeh: all callbacks have finished\");\n  }\n\n  function load_libs(css_urls, js_urls, callback) {\n    if (css_urls == null) css_urls = [];\n    if (js_urls == null) js_urls = [];\n\n    root._bokeh_onload_callbacks.push(callback);\n    if (root._bokeh_is_loading > 0) {\n      console.debug(\"Bokeh: BokehJS is being loaded, scheduling callback at\", now());\n      return null;\n    }\n    if (js_urls == null || js_urls.length === 0) {\n      run_callbacks();\n      return null;\n    }\n    console.debug(\"Bokeh: BokehJS not loaded, scheduling load and callback at\", now());\n    root._bokeh_is_loading = css_urls.length + js_urls.length;\n\n    function on_load() {\n      root._bokeh_is_loading--;\n      if (root._bokeh_is_loading === 0) {\n        console.debug(\"Bokeh: all BokehJS libraries/stylesheets loaded\");\n        run_callbacks()\n      }\n    }\n\n    function on_error(url) {\n      console.error(\"failed to load \" + url);\n    }\n\n    for (let i = 0; i < css_urls.length; i++) {\n      const url = css_urls[i];\n      const element = document.createElement(\"link\");\n      element.onload = on_load;\n      element.onerror = on_error.bind(null, url);\n      element.rel = \"stylesheet\";\n      element.type = \"text/css\";\n      element.href = url;\n      console.debug(\"Bokeh: injecting link tag for BokehJS stylesheet: \", url);\n      document.body.appendChild(element);\n    }\n\n    for (let i = 0; i < js_urls.length; i++) {\n      const url = js_urls[i];\n      const element = document.createElement('script');\n      element.onload = on_load;\n      element.onerror = on_error.bind(null, url);\n      element.async = false;\n      element.src = url;\n      console.debug(\"Bokeh: injecting script tag for BokehJS library: \", url);\n      document.head.appendChild(element);\n    }\n  };\n\n  function inject_raw_css(css) {\n    const element = document.createElement(\"style\");\n    element.appendChild(document.createTextNode(css));\n    document.body.appendChild(element);\n  }\n\n  const js_urls = [\"https://cdn.bokeh.org/bokeh/release/bokeh-3.4.3.min.js\", \"https://cdn.bokeh.org/bokeh/release/bokeh-gl-3.4.3.min.js\", \"https://cdn.bokeh.org/bokeh/release/bokeh-widgets-3.4.3.min.js\", \"https://cdn.bokeh.org/bokeh/release/bokeh-tables-3.4.3.min.js\", \"https://cdn.bokeh.org/bokeh/release/bokeh-mathjax-3.4.3.min.js\"];\n  const css_urls = [];\n\n  const inline_js = [    function(Bokeh) {\n      Bokeh.set_log_level(\"info\");\n    },\nfunction(Bokeh) {\n    }\n  ];\n\n  function run_inline_js() {\n    if (root.Bokeh !== undefined || force === true) {\n      try {\n            for (let i = 0; i < inline_js.length; i++) {\n      inline_js[i].call(root, root.Bokeh);\n    }\n\n      } catch (error) {throw error;\n      }} else if (Date.now() < root._bokeh_timeout) {\n      setTimeout(run_inline_js, 100);\n    } else if (!root._bokeh_failed_load) {\n      console.log(\"Bokeh: BokehJS failed to load within specified timeout.\");\n      root._bokeh_failed_load = true;\n    } else if (force !== true) {\n      const cell = $(document.getElementById(null)).parents('.cell').data().cell;\n      cell.output_area.append_execute_result(NB_LOAD_WARNING)\n    }\n  }\n\n  if (root._bokeh_is_loading === 0) {\n    console.debug(\"Bokeh: BokehJS loaded, going straight to plotting\");\n    run_inline_js();\n  } else {\n    load_libs(css_urls, js_urls, function() {\n      console.debug(\"Bokeh: BokehJS plotting callback run at\", now());\n      run_inline_js();\n    });\n  }\n}(window));"
          },
          "metadata": {}
        },
        {
          "output_type": "display_data",
          "data": {
            "text/html": [
              "\n",
              "  <div id=\"f4f600e1-ae57-4579-9dcb-8720d7193308\" data-root-id=\"p1051\" style=\"display: contents;\"></div>\n"
            ]
          },
          "metadata": {}
        },
        {
          "output_type": "display_data",
          "data": {
            "application/javascript": [
              "(function(root) {\n",
              "  function embed_document(root) {\n",
              "  const docs_json = {\"1902a971-1ec6-45c6-b5fb-de9069433e2f\":{\"version\":\"3.4.3\",\"title\":\"Bokeh Application\",\"roots\":[{\"type\":\"object\",\"name\":\"Figure\",\"id\":\"p1051\",\"attributes\":{\"height\":400,\"x_range\":{\"type\":\"object\",\"name\":\"DataRange1d\",\"id\":\"p1052\"},\"y_range\":{\"type\":\"object\",\"name\":\"DataRange1d\",\"id\":\"p1053\"},\"x_scale\":{\"type\":\"object\",\"name\":\"LinearScale\",\"id\":\"p1060\"},\"y_scale\":{\"type\":\"object\",\"name\":\"LinearScale\",\"id\":\"p1061\"},\"title\":{\"type\":\"object\",\"name\":\"Title\",\"id\":\"p1058\"},\"renderers\":[{\"type\":\"object\",\"name\":\"GlyphRenderer\",\"id\":\"p1089\",\"attributes\":{\"data_source\":{\"type\":\"object\",\"name\":\"ColumnDataSource\",\"id\":\"p1048\",\"attributes\":{\"selected\":{\"type\":\"object\",\"name\":\"Selection\",\"id\":\"p1049\",\"attributes\":{\"indices\":[],\"line_indices\":[]}},\"selection_policy\":{\"type\":\"object\",\"name\":\"UnionRenderers\",\"id\":\"p1050\"},\"data\":{\"type\":\"map\",\"entries\":[[\"x\",{\"type\":\"ndarray\",\"array\":{\"type\":\"bytes\",\"data\":\"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\"},\"shape\":[1000],\"dtype\":\"float32\",\"order\":\"little\"}],[\"y\",{\"type\":\"ndarray\",\"array\":{\"type\":\"bytes\",\"data\":\"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\"},\"shape\":[1000],\"dtype\":\"float32\",\"order\":\"little\"}],[\"color\",[\"green\",\"green\",\"green\",\"green\",\"green\",\"green\",\"green\",\"green\",\"green\",\"green\",\"green\",\"green\",\"green\",\"green\",\"green\",\"green\",\"green\",\"green\",\"green\",\"green\",\"green\",\"green\",\"green\",\"green\",\"green\",\"green\",\"green\",\"green\",\"green\",\"green\",\"green\",\"green\",\"green\",\"green\",\"green\",\"green\",\"green\",\"green\",\"green\",\"green\",\"green\",\"green\",\"green\",\"green\",\"green\",\"green\",\"green\",\"green\",\"green\",\"green\",\"green\",\"green\",\"green\",\"green\",\"green\",\"green\",\"green\",\"green\",\"green\",\"green\",\"green\",\"green\",\"green\",\"green\",\"green\",\"green\",\"green\",\"green\",\"green\",\"green\",\"green\",\"green\",\"green\",\"green\",\"green\",\"green\",\"green\",\"green\",\"green\",\"green\",\"green\",\"green\",\"green\",\"green\",\"green\",\"green\",\"green\",\"green\",\"green\",\"green\",\"green\",\"green\",\"green\",\"green\",\"green\",\"green\",\"green\",\"green\",\"green\",\"green\",\"green\",\"green\",\"green\",\"green\",\"green\",\"green\",\"green\",\"green\",\"green\",\"green\",\"green\",\"green\",\"green\",\"green\",\"green\",\"green\",\"green\",\"green\",\"green\",\"green\",\"green\",\"green\",\"green\",\"green\",\"green\",\"green\",\"green\",\"green\",\"green\",\"green\",\"green\",\"green\",\"green\",\"green\",\"green\",\"green\",\"green\",\"green\",\"green\",\"green\",\"green\",\"green\",\"green\",\"green\",\"green\",\"green\",\"green\",\"green\",\"green\",\"green\",\"green\",\"green\",\"green\",\"green\",\"green\",\"green\",\"green\",\"green\",\"green\",\"green\",\"green\",\"green\",\"green\",\"green\",\"green\",\"green\",\"green\",\"green\",\"green\",\"green\",\"green\",\"green\",\"green\",\"green\",\"green\",\"green\",\"green\",\"green\",\"green\",\"green\",\"green\",\"green\",\"green\",\"green\",\"green\",\"green\",\"green\",\"green\",\"green\",\"green\",\"green\",\"green\",\"green\",\"green\",\"green\",\"green\",\"green\",\"green\",\"green\",\"green\",\"green\",\"green\",\"green\",\"green\",\"green\",\"green\",\"green\",\"green\",\"green\",\"green\",\"green\",\"green\",\"green\",\"green\",\"green\",\"green\",\"green\",\"green\",\"green\",\"green\",\"green\",\"green\",\"green\",\"green\",\"green\",\"green\",\"green\",\"green\",\"green\",\"green\",\"green\",\"green\",\"green\",\"green\",\"green\",\"green\",\"green\",\"green\",\"green\",\"green\",\"green\",\"green\",\"green\",\"green\",\"green\",\"green\",\"green\",\"green\",\"green\",\"green\",\"green\",\"green\",\"green\",\"green\",\"green\",\"green\",\"green\",\"green\",\"green\",\"green\",\"green\",\"green\",\"green\",\"green\",\"green\",\"green\",\"green\",\"green\",\"green\",\"green\",\"green\",\"green\",\"green\",\"green\",\"green\",\"green\",\"green\",\"green\",\"green\",\"green\",\"green\",\"green\",\"green\",\"green\",\"green\",\"green\",\"green\",\"green\",\"green\",\"green\",\"green\",\"green\",\"green\",\"green\",\"green\",\"green\",\"green\",\"green\",\"green\",\"green\",\"green\",\"green\",\"green\",\"green\",\"green\",\"green\",\"green\",\"green\",\"green\",\"green\",\"green\",\"green\",\"green\",\"green\",\"green\",\"green\",\"green\",\"green\",\"green\",\"green\",\"green\",\"green\",\"green\",\"green\",\"green\",\"green\",\"green\",\"green\",\"green\",\"green\",\"green\",\"green\",\"green\",\"green\",\"green\",\"green\",\"green\",\"green\",\"green\",\"green\",\"green\",\"green\",\"green\",\"green\",\"green\",\"green\",\"green\",\"green\",\"green\",\"green\",\"green\",\"green\",\"green\",\"green\",\"green\",\"green\",\"green\",\"green\",\"green\",\"green\",\"green\",\"green\",\"green\",\"green\",\"green\",\"green\",\"green\",\"green\",\"green\",\"green\",\"green\",\"green\",\"green\",\"green\",\"green\",\"green\",\"green\",\"green\",\"green\",\"green\",\"green\",\"green\",\"green\",\"green\",\"green\",\"green\",\"green\",\"green\",\"green\",\"green\",\"green\",\"green\",\"green\",\"green\",\"green\",\"green\",\"green\",\"green\",\"green\",\"green\",\"green\",\"green\",\"green\",\"green\",\"green\",\"green\",\"green\",\"green\",\"green\",\"green\",\"green\",\"green\",\"green\",\"green\",\"green\",\"green\",\"green\",\"green\",\"green\",\"green\",\"green\",\"green\",\"green\",\"green\",\"green\",\"green\",\"green\",\"green\",\"green\",\"green\",\"green\",\"green\",\"green\",\"green\",\"green\",\"green\",\"green\",\"green\",\"green\",\"green\",\"green\",\"green\",\"green\",\"green\",\"green\",\"green\",\"green\",\"green\",\"green\",\"green\",\"green\",\"green\",\"green\",\"green\",\"green\",\"green\",\"green\",\"green\",\"green\",\"green\",\"green\",\"green\",\"green\",\"green\",\"green\",\"green\",\"green\",\"green\",\"green\",\"green\",\"green\",\"green\",\"green\",\"green\",\"green\",\"green\",\"green\",\"green\",\"green\",\"green\",\"green\",\"green\",\"green\",\"green\",\"green\",\"green\",\"green\",\"green\",\"green\",\"green\",\"green\",\"green\",\"green\",\"green\",\"green\",\"green\",\"green\",\"green\",\"green\",\"green\",\"green\",\"green\",\"green\",\"green\",\"green\",\"green\",\"green\",\"green\",\"green\",\"green\",\"green\",\"green\",\"green\",\"green\",\"green\",\"green\",\"green\",\"green\",\"green\",\"green\",\"green\",\"green\",\"green\",\"green\",\"green\",\"green\",\"green\",\"green\",\"green\",\"green\",\"green\",\"green\",\"green\",\"green\",\"green\",\"green\",\"green\",\"green\",\"green\",\"green\",\"green\",\"green\",\"green\",\"green\",\"green\",\"green\",\"green\",\"green\",\"green\",\"green\",\"green\",\"green\",\"green\",\"green\",\"green\",\"green\",\"green\",\"green\",\"green\",\"green\",\"green\",\"green\",\"green\",\"green\",\"green\",\"green\",\"green\",\"green\",\"green\",\"green\",\"green\",\"green\",\"green\",\"green\",\"green\",\"green\",\"green\",\"green\",\"green\",\"green\",\"green\",\"green\",\"green\",\"green\",\"green\",\"green\",\"green\",\"green\",\"green\",\"green\",\"green\",\"green\",\"green\",\"green\",\"green\",\"green\",\"green\",\"green\",\"green\",\"green\",\"green\",\"green\",\"green\",\"green\",\"green\",\"green\",\"green\",\"green\",\"green\",\"green\",\"green\",\"green\",\"green\",\"green\",\"green\",\"green\",\"green\",\"green\",\"green\",\"green\",\"green\",\"green\",\"green\",\"green\",\"green\",\"green\",\"green\",\"green\",\"green\",\"green\",\"green\",\"green\",\"green\",\"green\",\"green\",\"green\",\"green\",\"green\",\"green\",\"green\",\"green\",\"green\",\"green\",\"green\",\"green\",\"green\",\"green\",\"green\",\"green\",\"green\",\"green\",\"green\",\"green\",\"green\",\"green\",\"green\",\"green\",\"green\",\"green\",\"green\",\"green\",\"green\",\"green\",\"green\",\"green\",\"green\",\"green\",\"green\",\"green\",\"green\",\"green\",\"green\",\"green\",\"green\",\"green\",\"green\",\"green\",\"green\",\"green\",\"green\",\"green\",\"green\",\"green\",\"green\",\"green\",\"green\",\"green\",\"green\",\"green\",\"green\",\"green\",\"green\",\"green\",\"green\",\"green\",\"green\",\"green\",\"green\",\"green\",\"green\",\"green\",\"green\",\"green\",\"green\",\"green\",\"green\",\"green\",\"green\",\"green\",\"green\",\"green\",\"green\",\"green\",\"green\",\"green\",\"green\",\"green\",\"green\",\"green\",\"green\",\"green\",\"green\",\"green\",\"green\",\"green\",\"green\",\"green\",\"green\",\"green\",\"green\",\"green\",\"green\",\"green\",\"green\",\"green\",\"green\",\"green\",\"green\",\"green\",\"green\",\"green\",\"green\",\"green\",\"green\",\"green\",\"green\",\"green\",\"green\",\"green\",\"green\",\"green\",\"green\",\"green\",\"green\",\"green\",\"green\",\"green\",\"green\",\"green\",\"green\",\"green\",\"green\",\"green\",\"green\",\"green\",\"green\",\"green\",\"green\",\"green\",\"green\",\"green\",\"green\",\"green\",\"green\",\"green\",\"green\",\"green\",\"green\",\"green\",\"green\",\"green\",\"green\",\"green\",\"green\",\"green\",\"green\",\"green\",\"green\",\"green\",\"green\",\"green\",\"green\",\"green\",\"green\",\"green\",\"green\",\"green\",\"green\",\"green\",\"green\",\"green\",\"green\",\"green\",\"green\",\"green\",\"green\",\"green\",\"green\",\"green\",\"green\",\"green\",\"green\",\"green\",\"green\",\"green\",\"green\",\"green\",\"green\",\"green\",\"green\",\"green\",\"green\",\"green\",\"green\",\"green\",\"green\",\"green\",\"green\",\"green\",\"green\",\"green\",\"green\",\"green\",\"green\",\"green\",\"green\",\"green\",\"green\",\"green\",\"green\",\"green\",\"green\",\"green\",\"green\",\"green\",\"green\",\"green\",\"green\",\"green\",\"green\",\"green\",\"green\",\"green\",\"green\",\"green\",\"green\",\"green\",\"green\",\"green\",\"green\",\"green\",\"green\",\"green\",\"green\",\"green\",\"green\",\"green\",\"green\",\"green\",\"green\",\"green\",\"green\",\"green\",\"green\",\"green\",\"green\",\"green\",\"green\",\"green\",\"green\",\"green\",\"green\",\"green\",\"green\",\"green\",\"green\",\"green\",\"green\",\"green\",\"green\",\"green\",\"green\",\"green\",\"green\",\"green\",\"green\",\"green\",\"green\",\"green\",\"green\",\"green\",\"green\",\"green\",\"green\",\"green\",\"green\",\"green\",\"green\",\"green\",\"green\",\"green\",\"green\",\"green\",\"green\",\"green\",\"green\",\"green\",\"green\",\"green\",\"green\",\"green\",\"green\",\"green\",\"green\",\"green\",\"green\",\"green\",\"green\",\"green\",\"green\",\"green\",\"green\",\"green\",\"green\",\"green\",\"green\",\"green\",\"green\",\"green\",\"green\",\"green\",\"green\",\"green\",\"green\",\"green\",\"green\",\"green\",\"green\",\"green\",\"green\",\"green\",\"green\",\"green\",\"green\",\"green\",\"green\",\"green\",\"green\",\"green\",\"green\",\"green\",\"green\",\"green\",\"green\",\"green\",\"green\",\"green\",\"green\",\"green\",\"green\",\"green\",\"green\",\"green\",\"green\",\"green\",\"green\",\"green\",\"green\",\"green\",\"green\",\"green\",\"green\",\"green\",\"green\",\"green\",\"green\",\"green\",\"green\",\"green\",\"green\",\"green\",\"green\",\"green\",\"green\",\"green\",\"green\",\"green\",\"green\",\"green\",\"green\"]],[\"token\",[\"<user>\",\".\",\":\",\"rt\",\",\",\"<repeat>\",\"<hashtag>\",\"<number>\",\"<url>\",\"!\",\"i\",\"a\",\"\\\"\",\"the\",\"?\",\"you\",\"to\",\"(\",\"<allcaps>\",\"<elong>\",\")\",\"me\",\"de\",\"<smile>\",\"\\uff01\",\"que\",\"and\",\"\\u3002\",\"-\",\"my\",\"no\",\"\\u3001\",\"is\",\"it\",\"\\u2026\",\"in\",\"n\",\"for\",\"/\",\"of\",\"la\",\"'s\",\"*\",\"do\",\"n't\",\"that\",\"on\",\"y\",\"'\",\"e\",\"o\",\"u\",\"en\",\"this\",\"el\",\"so\",\"be\",\"'m\",\"with\",\"just\",\">\",\"your\",\"^\",\"like\",\"have\",\"te\",\"at\",\"\\uff1f\",\"love\",\"se\",\"are\",\"<\",\"m\",\"r\",\"if\",\"all\",\"b\",\"\\u30fb\",\"not\",\"but\",\"we\",\"es\",\"ya\",\"&\",\"follow\",\"up\",\"what\",\"get\",\"lol\",\"un\",\"\\u2665\",\"lo\",\"when\",\"was\",\"\\u201c\",\"\\u201d\",\"one\",\"por\",\"si\",\"out\",\"_\",\"mi\",\"can\",\"<sadface>\",\"\\u0645\\u0646\",\"\\u2661\",\"\\u00b4\",\"he\",\"con\",\"they\",\"now\",\"go\",\"\\u060c\",\"para\",\"los\",\"know\",\"haha\",\"good\",\"tu\",\"back\",\"~\",\"about\",\"new\",\";\",\"as\",\"day\",\"how\",\"who\",\"will\",\"want\",\"people\",\"yo\",\"eu\",\"from\",\"di\",\"time\",\"<heart>\",\"s\",\"aku\",\"da\",\"'re\",\"<lolface>\",\"una\",\"got\",\"las\",\"more\",\"x\",\"she\",\"today\",\"\\uff08\",\">>\",\"k\",\"by\",\"or\",\"\\u0641\\u064a\",\"\\uff65\",\"too\",\"le\",\"\\u00e9\",\"|\",\"[\",\"\\uff09\",\"]\",\"see\",\"why\",\"yg\",\"ca\",\"como\",\"her\",\"\\u2014\",\"q\",\"need\",\"an\",\"na\",\"\\u7b11\",\"there\",\"\\u03c9\",\"happy\",\"im\",\"mas\",\"je\",\"life\",\"really\",\"make\",\"yang\",\"shit\",\"think\",\"t\",\"\\u2764\",\"n\\u00e3o\",\"never\",\"some\",\"\\uff5e\",\"oh\",\"\\u2605\",\"did\",\"would\",\"del\",\"`\",\"d\",\"please\",\"via\",\"much\",\"fuck\",\"al\",\"dia\",\"$\",\"\\u0648\",\"right\",\"best\",\"c\",\"going\",\"\\u0627\\u0644\\u0644\\u0647\",\"pero\",\"only\",\"has\",\"\\u266a\",\"'ll\",\"twitter\",\"=\",\"hahaha\",\"its\",\"nn\",\"\\uff40\",\"\\u00bf\",\"am\",\"say\",\"<neutralface>\",\"them\",\"here\",\"\\u0644\\u0627\",\"off\",\"still\",\"dan\",\"+\",\"night\",\"w\",\"ada\",\"someone\",\"even\",\"then\",\"\\u2606\",\"ni\",\"come\",\"com\",\"always\",\"man\",\"'ve\",\"been\",\"his\",\"itu\",\"\\u0639\\u0644\\u0649\",\"-_-\",\"\\u263a\",\"over\",\"um\",\"\\u0645\\u0627\",\"hate\",\"girl\",\"ai\",\"had\",\"pra\",\"todo\",\"mais\",\"feel\",\"let\",\"ini\",\"because\",\"\\uff9f\",\"thanks\",\"ah\",\"way\",\"ever\",\"look\",\"tweet\",\"followers\",\"should\",\"our\",\"xd\",\"aja\",\"esta\",\"school\",\"him\",\"ser\",\"take\",\"than\",\"video\",\"em\",\"last\",\"wanna\",\"does\",\"us\",\"miss\",\"l\",\"ga\",\"better\",\"well\",\"could\",\"\\u25bd\",\"%\",\"apa\",\"cuando\",\"team\",\"\\u2714\",\"@\",\"ok\",\"\\u061f\",\"\\u2022\",\"vida\",\"quiero\",\"les\",\"being\",\"real\",\"down\",\"kamu\",\"everyone\",\"gonna\",\"live\",\"tonight\",\"yes\",\"work\",\"ass\",\"retweet\",\"nada\",\"sama\",\"first\",\"<<\",\"photo\",\"tomorrow\",\"where\",\"god\",\"son\",\"ke\",\"ta\",\"f\",\"home\",\"lagi\",\"thank\",\"birthday\",\"\\u2588\",\"ha\",\"great\",\"lmao\",\"omg\",\"morning\",\"m\\u00e1s\",\"mau\",\"baby\",\"dont\",\"\\uff61\",\"their\",\"p\",\"things\",\"game\",\"pas\",\"bad\",\"year\",\"yeah\",\"su\",\"bitch\",\"\\u0432\",\"stop\",\"hoy\",\"something\",\"meu\",\"tak\",\"gak\",\"world\",\"amor\",\"h\",\"\\\\\",\"ver\",\"\\uff1b\",\"porque\",\"give\",\"these\",\"\\u0627\\u0644\\u0644\\u0647\\u0645\",\"were\",\"hay\",\"sleep\",\"gue\",\"every\",\"friends\",\"uma\",\"tell\",\"amo\",\"vou\",\"bien\",\"\\u00a1\",\"again\",\"\\uff3e\",\"\\uff0f\",\"done\",\"after\",\"todos\",\"girls\",\"guys\",\"getting\",\"big\",\"wait\",\"justin\",\"eh\",\"\\u2192\",\"kan\",\"kita\",\"jajaja\",\"wish\",\"said\",\"fucking\",\"show\",\"thing\",\"next\",\"voc\\u00ea\",\"nos\",\"little\",\"tengo\",\"keep\",\"person\",\"''\",\"\\u2200\",\"hope\",\"\\u0643\\u0644\",\"hey\",\"bisa\",\"free\",\"made\",\"foto\",\"va\",\"everything\",\"iya\",\"nigga\",\"eso\",\"et\",\"watch\",\"music\",\"week\",\"talk\",\"ne\",\"solo\",\"gente\",\"udah\",\"\\uff1a\",\"--\",\"\\uff3c\",\"mejor\",\"facebook\",\"ma\",\"v\",\"phone\",\"most\",\"same\",\"okay\",\"ik\",\"before\",\"minha\",\"days\",\"g\",\"ti\",\"damn\",\"nice\",\"voy\",\"vai\",\"call\",\"long\",\"tapi\",\"http\",\"sin\",\"nunca\",\"doing\",\"other\",\"find\",\"il\",\"sa\",\"sorry\",\"nya\",\"orang\",\"\\u00b0\",\"hard\",\"mean\",\"die\",\"\\u0627\\u0644\\u0644\\u064a\",\"tem\",\"soy\",\"este\",\"kalo\",\"s\\u00f3\",\"th\",\"win\",\"nothing\",\"into\",\"face\",\"cute\",\"'d\",\"gracias\",\"lah\",\"\\u0438\",\"any\",\"play\",\"\\u2190\",\"ko\",\"text\",\"\\u2323\",\"estoy\",\"tau\",\"ur\",\"buat\",\"#\",\"cause\",\"\\u044f\",\"put\",\"kau\",\"siempre\",\"juga\",\"casa\",\"\\u0623\\u0646\",\"help\",\"start\",\"feliz\",\"old\",\"ir\",\"very\",\"care\",\"bir\",\"makes\",\"song\",\"check\",\"watching\",\"ahora\",\"jadi\",\"os\",\"may\",\"friend\",\"beautiful\",\"heart\",\"ka\",\"vc\",\"mundo\",\"\\u043d\\u0430\",\"sure\",\"tan\",\"pretty\",\"aqui\",\"\\u043d\\u0435\",\"house\",\"\\u0631\\u062a\\u0648\\u064a\\u062a\",\"\\u064a\\u0627\",\"ja\",\"true\",\"muy\",\"away\",\"already\",\"actually\",\"believe\",\"try\",\"many\",\"ma\\u00f1ana\",\"mis\",\"lu\",\"those\",\"hot\",\"qu\\u00e9\",\"mal\",\"\\u0639\\u0646\",\"though\",\"ask\",\"amazing\",\"bed\",\"}\",\"two\",\"mom\",\"d\\u00eda\",\"ve\",\"dari\",\"gameinsight\",\"stay\",\"fun\",\"around\",\"van\",\"cont\",\"ready\",\"money\",\"bu\",\"funny\",\"cool\",\"hair\",\"\\u00e0\",\"tho\",\"{\",\"wo\",\"hi\",\"name\",\"tiene\",\"hahahaha\",\"pa\",\"algo\",\"gotta\",\"\\u0648\\u0644\\u0627\",\"boy\",\"another\",\"c'est\",\"hari\",\"jajajaja\",\"having\",\"cara\",\"jaja\",\"dm\",\"looking\",\"top\",\"android\",\"dah\",\"wow\",\"\\u2591\",\"eres\",\"ben\",\"must\",\"news\",\"met\",\"est\\u00e1\",\"nih\",\"family\",\"black\",\"thought\",\"nak\",\"super\",\"end\",\"hace\",\"remember\",\"ama\",\"party\",\"cant\",\"vamos\",\"anything\",\"anyone\",\"\\u0641\\u0648\\u0644\\u0648\",\"perfect\",\"guy\",\"vez\",\"christmas\",\"dos\",\"bueno\",\"nao\",\"years\",\"vote\",\"dormir\",\"bro\",\"else\",\"quien\",\"untuk\",\"jangan\",\"myself\",\"head\",\"mind\",\"gua\",\"talking\",\"while\",\"dat\",\"food\",\"\\u0434\",\"coming\",\"wkwk\",\"trying\",\"saya\",\"mucho\",\"without\",\"wrong\",\"\\u2019s\",\"baru\",\"__\",\"hehe\",\"hacer\",\"lot\",\"followed\",\"crazy\",\"hell\",\"feeling\",\"des\",\"kok\",\"j\",\"stats\",\"j'\",\"\\u0627\\u0646\",\"tweets\",\"non\",\"cosas\",\"era\",\"high\",\"niggas\",\"change\",\"movie\",\"xx\",\"mad\",\"sih\",\"sometimes\",\"deh\",\"allah\",\"through\",\"pour\",\"ela\",\"soon\",\"gone\",\"playing\",\"smile\",\"bukan\",\"tv\",\"fans\",\"hasta\",\"akan\",\"y'\",\"looks\",\"isso\",\"\\u270c\",\"tired\",\"boys\",\"might\",\"dong\",\"lg\",\"use\",\"maybe\",\"until\",\"menos\",\"own\",\"dengan\",\"eat\",\"ou\",\"weekend\",\"\\u02d8\",\"class\",\"ele\",\"harry\",\"iphone\",\"friday\",\"single\",\"ff\",\"awesome\",\"bout\",\"muito\",\"hoje\",\"\\u00ac\",\"dios\",\"such\",\"estar\",\"j\\u00e1\",\"quando\",\"esa\",\"making\",\"\\u2501\",\"times\",\"lmfao\",\"gw\",\"moment\",\"yet\",\"aw\",\"smh\",\"banget\",\"masih\",\"qui\",\"quem\",\"\\u2013\",\"leave\",\"du\",\"une\",\"guess\",\"hit\",\"\\u0441\",\"pm\",\"since\",\"pues\",\"est\",\"job\",\"\\uff89\",\"mana\",\"bom\",\"siapa\",\"suka\",\"bieber\",\"mention\",\"lebih\",\"favorite\",\"bitches\",\"forever\",\"\\u0644\\u064a\",\"final\",\"read\",\"alguien\",\"open\",\"yourself\",\"ese\",\"che\",\"sex\",\"yaa\",\"car\",\"direction\",\"tidak\",\"seu\",\"gets\",\"left\",\"re\",\"jam\",\"enough\",\"\\u0625\\u0644\\u0627\",\"once\",\"\\u2019\",\"part\",\"cada\",\"\\u5b9a\\u671f\",\"\\u0644\\u0643\",\"een\",\"seen\",\"kak\",\"as\\u00ed\",\"nem\",\"\\u0639\\u0645\\u0644\",\"white\",\"told\",\"says\",\"esto\",\"sad\",\"mo\",\"fue\",\"yah\",\"summer\",\"\\u0647\",\"\\u2b55\",\"\\u00bb\",\"thats\",\"\\u0645\\u0639\",\"posted\",\"wants\",\"agora\",\"together\",\"fan\",\"men\",\"hear\",\"full\",\"\\u2600\",\"sigo\",\"pq\",\"dulu\",\"plus\",\"foi\",\"tudo\",\"\\u0647\\u0648\",\"ill\",\"\\u3042\",\"thinking\",\"wtf\",\"pagi\",\"mama\",\"kalau\",\"hati\",\"sexy\",\"sayang\",\"baik\",\"semua\",\"hola\",\"went\",\"vos\",\"tanto\",\"finally\",\"fb\",\"sea\",\"stupid\",\"tus\",\"seriously\",\"hora\",\"min\",\"pic\",\"estas\",\"turn\",\"hours\",\"excited\",\"nah\",\"buy\",\"saying\",\"mah\",\"break\",\"needs\",\"ce\",\"room\",\"choice\",\"far\",\"dead\",\"quero\",\"saw\",\"kids\",\"lil\",\"whole\",\"puede\",\"fall\",\"sus\",\"lost\",\"asi\",\"word\",\"\\u2639\",\"also\",\"\\u0631\\u064a\\u062a\\u0648\\u064a\\u062a\",\"probably\",\"everybody\",\"tarde\",\"run\",\"sei\",\"follback\",\"forget\",\"sweet\",\"welcome\",\"selamat\",\"\\uff3f\",\"sur\",\"place\",\"gusta\",\"sabe\",\"androidgames\",\"tp\",\"tiempo\",\"\\u0628\\u0633\",\"sou\",\"tuh\",\"vs\",\"eyes\",\"\\u0627\\u0646\\u0627\",\"picture\",\"das\",\"meet\",\"anak\",\"persona\",\"essa\",\"bored\",\"following\",\"nadie\",\"nobody\",\"dice\",\"alone\",\"sick\",\"red\",\"city\",\"cinta\",\"\\u6708\",\"linda\",\"dream\",\"story\",\"km\",\"het\",\"waiting\",\"^_^\",\"mine\",\"\\u0447\\u0442\\u043e\",\"reason\",\"kk\",\"\\u0644\\u0648\",\"online\",\"fast\",\"udh\",\"wanted\",\"op\",\"others\",\"gay\",\"n\\u2019t\",\"used\",\"sem\",\"understand\",\"moi\",\"sm\",\"aint\",\"donde\",\"bem\",\"which\",\"ng\",\"followback\",\"punya\",\"late\",\"anda\",\"tidur\",\"puedo\",\"early\",\"nd\",\"personas\",\"banyak\",\"\\u2705\",\"\\u278a\",\"trust\",\"noche\",\"tl\",\"\\uff1e\",\"\\u00ab\",\"af\",\"move\",\"pro\",\"bring\",\"ku\",\"called\",\"relationship\",\"idk\",\"hurt\",\"st\",\"pernah\",\"pessoas\",\"hello\",\"uno\",\"unfollowers\",\"cry\"]]]}}},\"view\":{\"type\":\"object\",\"name\":\"CDSView\",\"id\":\"p1090\",\"attributes\":{\"filter\":{\"type\":\"object\",\"name\":\"AllIndices\",\"id\":\"p1091\"}}},\"glyph\":{\"type\":\"object\",\"name\":\"Scatter\",\"id\":\"p1086\",\"attributes\":{\"x\":{\"type\":\"field\",\"field\":\"x\"},\"y\":{\"type\":\"field\",\"field\":\"y\"},\"size\":{\"type\":\"value\",\"value\":10},\"line_color\":{\"type\":\"field\",\"field\":\"color\"},\"line_alpha\":{\"type\":\"value\",\"value\":0.25},\"fill_color\":{\"type\":\"field\",\"field\":\"color\"},\"fill_alpha\":{\"type\":\"value\",\"value\":0.25},\"hatch_color\":{\"type\":\"field\",\"field\":\"color\"},\"hatch_alpha\":{\"type\":\"value\",\"value\":0.25}}},\"nonselection_glyph\":{\"type\":\"object\",\"name\":\"Scatter\",\"id\":\"p1087\",\"attributes\":{\"x\":{\"type\":\"field\",\"field\":\"x\"},\"y\":{\"type\":\"field\",\"field\":\"y\"},\"size\":{\"type\":\"value\",\"value\":10},\"line_color\":{\"type\":\"field\",\"field\":\"color\"},\"line_alpha\":{\"type\":\"value\",\"value\":0.1},\"fill_color\":{\"type\":\"field\",\"field\":\"color\"},\"fill_alpha\":{\"type\":\"value\",\"value\":0.1},\"hatch_color\":{\"type\":\"field\",\"field\":\"color\"},\"hatch_alpha\":{\"type\":\"value\",\"value\":0.1}}},\"muted_glyph\":{\"type\":\"object\",\"name\":\"Scatter\",\"id\":\"p1088\",\"attributes\":{\"x\":{\"type\":\"field\",\"field\":\"x\"},\"y\":{\"type\":\"field\",\"field\":\"y\"},\"size\":{\"type\":\"value\",\"value\":10},\"line_color\":{\"type\":\"field\",\"field\":\"color\"},\"line_alpha\":{\"type\":\"value\",\"value\":0.2},\"fill_color\":{\"type\":\"field\",\"field\":\"color\"},\"fill_alpha\":{\"type\":\"value\",\"value\":0.2},\"hatch_color\":{\"type\":\"field\",\"field\":\"color\"},\"hatch_alpha\":{\"type\":\"value\",\"value\":0.2}}}}}],\"toolbar\":{\"type\":\"object\",\"name\":\"Toolbar\",\"id\":\"p1059\",\"attributes\":{\"tools\":[{\"type\":\"object\",\"name\":\"PanTool\",\"id\":\"p1072\"},{\"type\":\"object\",\"name\":\"WheelZoomTool\",\"id\":\"p1073\",\"attributes\":{\"renderers\":\"auto\"}},{\"type\":\"object\",\"name\":\"BoxZoomTool\",\"id\":\"p1074\",\"attributes\":{\"overlay\":{\"type\":\"object\",\"name\":\"BoxAnnotation\",\"id\":\"p1075\",\"attributes\":{\"syncable\":false,\"level\":\"overlay\",\"visible\":false,\"left\":{\"type\":\"number\",\"value\":\"nan\"},\"right\":{\"type\":\"number\",\"value\":\"nan\"},\"top\":{\"type\":\"number\",\"value\":\"nan\"},\"bottom\":{\"type\":\"number\",\"value\":\"nan\"},\"left_units\":\"canvas\",\"right_units\":\"canvas\",\"top_units\":\"canvas\",\"bottom_units\":\"canvas\",\"line_color\":\"black\",\"line_alpha\":1.0,\"line_width\":2,\"line_dash\":[4,4],\"fill_color\":\"lightgrey\",\"fill_alpha\":0.5}}}},{\"type\":\"object\",\"name\":\"SaveTool\",\"id\":\"p1080\"},{\"type\":\"object\",\"name\":\"ResetTool\",\"id\":\"p1081\"},{\"type\":\"object\",\"name\":\"HelpTool\",\"id\":\"p1082\"},{\"type\":\"object\",\"name\":\"HoverTool\",\"id\":\"p1092\",\"attributes\":{\"renderers\":\"auto\",\"tooltips\":[[\"token\",\"@token\"]]}}],\"active_scroll\":{\"id\":\"p1073\"}}},\"left\":[{\"type\":\"object\",\"name\":\"LinearAxis\",\"id\":\"p1067\",\"attributes\":{\"ticker\":{\"type\":\"object\",\"name\":\"BasicTicker\",\"id\":\"p1068\",\"attributes\":{\"mantissas\":[1,2,5]}},\"formatter\":{\"type\":\"object\",\"name\":\"BasicTickFormatter\",\"id\":\"p1069\"},\"major_label_policy\":{\"type\":\"object\",\"name\":\"AllLabels\",\"id\":\"p1070\"}}}],\"below\":[{\"type\":\"object\",\"name\":\"LinearAxis\",\"id\":\"p1062\",\"attributes\":{\"ticker\":{\"type\":\"object\",\"name\":\"BasicTicker\",\"id\":\"p1063\",\"attributes\":{\"mantissas\":[1,2,5]}},\"formatter\":{\"type\":\"object\",\"name\":\"BasicTickFormatter\",\"id\":\"p1064\"},\"major_label_policy\":{\"type\":\"object\",\"name\":\"AllLabels\",\"id\":\"p1065\"}}}],\"center\":[{\"type\":\"object\",\"name\":\"Grid\",\"id\":\"p1066\",\"attributes\":{\"axis\":{\"id\":\"p1062\"}}},{\"type\":\"object\",\"name\":\"Grid\",\"id\":\"p1071\",\"attributes\":{\"dimension\":1,\"axis\":{\"id\":\"p1067\"}}}]}}]}};\n",
              "  const render_items = [{\"docid\":\"1902a971-1ec6-45c6-b5fb-de9069433e2f\",\"roots\":{\"p1051\":\"f4f600e1-ae57-4579-9dcb-8720d7193308\"},\"root_ids\":[\"p1051\"]}];\n",
              "  void root.Bokeh.embed.embed_items_notebook(docs_json, render_items);\n",
              "  }\n",
              "  if (root.Bokeh !== undefined) {\n",
              "    embed_document(root);\n",
              "  } else {\n",
              "    let attempts = 0;\n",
              "    const timer = setInterval(function(root) {\n",
              "      if (root.Bokeh !== undefined) {\n",
              "        clearInterval(timer);\n",
              "        embed_document(root);\n",
              "      } else {\n",
              "        attempts++;\n",
              "        if (attempts > 100) {\n",
              "          clearInterval(timer);\n",
              "          console.log(\"Bokeh: ERROR: Unable to run BokehJS code because BokehJS library is missing\");\n",
              "        }\n",
              "      }\n",
              "    }, 10, root)\n",
              "  }\n",
              "})(window);"
            ],
            "application/vnd.bokehjs_exec.v0+json": ""
          },
          "metadata": {
            "application/vnd.bokehjs_exec.v0+json": {
              "id": "p1051"
            }
          }
        }
      ],
      "source": [
        "draw_vectors(word_tsne[:, 0], word_tsne[:, 1], color='green', token=words)\n",
        "pass"
      ]
    },
    {
      "cell_type": "code",
      "source": [
        "vocab = list(model.key_to_index.keys())\n",
        "vocab[:10]"
      ],
      "metadata": {
        "colab": {
          "base_uri": "https://localhost:8080/"
        },
        "id": "0WIzF0ioT15v",
        "outputId": "dcf3d2af-e16b-4f82-c0e4-996f3cb6e049"
      },
      "execution_count": 38,
      "outputs": [
        {
          "output_type": "execute_result",
          "data": {
            "text/plain": [
              "['<user>',\n",
              " '.',\n",
              " ':',\n",
              " 'rt',\n",
              " ',',\n",
              " '<repeat>',\n",
              " '<hashtag>',\n",
              " '<number>',\n",
              " '<url>',\n",
              " '!']"
            ]
          },
          "metadata": {},
          "execution_count": 38
        }
      ]
    },
    {
      "cell_type": "markdown",
      "metadata": {
        "id": "dh44RGF0zT0u"
      },
      "source": [
        "### Visualizing phrases\n",
        "\n",
        "Word embeddings can also be used to represent short phrases. The simplest way is to take __an average__ of vectors for all tokens in the phrase with some weights.\n",
        "\n",
        "This trick is useful to identify what data are you working with: find if there are any outliers, clusters or other artefacts.\n",
        "\n",
        "Let's try this new hammer on our data!\n"
      ]
    },
    {
      "cell_type": "code",
      "execution_count": 22,
      "metadata": {
        "collapsed": true,
        "id": "_JteRDxLzT0u"
      },
      "outputs": [],
      "source": [
        "def get_phrase_embedding(phrase):\n",
        "    \"\"\"\n",
        "    Convert phrase to a vector by aggregating it's word embeddings. See description above.\n",
        "    \"\"\"\n",
        "    # 1. lowercase phrase\n",
        "    # 2. tokenize phrase\n",
        "    # 3. average word vectors for all words in tokenized phrase\n",
        "    # skip words that are not in model's vocabulary\n",
        "    # if all words are missing from vocabulary, return zeros\n",
        "\n",
        "\n",
        "    # YOUR CODE\n",
        "    tokens = tokenizer.tokenize(phrase.lower())\n",
        "    vocab = model.key_to_index.keys()\n",
        "    filtredTokens = [token for token in tokens if token in vocab]\n",
        "    if len(filtredTokens)==0:\n",
        "        vector = np.zeros([model.vector_size], dtype='float32')\n",
        "    else:\n",
        "        vectors = [model.get_vector(token) for token in filtredTokens]\n",
        "        vector = sum(vectors)/len(vectors)\n",
        "        vector = np.array(vector, dtype='float32')\n",
        "    return vector"
      ]
    },
    {
      "cell_type": "code",
      "execution_count": 23,
      "metadata": {
        "collapsed": true,
        "id": "ylx_GvXnzT0u"
      },
      "outputs": [],
      "source": [
        "vector = get_phrase_embedding(\"I'm very sure. This never happened to me before...\")\n",
        "\n",
        "assert np.allclose(vector[::10],\n",
        "                   np.array([ 0.31807372, -0.02558171,  0.0933293 , -0.1002182 , -1.0278689 ,\n",
        "                             -0.16621883,  0.05083408,  0.17989802,  1.3701859 ,  0.08655966],\n",
        "                              dtype=np.float32))\n",
        "assert np.array_equal(get_phrase_embedding(\"thisisgibberish\"), np.zeros([model.vector_size], dtype='float32')), \"corner case for all missing words should be handled as described in the function comments\""
      ]
    },
    {
      "cell_type": "code",
      "execution_count": 24,
      "metadata": {
        "collapsed": true,
        "id": "ZEesQDhYzT0u"
      },
      "outputs": [],
      "source": [
        "# let's only consider ~5k phrases for a first run.\n",
        "chosen_phrases = data[::len(data) // 1000]\n",
        "\n",
        "# compute vectors for chosen phrases\n",
        "phrase_vectors = np.array([get_phrase_embedding(phrase) for phrase in chosen_phrases]) # YOUR CODE"
      ]
    },
    {
      "cell_type": "code",
      "execution_count": 25,
      "metadata": {
        "collapsed": true,
        "id": "J0ECB4zUzT0u"
      },
      "outputs": [],
      "source": [
        "assert isinstance(phrase_vectors, np.ndarray) and np.isfinite(phrase_vectors).all()\n",
        "assert phrase_vectors.shape == (len(chosen_phrases), model.vector_size)"
      ]
    },
    {
      "cell_type": "code",
      "execution_count": 26,
      "metadata": {
        "collapsed": true,
        "id": "z8uz_VnozT0u"
      },
      "outputs": [],
      "source": [
        "# map vectors into 2d space with pca, tsne or your other method of choice\n",
        "# don't forget to normalize\n",
        "\n",
        "phrase_vectors_2d = TSNE().fit_transform(phrase_vectors)\n",
        "\n",
        "phrase_vectors_2d = (phrase_vectors_2d - phrase_vectors_2d.mean(axis=0)) / phrase_vectors_2d.std(axis=0)"
      ]
    },
    {
      "cell_type": "code",
      "execution_count": 27,
      "metadata": {
        "collapsed": true,
        "id": "G_OZZZk_zT0u",
        "outputId": "104f5093-9253-4a28-f287-4db6387fc9ed",
        "colab": {
          "base_uri": "https://localhost:8080/",
          "height": 417
        }
      },
      "outputs": [
        {
          "output_type": "display_data",
          "data": {
            "application/javascript": [
              "'use strict';\n",
              "(function(root) {\n",
              "  function now() {\n",
              "    return new Date();\n",
              "  }\n",
              "\n",
              "  const force = true;\n",
              "\n",
              "  if (typeof root._bokeh_onload_callbacks === \"undefined\" || force === true) {\n",
              "    root._bokeh_onload_callbacks = [];\n",
              "    root._bokeh_is_loading = undefined;\n",
              "  }\n",
              "\n",
              "const JS_MIME_TYPE = 'application/javascript';\n",
              "  const HTML_MIME_TYPE = 'text/html';\n",
              "  const EXEC_MIME_TYPE = 'application/vnd.bokehjs_exec.v0+json';\n",
              "  const CLASS_NAME = 'output_bokeh rendered_html';\n",
              "\n",
              "  /**\n",
              "   * Render data to the DOM node\n",
              "   */\n",
              "  function render(props, node) {\n",
              "    const script = document.createElement(\"script\");\n",
              "    node.appendChild(script);\n",
              "  }\n",
              "\n",
              "  /**\n",
              "   * Handle when an output is cleared or removed\n",
              "   */\n",
              "  function handleClearOutput(event, handle) {\n",
              "    function drop(id) {\n",
              "      const view = Bokeh.index.get_by_id(id)\n",
              "      if (view != null) {\n",
              "        view.model.document.clear()\n",
              "        Bokeh.index.delete(view)\n",
              "      }\n",
              "    }\n",
              "\n",
              "    const cell = handle.cell;\n",
              "\n",
              "    const id = cell.output_area._bokeh_element_id;\n",
              "    const server_id = cell.output_area._bokeh_server_id;\n",
              "\n",
              "    // Clean up Bokeh references\n",
              "    if (id != null) {\n",
              "      drop(id)\n",
              "    }\n",
              "\n",
              "    if (server_id !== undefined) {\n",
              "      // Clean up Bokeh references\n",
              "      const cmd_clean = \"from bokeh.io.state import curstate; print(curstate().uuid_to_server['\" + server_id + \"'].get_sessions()[0].document.roots[0]._id)\";\n",
              "      cell.notebook.kernel.execute(cmd_clean, {\n",
              "        iopub: {\n",
              "          output: function(msg) {\n",
              "            const id = msg.content.text.trim()\n",
              "            drop(id)\n",
              "          }\n",
              "        }\n",
              "      });\n",
              "      // Destroy server and session\n",
              "      const cmd_destroy = \"import bokeh.io.notebook as ion; ion.destroy_server('\" + server_id + \"')\";\n",
              "      cell.notebook.kernel.execute(cmd_destroy);\n",
              "    }\n",
              "  }\n",
              "\n",
              "  /**\n",
              "   * Handle when a new output is added\n",
              "   */\n",
              "  function handleAddOutput(event, handle) {\n",
              "    const output_area = handle.output_area;\n",
              "    const output = handle.output;\n",
              "\n",
              "    // limit handleAddOutput to display_data with EXEC_MIME_TYPE content only\n",
              "    if ((output.output_type != \"display_data\") || (!Object.prototype.hasOwnProperty.call(output.data, EXEC_MIME_TYPE))) {\n",
              "      return\n",
              "    }\n",
              "\n",
              "    const toinsert = output_area.element.find(\".\" + CLASS_NAME.split(' ')[0]);\n",
              "\n",
              "    if (output.metadata[EXEC_MIME_TYPE][\"id\"] !== undefined) {\n",
              "      toinsert[toinsert.length - 1].firstChild.textContent = output.data[JS_MIME_TYPE];\n",
              "      // store reference to embed id on output_area\n",
              "      output_area._bokeh_element_id = output.metadata[EXEC_MIME_TYPE][\"id\"];\n",
              "    }\n",
              "    if (output.metadata[EXEC_MIME_TYPE][\"server_id\"] !== undefined) {\n",
              "      const bk_div = document.createElement(\"div\");\n",
              "      bk_div.innerHTML = output.data[HTML_MIME_TYPE];\n",
              "      const script_attrs = bk_div.children[0].attributes;\n",
              "      for (let i = 0; i < script_attrs.length; i++) {\n",
              "        toinsert[toinsert.length - 1].firstChild.setAttribute(script_attrs[i].name, script_attrs[i].value);\n",
              "        toinsert[toinsert.length - 1].firstChild.textContent = bk_div.children[0].textContent\n",
              "      }\n",
              "      // store reference to server id on output_area\n",
              "      output_area._bokeh_server_id = output.metadata[EXEC_MIME_TYPE][\"server_id\"];\n",
              "    }\n",
              "  }\n",
              "\n",
              "  function register_renderer(events, OutputArea) {\n",
              "\n",
              "    function append_mime(data, metadata, element) {\n",
              "      // create a DOM node to render to\n",
              "      const toinsert = this.create_output_subarea(\n",
              "        metadata,\n",
              "        CLASS_NAME,\n",
              "        EXEC_MIME_TYPE\n",
              "      );\n",
              "      this.keyboard_manager.register_events(toinsert);\n",
              "      // Render to node\n",
              "      const props = {data: data, metadata: metadata[EXEC_MIME_TYPE]};\n",
              "      render(props, toinsert[toinsert.length - 1]);\n",
              "      element.append(toinsert);\n",
              "      return toinsert\n",
              "    }\n",
              "\n",
              "    /* Handle when an output is cleared or removed */\n",
              "    events.on('clear_output.CodeCell', handleClearOutput);\n",
              "    events.on('delete.Cell', handleClearOutput);\n",
              "\n",
              "    /* Handle when a new output is added */\n",
              "    events.on('output_added.OutputArea', handleAddOutput);\n",
              "\n",
              "    /**\n",
              "     * Register the mime type and append_mime function with output_area\n",
              "     */\n",
              "    OutputArea.prototype.register_mime_type(EXEC_MIME_TYPE, append_mime, {\n",
              "      /* Is output safe? */\n",
              "      safe: true,\n",
              "      /* Index of renderer in `output_area.display_order` */\n",
              "      index: 0\n",
              "    });\n",
              "  }\n",
              "\n",
              "  // register the mime type if in Jupyter Notebook environment and previously unregistered\n",
              "  if (root.Jupyter !== undefined) {\n",
              "    const events = require('base/js/events');\n",
              "    const OutputArea = require('notebook/js/outputarea').OutputArea;\n",
              "\n",
              "    if (OutputArea.prototype.mime_types().indexOf(EXEC_MIME_TYPE) == -1) {\n",
              "      register_renderer(events, OutputArea);\n",
              "    }\n",
              "  }\n",
              "  if (typeof (root._bokeh_timeout) === \"undefined\" || force === true) {\n",
              "    root._bokeh_timeout = Date.now() + 5000;\n",
              "    root._bokeh_failed_load = false;\n",
              "  }\n",
              "\n",
              "  const NB_LOAD_WARNING = {'data': {'text/html':\n",
              "     \"<div style='background-color: #fdd'>\\n\"+\n",
              "     \"<p>\\n\"+\n",
              "     \"BokehJS does not appear to have successfully loaded. If loading BokehJS from CDN, this \\n\"+\n",
              "     \"may be due to a slow or bad network connection. Possible fixes:\\n\"+\n",
              "     \"</p>\\n\"+\n",
              "     \"<ul>\\n\"+\n",
              "     \"<li>re-rerun `output_notebook()` to attempt to load from CDN again, or</li>\\n\"+\n",
              "     \"<li>use INLINE resources instead, as so:</li>\\n\"+\n",
              "     \"</ul>\\n\"+\n",
              "     \"<code>\\n\"+\n",
              "     \"from bokeh.resources import INLINE\\n\"+\n",
              "     \"output_notebook(resources=INLINE)\\n\"+\n",
              "     \"</code>\\n\"+\n",
              "     \"</div>\"}};\n",
              "\n",
              "  function display_loaded(error = null) {\n",
              "    const el = document.getElementById(null);\n",
              "    if (el != null) {\n",
              "      const html = (() => {\n",
              "        if (typeof root.Bokeh === \"undefined\") {\n",
              "          if (error == null) {\n",
              "            return \"BokehJS is loading ...\";\n",
              "          } else {\n",
              "            return \"BokehJS failed to load.\";\n",
              "          }\n",
              "        } else {\n",
              "          const prefix = `BokehJS ${root.Bokeh.version}`;\n",
              "          if (error == null) {\n",
              "            return `${prefix} successfully loaded.`;\n",
              "          } else {\n",
              "            return `${prefix} <b>encountered errors</b> while loading and may not function as expected.`;\n",
              "          }\n",
              "        }\n",
              "      })();\n",
              "      el.innerHTML = html;\n",
              "\n",
              "      if (error != null) {\n",
              "        const wrapper = document.createElement(\"div\");\n",
              "        wrapper.style.overflow = \"auto\";\n",
              "        wrapper.style.height = \"5em\";\n",
              "        wrapper.style.resize = \"vertical\";\n",
              "        const content = document.createElement(\"div\");\n",
              "        content.style.fontFamily = \"monospace\";\n",
              "        content.style.whiteSpace = \"pre-wrap\";\n",
              "        content.style.backgroundColor = \"rgb(255, 221, 221)\";\n",
              "        content.textContent = error.stack ?? error.toString();\n",
              "        wrapper.append(content);\n",
              "        el.append(wrapper);\n",
              "      }\n",
              "    } else if (Date.now() < root._bokeh_timeout) {\n",
              "      setTimeout(() => display_loaded(error), 100);\n",
              "    }\n",
              "  }\n",
              "\n",
              "  function run_callbacks() {\n",
              "    try {\n",
              "      root._bokeh_onload_callbacks.forEach(function(callback) {\n",
              "        if (callback != null)\n",
              "          callback();\n",
              "      });\n",
              "    } finally {\n",
              "      delete root._bokeh_onload_callbacks\n",
              "    }\n",
              "    console.debug(\"Bokeh: all callbacks have finished\");\n",
              "  }\n",
              "\n",
              "  function load_libs(css_urls, js_urls, callback) {\n",
              "    if (css_urls == null) css_urls = [];\n",
              "    if (js_urls == null) js_urls = [];\n",
              "\n",
              "    root._bokeh_onload_callbacks.push(callback);\n",
              "    if (root._bokeh_is_loading > 0) {\n",
              "      console.debug(\"Bokeh: BokehJS is being loaded, scheduling callback at\", now());\n",
              "      return null;\n",
              "    }\n",
              "    if (js_urls == null || js_urls.length === 0) {\n",
              "      run_callbacks();\n",
              "      return null;\n",
              "    }\n",
              "    console.debug(\"Bokeh: BokehJS not loaded, scheduling load and callback at\", now());\n",
              "    root._bokeh_is_loading = css_urls.length + js_urls.length;\n",
              "\n",
              "    function on_load() {\n",
              "      root._bokeh_is_loading--;\n",
              "      if (root._bokeh_is_loading === 0) {\n",
              "        console.debug(\"Bokeh: all BokehJS libraries/stylesheets loaded\");\n",
              "        run_callbacks()\n",
              "      }\n",
              "    }\n",
              "\n",
              "    function on_error(url) {\n",
              "      console.error(\"failed to load \" + url);\n",
              "    }\n",
              "\n",
              "    for (let i = 0; i < css_urls.length; i++) {\n",
              "      const url = css_urls[i];\n",
              "      const element = document.createElement(\"link\");\n",
              "      element.onload = on_load;\n",
              "      element.onerror = on_error.bind(null, url);\n",
              "      element.rel = \"stylesheet\";\n",
              "      element.type = \"text/css\";\n",
              "      element.href = url;\n",
              "      console.debug(\"Bokeh: injecting link tag for BokehJS stylesheet: \", url);\n",
              "      document.body.appendChild(element);\n",
              "    }\n",
              "\n",
              "    for (let i = 0; i < js_urls.length; i++) {\n",
              "      const url = js_urls[i];\n",
              "      const element = document.createElement('script');\n",
              "      element.onload = on_load;\n",
              "      element.onerror = on_error.bind(null, url);\n",
              "      element.async = false;\n",
              "      element.src = url;\n",
              "      console.debug(\"Bokeh: injecting script tag for BokehJS library: \", url);\n",
              "      document.head.appendChild(element);\n",
              "    }\n",
              "  };\n",
              "\n",
              "  function inject_raw_css(css) {\n",
              "    const element = document.createElement(\"style\");\n",
              "    element.appendChild(document.createTextNode(css));\n",
              "    document.body.appendChild(element);\n",
              "  }\n",
              "\n",
              "  const js_urls = [\"https://cdn.bokeh.org/bokeh/release/bokeh-3.4.3.min.js\", \"https://cdn.bokeh.org/bokeh/release/bokeh-gl-3.4.3.min.js\", \"https://cdn.bokeh.org/bokeh/release/bokeh-widgets-3.4.3.min.js\", \"https://cdn.bokeh.org/bokeh/release/bokeh-tables-3.4.3.min.js\", \"https://cdn.bokeh.org/bokeh/release/bokeh-mathjax-3.4.3.min.js\"];\n",
              "  const css_urls = [];\n",
              "\n",
              "  const inline_js = [    function(Bokeh) {\n",
              "      Bokeh.set_log_level(\"info\");\n",
              "    },\n",
              "function(Bokeh) {\n",
              "    }\n",
              "  ];\n",
              "\n",
              "  function run_inline_js() {\n",
              "    if (root.Bokeh !== undefined || force === true) {\n",
              "      try {\n",
              "            for (let i = 0; i < inline_js.length; i++) {\n",
              "      inline_js[i].call(root, root.Bokeh);\n",
              "    }\n",
              "\n",
              "      } catch (error) {throw error;\n",
              "      }} else if (Date.now() < root._bokeh_timeout) {\n",
              "      setTimeout(run_inline_js, 100);\n",
              "    } else if (!root._bokeh_failed_load) {\n",
              "      console.log(\"Bokeh: BokehJS failed to load within specified timeout.\");\n",
              "      root._bokeh_failed_load = true;\n",
              "    } else if (force !== true) {\n",
              "      const cell = $(document.getElementById(null)).parents('.cell').data().cell;\n",
              "      cell.output_area.append_execute_result(NB_LOAD_WARNING)\n",
              "    }\n",
              "  }\n",
              "\n",
              "  if (root._bokeh_is_loading === 0) {\n",
              "    console.debug(\"Bokeh: BokehJS loaded, going straight to plotting\");\n",
              "    run_inline_js();\n",
              "  } else {\n",
              "    load_libs(css_urls, js_urls, function() {\n",
              "      console.debug(\"Bokeh: BokehJS plotting callback run at\", now());\n",
              "      run_inline_js();\n",
              "    });\n",
              "  }\n",
              "}(window));"
            ],
            "application/vnd.bokehjs_load.v0+json": "'use strict';\n(function(root) {\n  function now() {\n    return new Date();\n  }\n\n  const force = true;\n\n  if (typeof root._bokeh_onload_callbacks === \"undefined\" || force === true) {\n    root._bokeh_onload_callbacks = [];\n    root._bokeh_is_loading = undefined;\n  }\n\n\n  if (typeof (root._bokeh_timeout) === \"undefined\" || force === true) {\n    root._bokeh_timeout = Date.now() + 5000;\n    root._bokeh_failed_load = false;\n  }\n\n  const NB_LOAD_WARNING = {'data': {'text/html':\n     \"<div style='background-color: #fdd'>\\n\"+\n     \"<p>\\n\"+\n     \"BokehJS does not appear to have successfully loaded. If loading BokehJS from CDN, this \\n\"+\n     \"may be due to a slow or bad network connection. Possible fixes:\\n\"+\n     \"</p>\\n\"+\n     \"<ul>\\n\"+\n     \"<li>re-rerun `output_notebook()` to attempt to load from CDN again, or</li>\\n\"+\n     \"<li>use INLINE resources instead, as so:</li>\\n\"+\n     \"</ul>\\n\"+\n     \"<code>\\n\"+\n     \"from bokeh.resources import INLINE\\n\"+\n     \"output_notebook(resources=INLINE)\\n\"+\n     \"</code>\\n\"+\n     \"</div>\"}};\n\n  function display_loaded(error = null) {\n    const el = document.getElementById(null);\n    if (el != null) {\n      const html = (() => {\n        if (typeof root.Bokeh === \"undefined\") {\n          if (error == null) {\n            return \"BokehJS is loading ...\";\n          } else {\n            return \"BokehJS failed to load.\";\n          }\n        } else {\n          const prefix = `BokehJS ${root.Bokeh.version}`;\n          if (error == null) {\n            return `${prefix} successfully loaded.`;\n          } else {\n            return `${prefix} <b>encountered errors</b> while loading and may not function as expected.`;\n          }\n        }\n      })();\n      el.innerHTML = html;\n\n      if (error != null) {\n        const wrapper = document.createElement(\"div\");\n        wrapper.style.overflow = \"auto\";\n        wrapper.style.height = \"5em\";\n        wrapper.style.resize = \"vertical\";\n        const content = document.createElement(\"div\");\n        content.style.fontFamily = \"monospace\";\n        content.style.whiteSpace = \"pre-wrap\";\n        content.style.backgroundColor = \"rgb(255, 221, 221)\";\n        content.textContent = error.stack ?? error.toString();\n        wrapper.append(content);\n        el.append(wrapper);\n      }\n    } else if (Date.now() < root._bokeh_timeout) {\n      setTimeout(() => display_loaded(error), 100);\n    }\n  }\n\n  function run_callbacks() {\n    try {\n      root._bokeh_onload_callbacks.forEach(function(callback) {\n        if (callback != null)\n          callback();\n      });\n    } finally {\n      delete root._bokeh_onload_callbacks\n    }\n    console.debug(\"Bokeh: all callbacks have finished\");\n  }\n\n  function load_libs(css_urls, js_urls, callback) {\n    if (css_urls == null) css_urls = [];\n    if (js_urls == null) js_urls = [];\n\n    root._bokeh_onload_callbacks.push(callback);\n    if (root._bokeh_is_loading > 0) {\n      console.debug(\"Bokeh: BokehJS is being loaded, scheduling callback at\", now());\n      return null;\n    }\n    if (js_urls == null || js_urls.length === 0) {\n      run_callbacks();\n      return null;\n    }\n    console.debug(\"Bokeh: BokehJS not loaded, scheduling load and callback at\", now());\n    root._bokeh_is_loading = css_urls.length + js_urls.length;\n\n    function on_load() {\n      root._bokeh_is_loading--;\n      if (root._bokeh_is_loading === 0) {\n        console.debug(\"Bokeh: all BokehJS libraries/stylesheets loaded\");\n        run_callbacks()\n      }\n    }\n\n    function on_error(url) {\n      console.error(\"failed to load \" + url);\n    }\n\n    for (let i = 0; i < css_urls.length; i++) {\n      const url = css_urls[i];\n      const element = document.createElement(\"link\");\n      element.onload = on_load;\n      element.onerror = on_error.bind(null, url);\n      element.rel = \"stylesheet\";\n      element.type = \"text/css\";\n      element.href = url;\n      console.debug(\"Bokeh: injecting link tag for BokehJS stylesheet: \", url);\n      document.body.appendChild(element);\n    }\n\n    for (let i = 0; i < js_urls.length; i++) {\n      const url = js_urls[i];\n      const element = document.createElement('script');\n      element.onload = on_load;\n      element.onerror = on_error.bind(null, url);\n      element.async = false;\n      element.src = url;\n      console.debug(\"Bokeh: injecting script tag for BokehJS library: \", url);\n      document.head.appendChild(element);\n    }\n  };\n\n  function inject_raw_css(css) {\n    const element = document.createElement(\"style\");\n    element.appendChild(document.createTextNode(css));\n    document.body.appendChild(element);\n  }\n\n  const js_urls = [\"https://cdn.bokeh.org/bokeh/release/bokeh-3.4.3.min.js\", \"https://cdn.bokeh.org/bokeh/release/bokeh-gl-3.4.3.min.js\", \"https://cdn.bokeh.org/bokeh/release/bokeh-widgets-3.4.3.min.js\", \"https://cdn.bokeh.org/bokeh/release/bokeh-tables-3.4.3.min.js\", \"https://cdn.bokeh.org/bokeh/release/bokeh-mathjax-3.4.3.min.js\"];\n  const css_urls = [];\n\n  const inline_js = [    function(Bokeh) {\n      Bokeh.set_log_level(\"info\");\n    },\nfunction(Bokeh) {\n    }\n  ];\n\n  function run_inline_js() {\n    if (root.Bokeh !== undefined || force === true) {\n      try {\n            for (let i = 0; i < inline_js.length; i++) {\n      inline_js[i].call(root, root.Bokeh);\n    }\n\n      } catch (error) {throw error;\n      }} else if (Date.now() < root._bokeh_timeout) {\n      setTimeout(run_inline_js, 100);\n    } else if (!root._bokeh_failed_load) {\n      console.log(\"Bokeh: BokehJS failed to load within specified timeout.\");\n      root._bokeh_failed_load = true;\n    } else if (force !== true) {\n      const cell = $(document.getElementById(null)).parents('.cell').data().cell;\n      cell.output_area.append_execute_result(NB_LOAD_WARNING)\n    }\n  }\n\n  if (root._bokeh_is_loading === 0) {\n    console.debug(\"Bokeh: BokehJS loaded, going straight to plotting\");\n    run_inline_js();\n  } else {\n    load_libs(css_urls, js_urls, function() {\n      console.debug(\"Bokeh: BokehJS plotting callback run at\", now());\n      run_inline_js();\n    });\n  }\n}(window));"
          },
          "metadata": {}
        },
        {
          "output_type": "display_data",
          "data": {
            "text/html": [
              "\n",
              "  <div id=\"a898c3aa-a72c-461d-9a8b-02fd19a2f6c9\" data-root-id=\"p1098\" style=\"display: contents;\"></div>\n"
            ]
          },
          "metadata": {}
        },
        {
          "output_type": "display_data",
          "data": {
            "application/javascript": [
              "(function(root) {\n",
              "  function embed_document(root) {\n",
              "  const docs_json = {\"f6a34476-1569-42e1-ac0a-b6d9f30836c5\":{\"version\":\"3.4.3\",\"title\":\"Bokeh Application\",\"roots\":[{\"type\":\"object\",\"name\":\"Figure\",\"id\":\"p1098\",\"attributes\":{\"height\":400,\"x_range\":{\"type\":\"object\",\"name\":\"DataRange1d\",\"id\":\"p1099\"},\"y_range\":{\"type\":\"object\",\"name\":\"DataRange1d\",\"id\":\"p1100\"},\"x_scale\":{\"type\":\"object\",\"name\":\"LinearScale\",\"id\":\"p1107\"},\"y_scale\":{\"type\":\"object\",\"name\":\"LinearScale\",\"id\":\"p1108\"},\"title\":{\"type\":\"object\",\"name\":\"Title\",\"id\":\"p1105\"},\"renderers\":[{\"type\":\"object\",\"name\":\"GlyphRenderer\",\"id\":\"p1136\",\"attributes\":{\"data_source\":{\"type\":\"object\",\"name\":\"ColumnDataSource\",\"id\":\"p1095\",\"attributes\":{\"selected\":{\"type\":\"object\",\"name\":\"Selection\",\"id\":\"p1096\",\"attributes\":{\"indices\":[],\"line_indices\":[]}},\"selection_policy\":{\"type\":\"object\",\"name\":\"UnionRenderers\",\"id\":\"p1097\"},\"data\":{\"type\":\"map\",\"entries\":[[\"x\",{\"type\":\"ndarray\",\"array\":{\"type\":\"bytes\",\"data\":\"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\"},\"shape\":[1001],\"dtype\":\"float32\",\"order\":\"little\"}],[\"y\",{\"type\":\"ndarray\",\"array\":{\"type\":\"bytes\",\"data\":\"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\"},\"shape\":[1001],\"dtype\":\"float32\",\"order\":\"little\"}],[\"color\",[\"blue\",\"blue\",\"blue\",\"blue\",\"blue\",\"blue\",\"blue\",\"blue\",\"blue\",\"blue\",\"blue\",\"blue\",\"blue\",\"blue\",\"blue\",\"blue\",\"blue\",\"blue\",\"blue\",\"blue\",\"blue\",\"blue\",\"blue\",\"blue\",\"blue\",\"blue\",\"blue\",\"blue\",\"blue\",\"blue\",\"blue\",\"blue\",\"blue\",\"blue\",\"blue\",\"blue\",\"blue\",\"blue\",\"blue\",\"blue\",\"blue\",\"blue\",\"blue\",\"blue\",\"blue\",\"blue\",\"blue\",\"blue\",\"blue\",\"blue\",\"blue\",\"blue\",\"blue\",\"blue\",\"blue\",\"blue\",\"blue\",\"blue\",\"blue\",\"blue\",\"blue\",\"blue\",\"blue\",\"blue\",\"blue\",\"blue\",\"blue\",\"blue\",\"blue\",\"blue\",\"blue\",\"blue\",\"blue\",\"blue\",\"blue\",\"blue\",\"blue\",\"blue\",\"blue\",\"blue\",\"blue\",\"blue\",\"blue\",\"blue\",\"blue\",\"blue\",\"blue\",\"blue\",\"blue\",\"blue\",\"blue\",\"blue\",\"blue\",\"blue\",\"blue\",\"blue\",\"blue\",\"blue\",\"blue\",\"blue\",\"blue\",\"blue\",\"blue\",\"blue\",\"blue\",\"blue\",\"blue\",\"blue\",\"blue\",\"blue\",\"blue\",\"blue\",\"blue\",\"blue\",\"blue\",\"blue\",\"blue\",\"blue\",\"blue\",\"blue\",\"blue\",\"blue\",\"blue\",\"blue\",\"blue\",\"blue\",\"blue\",\"blue\",\"blue\",\"blue\",\"blue\",\"blue\",\"blue\",\"blue\",\"blue\",\"blue\",\"blue\",\"blue\",\"blue\",\"blue\",\"blue\",\"blue\",\"blue\",\"blue\",\"blue\",\"blue\",\"blue\",\"blue\",\"blue\",\"blue\",\"blue\",\"blue\",\"blue\",\"blue\",\"blue\",\"blue\",\"blue\",\"blue\",\"blue\",\"blue\",\"blue\",\"blue\",\"blue\",\"blue\",\"blue\",\"blue\",\"blue\",\"blue\",\"blue\",\"blue\",\"blue\",\"blue\",\"blue\",\"blue\",\"blue\",\"blue\",\"blue\",\"blue\",\"blue\",\"blue\",\"blue\",\"blue\",\"blue\",\"blue\",\"blue\",\"blue\",\"blue\",\"blue\",\"blue\",\"blue\",\"blue\",\"blue\",\"blue\",\"blue\",\"blue\",\"blue\",\"blue\",\"blue\",\"blue\",\"blue\",\"blue\",\"blue\",\"blue\",\"blue\",\"blue\",\"blue\",\"blue\",\"blue\",\"blue\",\"blue\",\"blue\",\"blue\",\"blue\",\"blue\",\"blue\",\"blue\",\"blue\",\"blue\",\"blue\",\"blue\",\"blue\",\"blue\",\"blue\",\"blue\",\"blue\",\"blue\",\"blue\",\"blue\",\"blue\",\"blue\",\"blue\",\"blue\",\"blue\",\"blue\",\"blue\",\"blue\",\"blue\",\"blue\",\"blue\",\"blue\",\"blue\",\"blue\",\"blue\",\"blue\",\"blue\",\"blue\",\"blue\",\"blue\",\"blue\",\"blue\",\"blue\",\"blue\",\"blue\",\"blue\",\"blue\",\"blue\",\"blue\",\"blue\",\"blue\",\"blue\",\"blue\",\"blue\",\"blue\",\"blue\",\"blue\",\"blue\",\"blue\",\"blue\",\"blue\",\"blue\",\"blue\",\"blue\",\"blue\",\"blue\",\"blue\",\"blue\",\"blue\",\"blue\",\"blue\",\"blue\",\"blue\",\"blue\",\"blue\",\"blue\",\"blue\",\"blue\",\"blue\",\"blue\",\"blue\",\"blue\",\"blue\",\"blue\",\"blue\",\"blue\",\"blue\",\"blue\",\"blue\",\"blue\",\"blue\",\"blue\",\"blue\",\"blue\",\"blue\",\"blue\",\"blue\",\"blue\",\"blue\",\"blue\",\"blue\",\"blue\",\"blue\",\"blue\",\"blue\",\"blue\",\"blue\",\"blue\",\"blue\",\"blue\",\"blue\",\"blue\",\"blue\",\"blue\",\"blue\",\"blue\",\"blue\",\"blue\",\"blue\",\"blue\",\"blue\",\"blue\",\"blue\",\"blue\",\"blue\",\"blue\",\"blue\",\"blue\",\"blue\",\"blue\",\"blue\",\"blue\",\"blue\",\"blue\",\"blue\",\"blue\",\"blue\",\"blue\",\"blue\",\"blue\",\"blue\",\"blue\",\"blue\",\"blue\",\"blue\",\"blue\",\"blue\",\"blue\",\"blue\",\"blue\",\"blue\",\"blue\",\"blue\",\"blue\",\"blue\",\"blue\",\"blue\",\"blue\",\"blue\",\"blue\",\"blue\",\"blue\",\"blue\",\"blue\",\"blue\",\"blue\",\"blue\",\"blue\",\"blue\",\"blue\",\"blue\",\"blue\",\"blue\",\"blue\",\"blue\",\"blue\",\"blue\",\"blue\",\"blue\",\"blue\",\"blue\",\"blue\",\"blue\",\"blue\",\"blue\",\"blue\",\"blue\",\"blue\",\"blue\",\"blue\",\"blue\",\"blue\",\"blue\",\"blue\",\"blue\",\"blue\",\"blue\",\"blue\",\"blue\",\"blue\",\"blue\",\"blue\",\"blue\",\"blue\",\"blue\",\"blue\",\"blue\",\"blue\",\"blue\",\"blue\",\"blue\",\"blue\",\"blue\",\"blue\",\"blue\",\"blue\",\"blue\",\"blue\",\"blue\",\"blue\",\"blue\",\"blue\",\"blue\",\"blue\",\"blue\",\"blue\",\"blue\",\"blue\",\"blue\",\"blue\",\"blue\",\"blue\",\"blue\",\"blue\",\"blue\",\"blue\",\"blue\",\"blue\",\"blue\",\"blue\",\"blue\",\"blue\",\"blue\",\"blue\",\"blue\",\"blue\",\"blue\",\"blue\",\"blue\",\"blue\",\"blue\",\"blue\",\"blue\",\"blue\",\"blue\",\"blue\",\"blue\",\"blue\",\"blue\",\"blue\",\"blue\",\"blue\",\"blue\",\"blue\",\"blue\",\"blue\",\"blue\",\"blue\",\"blue\",\"blue\",\"blue\",\"blue\",\"blue\",\"blue\",\"blue\",\"blue\",\"blue\",\"blue\",\"blue\",\"blue\",\"blue\",\"blue\",\"blue\",\"blue\",\"blue\",\"blue\",\"blue\",\"blue\",\"blue\",\"blue\",\"blue\",\"blue\",\"blue\",\"blue\",\"blue\",\"blue\",\"blue\",\"blue\",\"blue\",\"blue\",\"blue\",\"blue\",\"blue\",\"blue\",\"blue\",\"blue\",\"blue\",\"blue\",\"blue\",\"blue\",\"blue\",\"blue\",\"blue\",\"blue\",\"blue\",\"blue\",\"blue\",\"blue\",\"blue\",\"blue\",\"blue\",\"blue\",\"blue\",\"blue\",\"blue\",\"blue\",\"blue\",\"blue\",\"blue\",\"blue\",\"blue\",\"blue\",\"blue\",\"blue\",\"blue\",\"blue\",\"blue\",\"blue\",\"blue\",\"blue\",\"blue\",\"blue\",\"blue\",\"blue\",\"blue\",\"blue\",\"blue\",\"blue\",\"blue\",\"blue\",\"blue\",\"blue\",\"blue\",\"blue\",\"blue\",\"blue\",\"blue\",\"blue\",\"blue\",\"blue\",\"blue\",\"blue\",\"blue\",\"blue\",\"blue\",\"blue\",\"blue\",\"blue\",\"blue\",\"blue\",\"blue\",\"blue\",\"blue\",\"blue\",\"blue\",\"blue\",\"blue\",\"blue\",\"blue\",\"blue\",\"blue\",\"blue\",\"blue\",\"blue\",\"blue\",\"blue\",\"blue\",\"blue\",\"blue\",\"blue\",\"blue\",\"blue\",\"blue\",\"blue\",\"blue\",\"blue\",\"blue\",\"blue\",\"blue\",\"blue\",\"blue\",\"blue\",\"blue\",\"blue\",\"blue\",\"blue\",\"blue\",\"blue\",\"blue\",\"blue\",\"blue\",\"blue\",\"blue\",\"blue\",\"blue\",\"blue\",\"blue\",\"blue\",\"blue\",\"blue\",\"blue\",\"blue\",\"blue\",\"blue\",\"blue\",\"blue\",\"blue\",\"blue\",\"blue\",\"blue\",\"blue\",\"blue\",\"blue\",\"blue\",\"blue\",\"blue\",\"blue\",\"blue\",\"blue\",\"blue\",\"blue\",\"blue\",\"blue\",\"blue\",\"blue\",\"blue\",\"blue\",\"blue\",\"blue\",\"blue\",\"blue\",\"blue\",\"blue\",\"blue\",\"blue\",\"blue\",\"blue\",\"blue\",\"blue\",\"blue\",\"blue\",\"blue\",\"blue\",\"blue\",\"blue\",\"blue\",\"blue\",\"blue\",\"blue\",\"blue\",\"blue\",\"blue\",\"blue\",\"blue\",\"blue\",\"blue\",\"blue\",\"blue\",\"blue\",\"blue\",\"blue\",\"blue\",\"blue\",\"blue\",\"blue\",\"blue\",\"blue\",\"blue\",\"blue\",\"blue\",\"blue\",\"blue\",\"blue\",\"blue\",\"blue\",\"blue\",\"blue\",\"blue\",\"blue\",\"blue\",\"blue\",\"blue\",\"blue\",\"blue\",\"blue\",\"blue\",\"blue\",\"blue\",\"blue\",\"blue\",\"blue\",\"blue\",\"blue\",\"blue\",\"blue\",\"blue\",\"blue\",\"blue\",\"blue\",\"blue\",\"blue\",\"blue\",\"blue\",\"blue\",\"blue\",\"blue\",\"blue\",\"blue\",\"blue\",\"blue\",\"blue\",\"blue\",\"blue\",\"blue\",\"blue\",\"blue\",\"blue\",\"blue\",\"blue\",\"blue\",\"blue\",\"blue\",\"blue\",\"blue\",\"blue\",\"blue\",\"blue\",\"blue\",\"blue\",\"blue\",\"blue\",\"blue\",\"blue\",\"blue\",\"blue\",\"blue\",\"blue\",\"blue\",\"blue\",\"blue\",\"blue\",\"blue\",\"blue\",\"blue\",\"blue\",\"blue\",\"blue\",\"blue\",\"blue\",\"blue\",\"blue\",\"blue\",\"blue\",\"blue\",\"blue\",\"blue\",\"blue\",\"blue\",\"blue\",\"blue\",\"blue\",\"blue\",\"blue\",\"blue\",\"blue\",\"blue\",\"blue\",\"blue\",\"blue\",\"blue\",\"blue\",\"blue\",\"blue\",\"blue\",\"blue\",\"blue\",\"blue\",\"blue\",\"blue\",\"blue\",\"blue\",\"blue\",\"blue\",\"blue\",\"blue\",\"blue\",\"blue\",\"blue\",\"blue\",\"blue\",\"blue\",\"blue\",\"blue\",\"blue\",\"blue\",\"blue\",\"blue\",\"blue\",\"blue\",\"blue\",\"blue\",\"blue\",\"blue\",\"blue\",\"blue\",\"blue\",\"blue\",\"blue\",\"blue\",\"blue\",\"blue\",\"blue\",\"blue\",\"blue\",\"blue\",\"blue\",\"blue\",\"blue\",\"blue\",\"blue\",\"blue\",\"blue\",\"blue\",\"blue\",\"blue\",\"blue\",\"blue\",\"blue\",\"blue\",\"blue\",\"blue\",\"blue\",\"blue\",\"blue\",\"blue\",\"blue\",\"blue\",\"blue\",\"blue\",\"blue\",\"blue\",\"blue\",\"blue\",\"blue\",\"blue\",\"blue\",\"blue\",\"blue\",\"blue\",\"blue\",\"blue\",\"blue\",\"blue\",\"blue\",\"blue\",\"blue\",\"blue\",\"blue\",\"blue\",\"blue\",\"blue\",\"blue\",\"blue\",\"blue\",\"blue\",\"blue\",\"blue\",\"blue\",\"blue\",\"blue\",\"blue\",\"blue\",\"blue\",\"blue\",\"blue\",\"blue\",\"blue\",\"blue\",\"blue\",\"blue\",\"blue\",\"blue\",\"blue\",\"blue\",\"blue\",\"blue\",\"blue\",\"blue\",\"blue\",\"blue\",\"blue\",\"blue\",\"blue\",\"blue\",\"blue\",\"blue\",\"blue\",\"blue\",\"blue\",\"blue\",\"blue\",\"blue\",\"blue\",\"blue\",\"blue\",\"blue\",\"blue\",\"blue\",\"blue\",\"blue\",\"blue\",\"blue\",\"blue\",\"blue\",\"blue\",\"blue\",\"blue\",\"blue\",\"blue\",\"blue\",\"blue\",\"blue\",\"blue\",\"blue\",\"blue\",\"blue\",\"blue\",\"blue\",\"blue\",\"blue\",\"blue\",\"blue\",\"blue\",\"blue\",\"blue\",\"blue\",\"blue\",\"blue\",\"blue\",\"blue\",\"blue\",\"blue\",\"blue\",\"blue\",\"blue\",\"blue\",\"blue\",\"blue\",\"blue\",\"blue\",\"blue\",\"blue\",\"blue\",\"blue\",\"blue\",\"blue\",\"blue\",\"blue\",\"blue\",\"blue\",\"blue\",\"blue\",\"blue\",\"blue\",\"blue\",\"blue\",\"blue\",\"blue\",\"blue\",\"blue\",\"blue\",\"blue\",\"blue\"]],[\"phrase\",[\"Can I get back with my ex even though she is pregn\",\"What is the best way to become an arms dealer in t\",\"Why doesn't Japan contribute to peace and prosperi\",\"Which is the best Panasonic air conditioner servic\",\"What did ancient Egyptians believe about the after\",\"How does one prepare for the RBI grade B officers \",\"Which institutions in Kolkata give coaching for en\",\"Will omar bravo be in fifa 17?\\n\",\"What are the pros and cons of arranged marriages?\\n\",\"What will happen if all the vegetable dies?\\n\",\"Why do people hate hypocrites?\\n\",\"What do you consider poor, middle class, wealthy a\",\"How do I concentrate on my studies?\\n\",\"What is new age psychobabble?\\n\",\"How can you tell if your man is cheating even if h\",\"Can you see yourself during lucid dreaming?\\n\",\"Which browser is most safe in terms of privacy and\",\"Can Google Assistant run on OnePlus 3T?\\n\",\"Apart from the VW Vento / Polo and Skoda Rapid, ar\",\"What is Panera Bread?\\n\",\"Do athletes live longer and healthier? If not, why\",\"Could a pitbull take on a wolf in a fight?\\n\",\"What has Obama done for Latinos/Hispanics?\\n\",\"How much is |x|^2?\\n\",\"How does operator.com work?\\n\",\"Why do people not make movies/talk about the Romas\",\"What were the major contributions of the political\",\"Company Secretaries (CS): How do I prepare for CS \",\"What are the job prospects of chemical engineers a\",\"I have never gone to a bank. How do I put money in\",\"What is the best strategy to prepare for the GATE \",\"Who is this porn star?\\n\",\"Why are specs & sunglasses so expensive?\\n\",\"I installed the movie torrent with Ultra XVid Code\",\"Can we ride scootry with learning lisence age of 1\",\"Two cards were drawn, without replacement, from a \",\"How much money is needed per month to live in indi\",\"Why do companies issue bonus shares?\\n\",\"Why are Iranians and Afghans considered white Amer\",\"Could mumps cause deafness?\\n\",\"What is meaning of sadaka?\\n\",\"What should I know before starting a YouTube caree\",\"Is the ITI College Principal is gazetted officer?\\n\",\"How do you feel now that Donald Trump is now the P\",\"What is the difference between imperial units and \",\"What is the easiest way to do effective self hypno\",\"Why has China increased its involvement in the Syr\",\"From which year CBSE class 10th exam be reintroduc\",\"Is 1080p a Blu-ray?\\n\",\"Does using mirrors to concentrate thermal energy d\",\"How do I avoid attractions by phones?\\n\",\"What are some of the effects of education can you \",\"What are the characteristics of a Pisces Sun/Libra\",\"What is the most cost-effective option to ship pac\",\"Are red and blue complementary colors?\\n\",\"Is it possible to make a material that is a superc\",\"What is the best Shonen Jump manga?\\n\",\"Are Oracle and Cisco good companies for a new grad\",\"If lighting a match is considered a chemical chang\",\"Why is Hillary so afraid of Putin?\\n\",\"Which is the best book to study electronics basics\",\"What are the basics I should know before learning \",\"Can I use Cph4 on a day to day basis?\\n\",\"Is it safe when I buy things from China?\\n\",\"Why did some ethnic minorities support Brexit?\\n\",\"How much money has tinder made?\\n\",\"What is the limit?\\n\",\"Will browsing Facebook while connected to Tor reve\",\"If I get 68.4 percent in ftre 2016 class 10 then w\",\"No product market fit: change product or market fi\",\"What makes you sad about India?\\n\",\"How do I know if someone has read my messages on w\",\"Why there is a sound when we crack our knuckles?\\n\",\"Why do I only make friends with guys?\\n\",\"What is 'open-mindedness'?\\n\",\"What is the cause of carpal tunnel syndrome?\\n\",\"What is the difference between a \\\"slow cooker\\\" and\",\"What is Hillary Clinton's stance on nuclear energy\",\"Do IIT colleges require a caste validity for an ST\",\"How do I listen a song from you?\\n\",\"Why do so many Iranians immigrate to Canada?\\n\",\"What will happen to India-U.S. relations after Tru\",\"A program that stored five words in the memory the\",\"What are ways of joining to ISRO as engineer other\",\"Can Magneto defeat Hulk?\\n\",\"What time of year is it best to visit Singapore?\\n\",\"How do I study for ib?\\n\",\"What should I do if someone doesn't reply to my em\",\"How much does Manveer Singh Phogat gets for Dangal\",\"What is it like to be cannibal?\\n\",\"How can the Android app development companies help\",\"Who would you say is the most fun person in Israel\",\"How can one improve her figure and butt size witho\",\"As a company that provides travel agencies and tou\",\"What is the most beautiful thing you saw today?\\n\",\"Is gay flirting good?\\n\",\"Can I use Stripe in Europe?\\n\",\"Will Britain leaving the European Union lead to th\",\"Why are so many East Asian immigrants so averse to\",\"Why do we need computer networking?\\n\",\"What is retina detachment?\\n\",\"Why don't more bars have mechanical bulls?\\n\",\"How do I get better understanding of C++?\\n\",\"Which is the most profitable Porsche US dealer?\\n\",\"What are the best over the ear headphones for abou\",\"Is it true that the first kill is the hardest?\\n\",\"Which is best 32 inch led tv to buy below 20,000 I\",\"I am scoring 130/506 in FiitJEE aits part test adv\",\"What kind of websites are missing from the Interne\",\"What is the best way to use free time at IITB?\\n\",\"Is it possible for me to buy my first company usin\",\"What should I do to have sex with as many women as\",\"What is the scope of Executive MBA in India?\\n\",\"Which BMW models do not have a Hofmeister Kink?\\n\",\"What is yellow journalism?\\n\",\"Why do doctors charge uninsured patients 10 times \",\"Which one is the best public sector job or private\",\"Will social media ever help to spur on the US youn\",\"How should I know a video is 360 degree?\\n\",\"Is a practice manual sufficient for the CA Final I\",\"Career Advice: Being an Indian college student, ho\",\"What are the advantages and disadvantages of Li-Fi\",\"On Snapchat, I deleted someone. Can they re-add me\",\"Are there any cereals that taste good with water?\\n\",\"Why does a woman's vagina push a mans penis out?\\n\",\"What is the British word for bullpen?\\n\",\"How hard is it for international students to get a\",\"How did Revan build his foundation of his army in \",\"What is the best way to read a fictional book? Do \",\"How do you replace a ignition lock cylinder?\\n\",\"How can I prevent business failure?\\n\",\"How often do tides occur? What causes it?\\n\",\"How do I learn Calculus on my own?\\n\",\"What is the reason for Priyanka Gandhi not changin\",\"What should I eat when I'm sick with a cold or flu\",\"What is a Business Intelligence Analyst?\\n\",\"Which sports should I start to play to paticipate \",\"How should I prepare for Java fresher interview?\\n\",\"How different are cuisines of Arab countries?\\n\",\"What is the meaning of the phrase, all is fair in \",\"Why does Quora send me a notification that my ques\",\"What are the hardest obstacles to breaking into a \",\"What makes a falling snowflake large (or not)?\\n\",\"What is the compensation for Partners/Principals a\",\"What is the difference between an array and a vect\",\"If you kiss the NC State wolf do you become an NC \",\"Is it boring (from a social perspective) to live i\",\"What would have happened if in 1971 war all 93000 \",\"What are the easiest things to do while being abro\",\"Does getting root canal cause problem in speaking \",\"What is the definition of a truncated sentence and\",\"Would I look good with a nose ring? if yes which n\",\"What are the perks of working in Amazon?\\n\",\"How can we say that climate change does not bring \",\"What it is like to meet \\\"Shahid Kapoor\\\"?\\n\",\"How does it feel when you are dead?\\n\",\"Which is the best juicer, grinder or mixer in Indi\",\"How do I learn to think more logically?\\n\",\"Which movie has the best beginning ever?\\n\",\"Which laws been enacted to prevent family members \",\"What is iPhone 6s plus cost present?\\n\",\"What is Ohm's law and amperage I?\\n\",\"What is the nicest thing a stranger has done for y\",\"Why do some heroic people who do good things choos\",\"How will Hindus react if Babri Masjid is reconstru\",\"R2I - How did you plan R2I from US if you own the \",\"How can I master C programming in 7 days?\\n\",\"What is the right way to clean ear wax?\\n\",\"What are some good games to play during class?\\n\",\"Is it possible to hack WhatsApp messenger?\\n\",\"Why do airplanes carry more weight than helicopter\",\"Shaving: Do electric shavers work better than manu\",\"Has anyone benefited, health-wise, from essential \",\"Can Students at Hogwarts have sex while there? Doe\",\"How can we enhance our efficiency with Yoga?\\n\",\"What are the best app review sites and blogs?\\n\",\"Can two companies be registered on the same addres\",\"Is it true that as per Indian law, one can't be ha\",\"Who would win in a war between Bangladesh and Myan\",\"How do you reply when someone thanks you for forgi\",\"Who would win a fight between wolverine and Batman\",\"What is one thing you wish for yourself in the fut\",\"Can you cry underwater?\\n\",\"What's the difference between SSL, TLS, and HTTPS?\",\"Why are antigravity muscles more affected in Upper\",\"In order to buy a house, does one have to rent fir\",\"What is the probability of choosing a pink ball fr\",\"Which is the best car to get under 8 lakhs?\\n\",\"Why isn't China's role in the Korean and Vietnam w\",\"What is the Laplace transform of t^(1/2) * e^ (-1/\",\"To those who told a big lie to their parents and t\",\"What is runtime polymorphism or dynamic method dis\",\"I had sex 5 days after my period, what are the cha\",\"How would you describe yourself in one tweet?\\n\",\"How do fairy tales influence creativity in humans?\",\"How do I add delay() and sound() in Dev-C++?\\n\",\"What is the pathophysiology of ADHD?\\n\",\"What are the top benefits of life insurance polici\",\"Can I get a TV from Bang & Olufsen for under $2500\",\"How is the life of an ece student at dayananda sag\",\"What is meditation?\\n\",\"Were the Ancient Greeks scientists, or just philos\",\"How does Google authenticator work?\\n\",\"Wouldn't it be better if kids were allowed to focu\",\"Can you apply for a certificate on Coursera/edX af\",\"Why do Quora engineers use large monitors?\\n\",\"How do I start an online clothing business?\\n\",\"How will the government meet the challenges of acc\",\"I saw a charge on my credit card under from a comp\",\"What is the difference between socialization and r\",\"How would the world be different if everyone spoke\",\"Who receives the fares in a cab service?\\n\",\"As a non-resident alien doing a summer internship \",\"Which is the best camera smartphone under 20k?\\n\",\"What does it mean to dream about someone before th\",\"What are the subjects in which I can apply for my \",\"What are the basics of Jainism?\\n\",\"What is the Difference between existential nihilis\",\"How can I see my girlfriend's WhatsApp chat messag\",\"What are some ways to enjoy sex with my newly marr\",\"How can I study the Bible?\\n\",\"How can someone be a friend, girlfriend, wife and \",\"What are the Snapchat usernames of punjabi celebri\",\"What is 1/2 times 1/2?\\n\",\"Where does the word restaurant come from and what \",\"What can I do with a computational linguistics deg\",\"Will trump win as president?\\n\",\"What impact will AI eventually have on how we plan\",\"Why is eating too unhealthy?\\n\",\"What if the Syrian civil war never happened?\\n\",\"How do the teachings, learning, followership and/o\",\"Did you ever been in a group of stupid people?\\n\",\"What are the multiple types of social issues?\\n\",\"Where can I find beginner NodeJS tutorials that us\",\"If I got a 7.4 CGPA in the SA1 10 class, then can \",\"Which the best time table for 10th class exams pre\",\"Elite Escorts in DHA Lahore?\\n\",\"My ex bf says he doesn't have feelings for me righ\",\"What are the questions in the interview for a fres\",\"What do you think are some of benefits to humans f\",\"Which one is the best medical college hostel in in\",\"Have you lived in a tiny house?\\n\",\"What are some things new employees should know goi\",\"Where can I hire high pressure cleaning service in\",\"How many Bollywood Actresses consume alcohol in re\",\"How does PayU earn money?\\n\",\"Is it possible to change your personality as a chi\",\"How do I apply to London School of Economics as an\",\"How do I build a profile to get accepted into a st\",\"How can I get real ghost stories?\\n\",\"Is it possible to hack NASA's New Horizons satelli\",\"What is the best way of getting good at answering \",\"How would you deal with jerks?\\n\",\"How can I do internship in Accenture India?\\n\",\"Why would an Indian girl not want to get married?\\n\",\"My WhatsApp chat backup got deleted from Google, I\",\"Is going to college really worth it or just a wast\",\"How many prophets did God send to the Jews?\\n\",\"What is the relation and difference between Artifi\",\"If you don\\u2019t have a good network, what would be th\",\"What are the best place to visit in Rio de Janeiro\",\"Which is the best college for PG in Cyber Security\",\"Which are the best English serials?\\n\",\"How do you say \\u201cWhat\\u2019s up?\\u201d in Chinese?\\n\",\"Is it bad to take expired fish oil pills because t\",\"Will there ever be a genuine Authoritarian candida\",\"Is World War III on its way right now?\\n\",\"How can you use time formats in Excel?\\n\",\"What is the best antivirus for Windows 8?\\n\",\"Why do people like Metal/Hard rock so much?\\n\",\"What are the worst smelling things in the world?\\n\",\"Could someone explain the following electives at N\",\"What's a funny thing?\\n\",\"What are the main reason of cracks?\\n\",\"How do I hitchhike in Europe?\\n\",\"What is the physical significance of quantum mecha\",\"How do we get dead people off business junk mail l\",\"Who among the four in the picture given in descrip\",\"How do I know if I authentically, genuinely, hones\",\"On average, how long does it take a letter mail fr\",\"When will One Piece have episode 517 dubbed?\\n\",\"What should I do if I fell in love with my best fr\",\"How do criminal lawyers sleep at night even when t\",\"Can I get refund for Tatkal e-ticket because train\",\"How can I buy the new Macbook 12\\\" M7 512GB model i\",\"What are the different e-governance methods used b\",\"How do I run smoother GTA V? I have intel core i3 \",\"What is the use of tanpura?\\n\",\"What are the Snapchat usernames of celebrities?\\n\",\"Which is better- cracking gate and going for IIT/i\",\"Can you lose weight without exercising?\\n\",\"What is the best way to make life more interesting\",\"Is Delhi a must for UPSC coaching?\\n\",\"Which are the best colleges for electronics and in\",\"I have been a .Net developer for over 2 years and \",\"Has a smartphone ever been taken to space? If yes \",\"What questions should I ask my boyfriend, we are b\",\"How do I delete a contact blocked in WhatsApp?\\n\",\"Is it a good time to buy real estate in Cyprus?\\n\",\"South India: Why is South India much more develope\",\"What is the formula for a hydrocarbon?\\n\",\"What if an alien comes and tells us that the physi\",\"What are the pros & cons of democracy?\\n\",\"I'm 16 years old and wanted to lose weight and bod\",\"Can I add more peers to the torrent for max speed \",\"What are the best neighborhoods to Airbnb in Chica\",\"What we will get in mahabalipuram beach sunrise or\",\"How fast can you accelerate to the speed of light?\",\"What is the difference between R-squared and Adjus\",\"How many times can women reach orgasm in a hour an\",\"Why didn't Johor, Batam & Singapore integrate more\",\"Which products are more profitable in online sell?\",\"How do I get rid of muscle?\\n\",\"What is the process of directing and casting child\",\"Is the 7th pay commission needed?\\n\",\"What are the best games that are compatible on a C\",\"What was the significance of the battle of Somme, \",\"How do you see Pakistan PM Nawaz Sharif's speech a\",\"Where can I publish my apps?\\n\",\"What was your darkest moment?\\n\",\"Why does the UK have an unwritten Constitution?\\n\",\"What are the necessary steps in documenting a mobi\",\"Why was life created? Why was life so painful?\\n\",\"How can I use explainer video to review products o\",\"What is difference between residue and error?\\n\",\"If 6.5 to 8.5 will be the safe level of pH value i\",\"I am 23 and don't know what I want. My life is ver\",\"What are your three favorite websites for reading?\",\"Why do people choose to be a GAY?\\n\",\"What is the process of death?\\n\",\"Why does light red deserve the special name \\\"pink\\\"\",\"Who are millennials?\\n\",\"What it's like doing CA articleship from Big 4s?\\n\",\"What is the most important right or freedom guaran\",\"Why do some porn stars have unprotected sex?\\n\",\"What are my reasons to live?\\n\",\"How small would a planet need to be to plainly see\",\"Some religion speaks of burning in hell after deat\",\"What does it feel like to be an IITian?\\n\",\"How does cognitive behavioural therapy work?\\n\",\"Why should you visit India?\\n\",\"I lost my Google account information. How can I re\",\"What if I port a number from Airtel to Vodafone in\",\"What are the reasons why time travel is impossible\",\"Will my iPhone alarm still go off if \\\"Do Not Distu\",\"Did South Korea cheat during the 2014 Asian Games?\",\"Take the minimum lethal volume of a gaz, put it in\",\"\\\"How to improve Project Management skills?\\\"\\n\",\"When you were small, did you ever think that your \",\"Where did the pointy \\\"S\\\" symbol come from?\\n\",\"How does it feels like to have a rich boyfriend?\\n\",\"What have you used your intelligence for?\\n\",\"What is a freewheeling diode?\\n\",\"How do we derive pi?\\n\",\"What is the importance of communication skills in \",\"How can I put icons on YouTube video titles? Also \",\"What does the phrase \\\"resonate with me\\\" mean?\\n\",\"How many types do we have of Manual testing?\\n\",\"What are IBAN numbers?\\n\",\"What is regret?\\n\",\"As a student specializing in English language, lit\",\"What is the corporate culture like at Corning? How\",\"How can I convert jazz standards to jazz guitar so\",\"How good was the surgical strike by Indian Army on\",\"What recipes are most conducive to romance?\\n\",\"What are the unknown facts about Tamil people whic\",\"Where do I find the most beautiful woman in the wo\",\"What does the grey phone icon mean on the messenge\",\"How do I share 360\\u00b0 photos on WhatsApp?\\n\",\"What is the difference between working stress meth\",\"What are the opportunities for an MBA in finance?\\n\",\"Can you patent clothing or fashion designs?\\n\",\"My in laws are apologists for Nazi war criminals a\",\"Which is the safest city in India for women?\\n\",\"What horse breed were commonly used during the \\\"Wi\",\"Is it weird to sometimes feel almost overwhelmed b\",\"Can anyone please list all the SAP SD topics a per\",\"In the filling of ibps application I put martial s\",\"In a restaurant, what are the different types of t\",\"Why does amir khan never go to any filmy awards fu\",\"What is a good inpatient drug and alcohol rehab ce\",\"Why does UV light cause contamination on optics, b\",\"How do I invest in mutual funds in India?\\n\",\"How comfortable are you with failure?\\n\",\"What skills are required to become a quant?\\n\",\"Why do startups announce fundraising?\\n\",\"What is your review of Amazon Video?\\n\",\"Why there is no team from Tamil nadu in pro kabbad\",\"How do I auto forward texts from my Verizon phone \",\"How do the Chinese people view Americans?\\n\",\"What is virgin or virginity?\\n\",\"What are the different ways of submitting a Reques\",\"Can a high school teacher legally force students t\",\"Why does water droplets form on the outer surface \",\"Which mammals have dark circles around eyes beside\",\"How do each components of a printer work?\\n\",\"What are some foods beginning with the letter W?\\n\",\"What are symptoms of a bad transmission control mo\",\"How do astronauts in ISS vote for Presidential ele\",\"What is the difference between Aim and Goal?\\n\",\"What is AT & C?\\n\",\"Who was Jackson Pollock? Was he mentally ill?\\n\",\"How do I make good vine edits?\\n\",\"How can I cut my penis?\\n\",\"How can I change my Quora profile photo?\\n\",\"My husband was here seeking asylum before we got m\",\"Is it good to use Laravel to develop a web app wit\",\"I have a mild sore throat an headache. What is tha\",\"When will a working nintendo 3DS emulator release \",\"What do we know about the health effects of vaping\",\"INSEAD: Worth the investment?\\n\",\"How is long rides in royal Enfield classic 350?\\n\",\"What famous boxers have participated on Dancing wi\",\"Will season 10 of Big Bang Theory be the final sea\",\"Can I crack KVPY (SX) with only three months left \",\"What are some little-known facts from World War II\",\"What is the most unique way of exam cheating you'v\",\"When was the last time a slam dunk broke a basketb\",\"What should I do for my excessive hair loss?\\n\",\"How do I find people's psychological weakness?\\n\",\"What is the difference between Awareness and Consc\",\"I hate everything that people around me like. Is i\",\"I think I am pretty good at thinking of a business\",\"How do you determine the thickness of a footing ba\",\"Why does vapours are formed when we pressurize alc\",\"Is it easy to adjust in German Universities withou\",\"What is UNIX and UNIX-like?\\n\",\"What is the best way to promote www.dorkyard.com?\\n\",\"What's up in Addis Abeba tonight?\\n\",\"Is there any point to going to college if you have\",\"How much would it cost to construct 800 sqft area \",\"What is an ideal wife? What is an ideal husband? W\",\"What information does port scanning provide?\\n\",\"What are the application of quasicrystals?\\n\",\"What is the determinant of the inverse of a matrix\",\"How is Brad Pitt in \\\"real Life\\\"?\\n\",\"I have a 3 yr bachelor's degree in Computer Scienc\",\"Demonetisation is good for county like India or no\",\"My parents think I am rude for being so introverte\",\"How many people have jumped off the Golden Gate br\",\"What are Osho's views on Islam?\\n\",\"Why does the government regulate health care?\\n\",\"Which phone has the best sound recording quality?\\n\",\"What is the best part of your life, and why is it \",\"Which is better hair wax or hair clay?\\n\",\"How do I charge my motorcycle battery?\\n\",\"What are the updates we get after miui 8.0.6.0?\\n\",\"Why does Robinhood need to bypass the App Store?\\n\",\"Which is a better route, Alipiri or Sri Vaari?\\n\",\"How much extra would it cost if Apple manufactured\",\"When will the next recession be?\\n\",\"What are some arguments in support of electing Don\",\"What does Russia want with Ukraine?\\n\",\"What is the difference between a recorder (block f\",\"What is the meaning of random number?\\n\",\"Which one is good for health: tea or coffee?\\n\",\"Is Texas good state for non-resident to register a\",\"What is kirchoff's law?\\n\",\"Is it wrong for a family member to keep making com\",\"My parents are forcing to marry a girl of their ch\",\"Which is better, Windows+Linux or OSX?\\n\",\"Why aren\\u2019t Christians that pray to/have a relation\",\"How much TDS will I have to pay for an RD account \",\"What is the meaning of thematic connection?\\n\",\"How should you prepare to take your maneuverabilit\",\"What are the best materials/videos/resources to ge\",\"Can a \\\"dirty\\\" finish be added back to jeans?\\n\",\"Why does my dog keep whining at night?\\n\",\"Is it bad to turn off my PC using the power button\",\"What is image processing?\\n\",\"I went to school with mostly black kids, they bull\",\"Does Donald Trump actually think he can become Pre\",\"Which are the 5 best movies you have ever seen?\\n\",\"How do I get traffic to excursions travel website?\",\"Where can I download the Android game Leo's Fortun\",\"How do I get more followers and upvotes on Quora?\\n\",\"What is a factory reset on a phone?\\n\",\"Which phone should I buy if my budget is 12000?\\n\",\"I have GPU implementation as a graduation project.\",\"What are the libertarian views on the Antarctic Tr\",\"What would the world be like if it were ruled by a\",\"How do you choose your first bank?\\n\",\"Who runs berkuliah.com?\\n\",\"What does Godel's incompleteness theorem mean for \",\"How do I delete a Gmail account?\\n\",\"If my ultimate goal is to become a vegan, should I\",\"Did the US win the war in Afghanistan?\\n\",\"How can I become a good engineering student?\\n\",\"What are some ways to increase intuition?\\n\",\"What causes depression in humans?\\n\",\"How can I control my anxiety and worries?\\n\",\"How can we jump in between the working regions of \",\"How do I stop loving someone who loves me?\\n\",\"Can personality and insecurity create a liar?\\n\",\"What is the best country and university to do a Ph\",\"How do I edit a video offline?\\n\",\"What is the rent of kiosk in an upscale mall?\\n\",\"What should I start reading if I want to attempt t\",\"Which is the best anti-virus for computers?\\n\",\"Does food unite people?\\n\",\"What do you like most about Internet?\\n\",\"What is a good model of federalism in the Philippi\",\"How do you know if a girl secretly loves you?\\n\",\"Who is the most annoying fictional character you h\",\"How do you feel when your question is unanswered o\",\"Did early humans know how babies were made?\\n\",\"If I cancel xfinity, how can I sign up as a new cu\",\"Are there any TV series similar to House MD?\\n\",\"What you need to know before buying furniture for \",\"Have you ever had a dream happen in reality?\\n\",\"Is dark matter just a scientific theory or has its\",\"How can you increase your tolerance for pain?\\n\",\"How many logical fallacies are there?\\n\",\"How do buttercream icing frosting separate?\\n\",\"Which is the cheapest cinema hall of India?\\n\",\"What do you think would be a good gre score?\\n\",\"What is the best way to update Xiaomi redmi 3 to M\",\"What does toe jam cheese taste like?\\n\",\"How do I know if a YouTube video is copyrighted?\\n\",\"How should I start a business reselling shoes?\\n\",\"How do I hire a mobile app development company?\\n\",\"What is paras pathar?\\n\",\"How is the word \\\"colony\\\" used in a sentence?\\n\",\"What is Rebecca Fugate known for?\\n\",\"What should I consider before starting my consulta\",\"Do you feel that many attractive women get away wi\",\"Why do I feel so much guilt for kissing a girl?\\n\",\"What are some good tutorials for learning Blender?\",\"Is it deceitful to befriend someone in the hopes t\",\"Who do you think BJP will put as a candidate for t\",\"Which protein supplement is best for gym to gain w\",\"What is your review of KVPY SX/SB 2016?\\n\",\"How do I get people's attention for my work?\\n\",\"What are some of your own personal stories and exp\",\"If salt concentration of the sea(3%) were differen\",\"What is the chemical name for mothballs? How was i\",\"Vitamin D receptors in the Testes?\\n\",\"How do I lose weight without working out?\\n\",\"Where can I watch anime?\\n\",\"What is BusyBox used for?\\n\",\"What would be a good desktop computer for software\",\"What are your top five favorite books and why?\\n\",\"What are some good Harry/Ginny fanfiction?\\n\",\"What are the pros and cons of having sex during pe\",\"Which device will you enjoy watching movies in: a \",\"Will there be \\\"faithless\\\" electors this election?\\n\",\"Is Donald Trump an undercover democrat?\\n\",\"Why am I the way I am?\\n\",\"Why do some women get their nipples pierced?\\n\",\"What do Delhi University girls (especially North C\",\"What is the name of this TV series?\\n\",\"My salary is below the Basic Exemption Limit, yet \",\"What is a foliated rock?\\n\",\"What are some of the best books to start learning \",\"How should I prepare for IIT-JEE 2018?\\n\",\"How do unions work?\\n\",\"Can we give neet coaching in class 11?\\n\",\"Which is the best dish TV connection in Hyderabad?\",\"How can you train a Doberman/Lab mix?\\n\",\"How do you reduce stress at work?\\n\",\"What is the best algorithm for finding the number \",\"How can I earn $250 in 2 months?\\n\",\"Why did GE buy NBC?\\n\",\"What is the highest level of c?\\n\",\"How do you mash potatoes without a masher? What el\",\"How difficult is it to learn Python?\\n\",\"How do you convert years into seconds?\\n\",\"How do you view bisexuality?\\n\",\"What is information technology? What are some exam\",\"Why are Altoids so strong?\\n\",\"How effective is email marketing?\\n\",\"Why does my tutor keep winding me up. He says he i\",\"How can I start my Tok essay which is about accura\",\"How do I repair my corrupt memory card?\\n\",\"I have 3 years to prepare for IIT JAM Physics. How\",\"What are the best Instagram hack tools that have n\",\"I am studing interior design. What are some good i\",\"What are some stupid jokes that make you laugh?\\n\",\"What are the factors affecting Real estate investm\",\"How can I get rid of white dry spot on my face? It\",\"What is it like to have an ugly wife/partner?\\n\",\"What do you love most about your life and why?\\n\",\"In the unlikely event that the Electoral College t\",\"How is life as an Engineer?\\n\",\"Where and why are the imaginary numbers used?\\n\",\"What are some good hypo-allergenic lipsticks?\\n\",\"Did the United Nations play a part in the divide o\",\"When and Why did America become a world power?\\n\",\"What are some recipes using Hormel Black Label Ham\",\"Which is the best company to invest shares on Nove\",\"The man I'm about 2 marry says when I have my peri\",\"What can be the best answer for why finance?\\n\",\"What are the best facts about the universe?\\n\",\"What's the sweetest thing you did for a bestfriend\",\"What is the difference between techno and trance m\",\"TV Sitcoms: Why do English comedy shows have peopl\",\"Does percentile system would affect neet 1 student\",\"Is there Uber in Valencia, Madrid and Barcelona?\\n\",\"Have real-life siblings ever shot intimate scenes \",\"How should I improve my writing skill for blogging\",\"Can cold weather affect a menstrual cycle?\\n\",\"How can we earn money online while studying?\\n\",\"Can a tablet keyboard be used on any kind of table\",\"What are the Upcoming development projects in Chha\",\"Where can I buy cheap Twitter followers?\\n\",\"Why do passengers from aircraft are not given a bu\",\"When should I tell my crush I like her?\\n\",\"Why does Pakistan have a better image and reputati\",\"What are Andrea Pirlo's strengths as a midfielder?\",\"From a point in space billions of light years away\",\"Will Medicaid pay for electrologist to do the shav\",\"Why do technical employees despise sales people so\",\"What are the best freelance websites for C#?\\n\",\"Will I be successful without educations?\\n\",\"How can I learn about cars?\\n\",\"What is the best question asked in an interview?\\n\",\"Why there is so much hatred against Brahmins in In\",\"How do I learn to enter journal entries online in \",\"Will CS be issuing a PR message for Boston?\\n\",\"Why do some people 'hate' drugs or people who ever\",\"How do I know my passion? What is my talent and wh\",\"How do pessimists and optimists differ?\\n\",\"How many pulleys did it take for Archimedes to lif\",\"What is the best course after 12th for a medical s\",\"What are the steps that I should follow to get in \",\"Where was the boston marathon?\\n\",\"What is it like to be in or around a bomb blast?\\n\",\"Will Trump destroy international US-companies thro\",\"Should celebrities have the right to voice their o\",\"Can I say that: \\\"A battery can be seem as a capaci\",\"What is it like to be an ENTP?\\n\",\"How do I start designing on glass?\\n\",\"What is the market risk premium formula?\\n\",\"How can I pay the parking meter if I have no coins\",\"Is it true that Obama has a secret son named \\\"Luth\",\"Which is the best coaching for IAS in up?\\n\",\"How big is the equity funding market in North Amer\",\"Which are the good government medical colleges in \",\"How do I control my hair fall?\\n\",\"Is it really worth creating Shopify themes?\\n\",\"What can cause knee pain? It only hurts when I sta\",\"Where can you find a list of common 9 letter words\",\"NSFW: Is this penis color normal or should I see a\",\"Why do most women remove the hair from their arm p\",\"Which processor is better (faster/more efficient),\",\"Which two statements are true regarding views in s\",\"What is the easiest and quickest Indian food recip\",\"What are the best local SEO companies in India?\\n\",\"How do I get rid of adult content on my Quora feed\",\"Can the zombie fungi attack humans as well?\\n\",\"If I wanted to learn about the Roman Empire,what w\",\"What are the key differences between LXDE and XFCE\",\"Can people see the sellers real name, e-mail addre\",\"Should I still watch The Matrix movie?\\n\",\"Is there any truth to the rumor that the youngest \",\"Is it ok that I don't want to hang out with my fam\",\"I am in class 9. If i want to crack IIT JEE, then \",\"Will Obama's gang stalking/surveillance program be\",\"What are some good songs to lyric text prank a fri\",\"Where can I get best quality video DJ for party in\",\"How long does it take for your hair to grow?\\n\",\"Should I update my Redmi 3s from MIUI 7 to MIUI 8?\",\"How do muscles work?\\n\",\"WHAT IS THE BEST ROUT FOR NEPAL PASUPATI NATH TEMP\",\"How to make a website similar to feedwiser.com in \",\"Why does India so scared of CPEC?\\n\",\"What did your first sex feel like as a girl?\\n\",\"In International ODI/T20 cricket matches, if a bat\",\"Why can humans feel acceleration, but not constant\",\"Can the Microsoft Surface Pro 4 run AutoCAD?\\n\",\"What are the differences between stock Crown Victo\",\"What are the good ways to download Lynda.com's tut\",\"How much is the average salary package for a 1.5 y\",\"How can you reduce the barriers of communication?\\n\",\"Why would someone use Instagram Stories over Snapc\",\"Whiskey: How many 'shots' are in a fifth of Jack D\",\"What might happen now that President-elect Donald \",\"How do I write a waiver letter for school?\\n\",\"I am interested in persuing ma industrial psycholo\",\"Does modafinil shows up on a drug test? Because my\",\"Is it possible to get high off Vyvanse?\\n\",\"Is an agnostic necessarily a skeptic, and how?\\n\",\"Where can I get best support in Sydney for buying \",\"What are the duties of a lieutenant in Indian army\",\"Why is smileys not used on Quora?\\n\",\"What does it feel like for a man when someone who \",\"How does post graduation permit impact .lets say I\",\"Online Payment Gateways and Processing: What is th\",\"What are the best books to learn c programing lang\",\"Solid State Physics: What is The Theory of Alloys?\",\"How do I fill in my first name in a PAN card dupli\",\"Why is egg yolk not good for you?\\n\",\"Anatomy of Female Pelvis: Do women really have an \",\"How much does it cost to develop mobile applicatio\",\"Who is the most honest Game of Thrones character?\\n\",\"What is a high quality Apple MacBook Air charger?\\n\",\"Where and how is the WWE championship belt made?\\n\",\"What is green communication?\\n\",\"I have been a good student since chiild hood but j\",\"I'm solving exercises of artificial neural network\",\"Compared to your own compensation, and in consider\",\"How can I keep browsing Quora forever?\\n\",\"Having built web stuff the old way (PHP/MySQL) bac\",\"Is our new currency note of Rs.2000 equipped with \",\"What's the best way to join a startup in DC?\\n\",\"What would happen if we added a second Earth of eq\",\"When will piracy on Android stop?\\n\",\"What do you mean by executive consultant and suppo\",\"Why do I always feel like I am missing something?\\n\",\"What does a user see when he/she gets a new messag\",\"How can I become a web developer?\\n\",\"Is there any good alternative softwares to Tally?\\n\",\"Would you have sex during period?\\n\",\"Are there prominent Bangladeshi Hindus?\\n\",\"I have registered for PhD (no NET) (phy) in 2013, \",\"I changed my name, but the person did a mistake. M\",\"At what age do your breasts stop growing?\\n\",\"How do I get a girl's phone number in a library?\\n\",\"I am into a habit of over thinking things. How do \",\"What is the average salary of a civil engineer?\\n\",\"What is the difference between rote learning vs me\",\"What are the ways to compete in the Olympics in 20\",\"What trivia (and/or little-known facts) do you fin\",\"Xiaomi Redmi note 3: Which is the best colour to b\",\"What does \\\" the Hadamard Perron theorem\\\" means?\\n\",\"Is there a way to see the viewing history and chat\",\"What is the best place for trekking in Goa?\\n\",\"How does an instant messenger work?\\n\",\"What are the disadvantages of the World Trade Orga\",\"Why does the US military not use AK series rifles?\",\"Does Moto m have gorilla glass?\\n\",\"What is the hierarchy of an associate consultant a\",\"What are some major landforms in Texas, and how do\",\"What other jobs can a medical degree holder do mea\",\"MY HP DEXTOP DOESNOT CONNECT WIFI WHY?\\n\",\"How can I get motivated to workout?\\n\",\"What should I gift it to my mom on her birthday?\\n\",\"Which is the best video you have ever seen?\\n\",\"I was selected in campus and was issued a joining \",\"What makes a poem a good way to express emotions? \",\"What would happen if I cut down a tree outside my \",\"Can you make money in Amway?\\n\",\"Body Weight: How many pounds can I gain every week\",\"What are the impacts (both positive & negative) of\",\"I forgot the password which I used to login n n lo\",\"What are the best websites for career?\\n\",\"What is your favourite episode of the office (USA)\",\"Why is time slower down near heavy objects?\\n\",\"How do l update any version after rooting the mobi\",\"Why is 3 am called the witching hour?\\n\",\"How do I run a shell script from Java code?\\n\",\"What are the advertising campaigns of 2011?\\n\",\"Should I opt for computer science if I don't take \",\"What are the polymers of protein?\\n\",\"How much better will the JWST be than Hubble?\\n\",\"What are the greatest examples of absence of mind?\",\"How can I understand the STOCK market from the bas\",\"How do I make Gazpacho?\\n\",\"What is the typical role of a brand manager?\\n\",\"Who are the top 5 hottest women ever?\\n\",\"What is the name of the game that Aamir Khan was r\",\"How long does it take to learn dance?\\n\",\"What's the funniest thing that's happened to you a\",\"Why are metals malleable and ductile?\\n\",\"List of national daily in India?\\n\",\"Are Volvos actually safer than comparable cars?\\n\",\"Can you tell who has been looking at your Instagra\",\"A ball dropped from the roof of a building takes 4\",\"What percentage of Hillary Clinton's supporters ha\",\"Do you think you are beautiful?\\n\",\"Which are the free email marketing tools?\\n\",\"What topic of discussion do people hate the most? \",\"What is the point in having hyper-politicised stud\",\"Why Steve Jobs is considered as innovator?\\n\",\"How long would it take an average programmer to wr\",\"Why are conservatives defending Holly Fisher? (see\",\"What is so important about Adam Smith's pin factor\",\"What is the Arizona bark scorpion, and how do anim\",\"How do I stop smoking cigarettes?\\n\",\"What are the functions of a computer's motherboard\",\"How can tea bags help for styes?\\n\",\"How can I get a patent for my really effective inn\",\"Can India ever become 'Sone Ki Chidiya' again?\\n\",\"Is there any way to play Android games LAN multipl\",\"Why should I ask my first question?\\n\",\"Who are the top writers on Hinduism on Quora? Who \",\"How do I wake up at 4:00 A.M.?\\n\",\"Why is Quora moderation collapsing all my answers?\",\"In an honest assessment, what do you think of Trum\",\"What type of bonding is present in a coordinate bo\",\"Is it possible to delete your Wikipedia account hi\",\"I'm a +2 CBSE non-medical student. Is there any pr\",\"Are there any limitations as to setting up a forei\",\"How will the drought in California affect its econ\",\"What is Informatica online training?\\n\",\"Is it compulsory for a Web designer and developer \",\"How could the US realistically pay off its debt?\\n\",\"Who is Barry Soetoro?\\n\",\"How do I solve [math]2x^3-x^2+11x+3=0[/math]?\\n\",\"What are some hobbies couples can do at home?\\n\",\"How have meerkats adapted to the desert?\\n\",\"What causes dizziness when you lay down?\\n\",\"What should one do after a civil engineering degre\",\"What are the advantages of hiring skip bins servic\",\"Why is it necessary that singers lip-sync?\\n\",\"How can I turn off the screen overlay detected on \",\"How do you clean or polish a pair of Woodland shoe\",\"What are some classes you wish you took in high sc\",\"What is the formula of [math](a+b)^3[/math]?\\n\",\"What is it like to commit yourself to a psychiatri\",\"Is there any way to slow or reverse the late effec\",\"What would the implications be if we discovered th\",\"Any other program to help on code contribution for\",\"What is the bond order of [math]H_2[/math]?\\n\",\"What is the best way to create a website without c\",\"What were some causes and effects of the French Re\",\"What are some catchy headlines for a dating site?\\n\",\"Should I get Company of Heroes, World in Conflict \",\"How do I remove a person from a group in Skype?\\n\",\"Why was Manmohan Singh briefed by PM Modi after su\",\"Does anybody want to learn Chinese?\\n\",\"Is Xiaomi going the Nokia way to oblivion?\\n\",\"Should I buy hp 17.3 AMD laptop or lenovo 17.3 i5 \",\"Which is better a government job or a software job\",\"How can the word \\\"credulity\\\" be used in a sentence\",\"Does uber track time on app?\\n\",\"How do I get over direct rejection?\\n\",\"How can any institute get an ISO certificate?\\n\",\"What are the best pranks?\\n\",\"Are non-solicit agreements enforceable if the pers\",\"Which phone is best in 2016 for a 18 years boy my \",\"What is the definition of an archetypal hero?\\n\",\"Why are some \\\"ugly\\\" people still very attractive?\\n\",\"What are the chances of Donald Trump's impeachment\",\"What would a society based on laws enforcing only \",\"What is the full form of \\\"veto\\\" power?\\n\",\"How much do people get paid to do a TED talk?\\n\",\"What does it mean to say \\\"enriching herself off of\",\"How can I be more persuasive at work?\\n\",\"What is the corporate culture like at National Bev\",\"What is the fastest way to get a PAN card?\\n\",\"Who will win in America presidential elections in \",\"How do I solve this differential problem?\\n\",\"How is Banjara's Saffron Facial Kit used?\\n\",\"How do you understand life?\\n\",\"Will an MS from NUS in electrical engineering prov\",\"How does one create a strong password? Any tips?\\n\",\"Who was the best dressed at the 2016 Emmy's?\\n\",\"What is the cost of manufacturing a SIM card?\\n\",\"Are you tolerant?\\n\",\"Is [math]\\\\{1,2,3\\\\}[/math] a compact subset of a me\",\"What kind of energy is involved in hearing and vis\",\"What happened with Lehman Brothers?\\n\",\"What is a good web page publisher?\\n\",\"Why does eating radishes cause diarrhea?\\n\",\"How do I encrypt the data on my Android phone?\\n\",\"If there were an Oscar for \\\"Best Line in a Movie\\\",\",\"Why are tyres black?\\n\",\"What is the best way to unlock a Motorola Droid Bi\",\"Is a $45 a month job worth the experience?\\n\",\"Should I settle in Canada or Japan?\\n\",\"How is the appraisal process in Accenture? How wil\",\"How does sand turn into glass?\\n\",\"What effect will increased automation of jobs and \",\"I am 25 years old Indian guy, want to settle in Ne\",\"What are some Raksha Bandhan gift suggestions for \",\"How do I write a multi-dimensional villain that is\",\"Why is there no nucleus in a red blood cell?\\n\",\"Why do Quora allow anonymous fake questions from A\",\"Is it possible to merge a foursquare venue into a \",\"How do I find out if I have Siri on my phone?\\n\",\"Why do I feel like I'm not living my life?\\n\",\"What will happen to global stock market if Donald \",\"What makes weeds grow so much faster and easier th\",\"Do people with extremely high IQ need higher sugar\",\"What should teaching assistants do?\\n\",\"Why is Perth one of the most liveable cities in th\",\"How do you get to the entrance for Resolution Cave\",\"How do I get involved in research as an undergradu\",\"If you have one option to remove anything, what wi\",\"What are the risk after angioplasty?\\n\",\"Why can't men read the signals women give off when\",\"How can a non-EU medical graduate get into residen\",\"How do I stay active?\\n\",\"I'm going to Paris. What is the equivalent \\\"neighb\",\"How do I get rid of dandruff, or at least prevent \",\"Is Medicaid going to pay for the electrologist for\",\"When Australia became a nation in 1901, Did aborig\",\"What is the difference between SSL and Sitelock?\\n\",\"What are some unsolved problems in deep machine le\",\"What's the difference between computer engineering\",\"Is it possible to get a decent job after completin\",\"What is the difference between MG & BG in railway \",\"How do I control an Arduino with a Raspberry Pi?\\n\",\"What is the best field to pursue MS after doing el\",\"What is the difference between Directx and graphic\",\"How do I wirelessly charge the electrical devices \",\"Can you upload Numbers sheets from iPad to Google \",\"What's the best movie franchise you have ever watc\",\"If light does not have mass, then how can it be ab\",\"Why is the book of Esther in the Bible?\\n\",\"What makes comic books worth reading?\\n\",\"What are the advantages of outsourcing property ma\",\"What is a Quora credit competition?\\n\",\"Are data analyst/data science jobs boring?\\n\",\"Why don't satellites crash into each other?\\n\",\"How do dermatologists remove blackheads?\\n\",\"How can I choose between my dad and my mom?\\n\",\"Can you really not change people?\\n\",\"Being a non believer of a spiritual entity, I have\",\"Is black coffee fattening? If so, what makes it fa\",\"The education system is outdated. What would you d\",\"Who are the founders of Quora?\\n\",\"What is it like to be a landlord?\\n\",\"How many stamps do I need to send a letter to germ\",\"My father just recently got married. His wife goes\",\"Which countries are best to migrate from the US?\\n\",\"Can any one tell me a basketball club in Bangalore\",\"How can Spotify download songs offline?\\n\",\"How do I make money online for free in Spain?\\n\",\"Why is Tornado Alley prone to tornadoes?\\n\",\"How does helium change the inhaler's voice?\\n\",\"What is a bedding ceremony in Game of Thrones?\\n\",\"What is it like living in former East Germany as a\",\"Did the USA or NATO commit any war crimes in Iraq?\",\"Why don't we capture terrorist and behead them?\\n\",\"What is your favorite quote (books, movies, people\",\"What mixes well with peach vodka?\\n\",\"Which Patanjali products contain cow urine?\\n\",\"Why are three phases denoted by RYB?\\n\",\"Where could I learn JavaScript online?\\n\",\"Is it appropriate to wear a sports bra simply to t\",\"What are the differences between Jenkins CI and Dr\",\"T right do you think we should be entitled to?\\n\",\"What was the public's reaction to Crystal Pepsi?\\n\",\"How can I crack MH-CET 2017 engineering by self-st\",\"What is the way to become a dental hygienist in th\",\"Why do solving math/statistics problems causes my \",\"Does your name sound as awkward to others as it so\",\"What is the proper format of writing formal-inform\",\"How does doc2vec represent feature vector of a doc\",\"Why are software development task estimations regu\",\"How can I set up molecular pathology lab?\\n\",\"How do I score a rank in CA - IPCC?\\n\",\"What are some examples of strong organic acids?\\n\",\"What can be a good hindi (indian) name for a tea b\",\"Is the Google host matching process different for \",\"Is Cuba considered part of Latin America?\\n\",\"Does the following script (\\u0256\\u2200\\u0f61\\u0632\\u2202 \\u0250\\u0167 \\u01ab\\u04bf\\u03de\\u026e\\u2609 \\u027d\\u03c6\\u0289\\u029b\\u0195), \",\"How can I increase my website's DA?\\n\",\"Is it normal to imagine having sex with other guy \",\"What is the percent purity (approx) of consumable \",\"Do soulmates just come walking into your life when\",\"If I use marijuana with my boyfriend, is there a p\",\"Can you analyze everything in soil?\\n\",\"What difference it would make if India Nuked and K\",\"What are the advantages of a dominant party system\",\"What were some things India did not do but takes c\",\"How many total women have accused Bill Clinton of \",\"Why do I wish some fictional characters existed?\\n\",\"Where can I find best hotel at Ranikhet?\\n\",\"How do I make good memes?\\n\",\"What are some of the common sayings or proverbs in\",\"What kind of writing style makes someone a \\\"dark w\",\"Are Trump and Hillary really the best America has \",\"How can I make my career in embedded system and ro\",\"Will adding a USB to VGA adapter always give an ex\",\"We will never be able to see our own faces with ou\",\"What are the ways you can stop a friend from pitch\",\"What is the average time for preparation of IAS?\\n\",\"How can I learn new things quickly?\\n\",\"What is the definition of political courage?\\n\",\"What makes death scary?\\n\",\"I'm really pretty but I don't want to be I hate th\",\"Is Assam Down Town University good?\\n\",\"How do the brain structures of bonobos change as t\",\"What's the biggest scam?\\n\",\"Does the US government have an alien flying saucer\",\"I need to gain weight, but I don't have abs. It's \",\"Why should I study Calculus?\\n\",\"Do you think your childhood contributed to your fi\",\"How does the Goods and Services Tax (GST) works?\\n\",\"Where can I download Cisco 500-285 exam dumps?\\n\",\"How do I can make a second nation in Cybernations \",\"Did Neil Armstrong really land on the moon?\\n\",\"Why is Devil any other than God head of state?\\n\",\"How do I stop being possessive over my girlfriend?\",\"How does Kongregate compute the statistics of adve\",\"Who is the best nuero physician at NIMHANS, Bangal\",\"What are nonprofit organizations?\\n\",\"I want to know the process of starting outbound ca\",\"Which are some of the best hotels to stay in Helsi\",\"What is good about Deloitte Chicago?\\n\",\"How do I recover data from a formatted hard drive?\",\"Could India and Pakistan unite again?\\n\",\"How often should I massage my face with Argan oil?\",\"How is psychodynamic therapy different from psycho\",\"What are some of Barack Obama's character traits?\\n\",\"Would it make sense to replace the B-52's 8 1960s \",\"Is it possible to bring forward my flight date of \",\"How can I learn marathons?\\n\"]]]}}},\"view\":{\"type\":\"object\",\"name\":\"CDSView\",\"id\":\"p1137\",\"attributes\":{\"filter\":{\"type\":\"object\",\"name\":\"AllIndices\",\"id\":\"p1138\"}}},\"glyph\":{\"type\":\"object\",\"name\":\"Scatter\",\"id\":\"p1133\",\"attributes\":{\"x\":{\"type\":\"field\",\"field\":\"x\"},\"y\":{\"type\":\"field\",\"field\":\"y\"},\"size\":{\"type\":\"value\",\"value\":20},\"line_color\":{\"type\":\"field\",\"field\":\"color\"},\"line_alpha\":{\"type\":\"value\",\"value\":0.25},\"fill_color\":{\"type\":\"field\",\"field\":\"color\"},\"fill_alpha\":{\"type\":\"value\",\"value\":0.25},\"hatch_color\":{\"type\":\"field\",\"field\":\"color\"},\"hatch_alpha\":{\"type\":\"value\",\"value\":0.25}}},\"nonselection_glyph\":{\"type\":\"object\",\"name\":\"Scatter\",\"id\":\"p1134\",\"attributes\":{\"x\":{\"type\":\"field\",\"field\":\"x\"},\"y\":{\"type\":\"field\",\"field\":\"y\"},\"size\":{\"type\":\"value\",\"value\":20},\"line_color\":{\"type\":\"field\",\"field\":\"color\"},\"line_alpha\":{\"type\":\"value\",\"value\":0.1},\"fill_color\":{\"type\":\"field\",\"field\":\"color\"},\"fill_alpha\":{\"type\":\"value\",\"value\":0.1},\"hatch_color\":{\"type\":\"field\",\"field\":\"color\"},\"hatch_alpha\":{\"type\":\"value\",\"value\":0.1}}},\"muted_glyph\":{\"type\":\"object\",\"name\":\"Scatter\",\"id\":\"p1135\",\"attributes\":{\"x\":{\"type\":\"field\",\"field\":\"x\"},\"y\":{\"type\":\"field\",\"field\":\"y\"},\"size\":{\"type\":\"value\",\"value\":20},\"line_color\":{\"type\":\"field\",\"field\":\"color\"},\"line_alpha\":{\"type\":\"value\",\"value\":0.2},\"fill_color\":{\"type\":\"field\",\"field\":\"color\"},\"fill_alpha\":{\"type\":\"value\",\"value\":0.2},\"hatch_color\":{\"type\":\"field\",\"field\":\"color\"},\"hatch_alpha\":{\"type\":\"value\",\"value\":0.2}}}}}],\"toolbar\":{\"type\":\"object\",\"name\":\"Toolbar\",\"id\":\"p1106\",\"attributes\":{\"tools\":[{\"type\":\"object\",\"name\":\"PanTool\",\"id\":\"p1119\"},{\"type\":\"object\",\"name\":\"WheelZoomTool\",\"id\":\"p1120\",\"attributes\":{\"renderers\":\"auto\"}},{\"type\":\"object\",\"name\":\"BoxZoomTool\",\"id\":\"p1121\",\"attributes\":{\"overlay\":{\"type\":\"object\",\"name\":\"BoxAnnotation\",\"id\":\"p1122\",\"attributes\":{\"syncable\":false,\"level\":\"overlay\",\"visible\":false,\"left\":{\"type\":\"number\",\"value\":\"nan\"},\"right\":{\"type\":\"number\",\"value\":\"nan\"},\"top\":{\"type\":\"number\",\"value\":\"nan\"},\"bottom\":{\"type\":\"number\",\"value\":\"nan\"},\"left_units\":\"canvas\",\"right_units\":\"canvas\",\"top_units\":\"canvas\",\"bottom_units\":\"canvas\",\"line_color\":\"black\",\"line_alpha\":1.0,\"line_width\":2,\"line_dash\":[4,4],\"fill_color\":\"lightgrey\",\"fill_alpha\":0.5}}}},{\"type\":\"object\",\"name\":\"SaveTool\",\"id\":\"p1127\"},{\"type\":\"object\",\"name\":\"ResetTool\",\"id\":\"p1128\"},{\"type\":\"object\",\"name\":\"HelpTool\",\"id\":\"p1129\"},{\"type\":\"object\",\"name\":\"HoverTool\",\"id\":\"p1139\",\"attributes\":{\"renderers\":\"auto\",\"tooltips\":[[\"phrase\",\"@phrase\"]]}}],\"active_scroll\":{\"id\":\"p1120\"}}},\"left\":[{\"type\":\"object\",\"name\":\"LinearAxis\",\"id\":\"p1114\",\"attributes\":{\"ticker\":{\"type\":\"object\",\"name\":\"BasicTicker\",\"id\":\"p1115\",\"attributes\":{\"mantissas\":[1,2,5]}},\"formatter\":{\"type\":\"object\",\"name\":\"BasicTickFormatter\",\"id\":\"p1116\"},\"major_label_policy\":{\"type\":\"object\",\"name\":\"AllLabels\",\"id\":\"p1117\"}}}],\"below\":[{\"type\":\"object\",\"name\":\"LinearAxis\",\"id\":\"p1109\",\"attributes\":{\"ticker\":{\"type\":\"object\",\"name\":\"BasicTicker\",\"id\":\"p1110\",\"attributes\":{\"mantissas\":[1,2,5]}},\"formatter\":{\"type\":\"object\",\"name\":\"BasicTickFormatter\",\"id\":\"p1111\"},\"major_label_policy\":{\"type\":\"object\",\"name\":\"AllLabels\",\"id\":\"p1112\"}}}],\"center\":[{\"type\":\"object\",\"name\":\"Grid\",\"id\":\"p1113\",\"attributes\":{\"axis\":{\"id\":\"p1109\"}}},{\"type\":\"object\",\"name\":\"Grid\",\"id\":\"p1118\",\"attributes\":{\"dimension\":1,\"axis\":{\"id\":\"p1114\"}}}]}}]}};\n",
              "  const render_items = [{\"docid\":\"f6a34476-1569-42e1-ac0a-b6d9f30836c5\",\"roots\":{\"p1098\":\"a898c3aa-a72c-461d-9a8b-02fd19a2f6c9\"},\"root_ids\":[\"p1098\"]}];\n",
              "  void root.Bokeh.embed.embed_items_notebook(docs_json, render_items);\n",
              "  }\n",
              "  if (root.Bokeh !== undefined) {\n",
              "    embed_document(root);\n",
              "  } else {\n",
              "    let attempts = 0;\n",
              "    const timer = setInterval(function(root) {\n",
              "      if (root.Bokeh !== undefined) {\n",
              "        clearInterval(timer);\n",
              "        embed_document(root);\n",
              "      } else {\n",
              "        attempts++;\n",
              "        if (attempts > 100) {\n",
              "          clearInterval(timer);\n",
              "          console.log(\"Bokeh: ERROR: Unable to run BokehJS code because BokehJS library is missing\");\n",
              "        }\n",
              "      }\n",
              "    }, 10, root)\n",
              "  }\n",
              "})(window);"
            ],
            "application/vnd.bokehjs_exec.v0+json": ""
          },
          "metadata": {
            "application/vnd.bokehjs_exec.v0+json": {
              "id": "p1098"
            }
          }
        }
      ],
      "source": [
        "draw_vectors(phrase_vectors_2d[:, 0], phrase_vectors_2d[:, 1],\n",
        "             phrase=[phrase[:50] for phrase in chosen_phrases],\n",
        "             radius=20,)\n",
        "pass"
      ]
    },
    {
      "cell_type": "markdown",
      "metadata": {
        "id": "y285bTRqzT0u"
      },
      "source": [
        "Finally, let's build a simple \"similar question\" engine with phrase embeddings we've built."
      ]
    },
    {
      "cell_type": "code",
      "execution_count": 28,
      "metadata": {
        "collapsed": true,
        "id": "BxKT1YlOzT0v"
      },
      "outputs": [],
      "source": [
        "# compute vector embedding for all lines in data\n",
        "data_vectors = np.array([get_phrase_embedding(l) for l in data])"
      ]
    },
    {
      "cell_type": "code",
      "source": [
        "notZerosInds = [i for i in range(len(data_vectors)) if np.any(data_vectors[i])]\n",
        "notZerosData = np.array(data)[notZerosInds]\n",
        "notZerosDataVecs = data_vectors[notZerosInds]"
      ],
      "metadata": {
        "id": "NnIGRdKqabJg"
      },
      "execution_count": 29,
      "outputs": []
    },
    {
      "cell_type": "code",
      "source": [
        "def getCosSim(A, B):\n",
        "    return np.dot(A, B) / (np.linalg.norm(A) * np.linalg.norm(B))"
      ],
      "metadata": {
        "id": "NF20uG7mQ8lp"
      },
      "execution_count": 30,
      "outputs": []
    },
    {
      "cell_type": "code",
      "execution_count": 31,
      "metadata": {
        "collapsed": true,
        "id": "_ZO8AAAjzT0v"
      },
      "outputs": [],
      "source": [
        "def find_nearest(query, k=10):\n",
        "    \"\"\"\n",
        "    given text line (query), return k most similar lines from data, sorted from most to least similar\n",
        "    similarity should be measured as cosine between query and line embedding vectors\n",
        "    hint: it's okay to use global variables: data and data_vectors. see also: np.argpartition, np.argsort\n",
        "    \"\"\"\n",
        "    # YOUR CODE\n",
        "\n",
        "    emb = get_phrase_embedding(query)\n",
        "    cosSims = [getCosSim(emb,dv) for dv in notZerosDataVecs]\n",
        "    indsTopLines = np.argsort(cosSims)[::-1][:k]\n",
        "    return notZerosData[indsTopLines]"
      ]
    },
    {
      "cell_type": "code",
      "execution_count": 32,
      "metadata": {
        "collapsed": true,
        "id": "fruv5dLdzT0v",
        "outputId": "2eb1ab02-786e-4df3-c65f-d22bfb6c6efb",
        "colab": {
          "base_uri": "https://localhost:8080/"
        }
      },
      "outputs": [
        {
          "output_type": "stream",
          "name": "stdout",
          "text": [
            "How do I get to the dark web?\n",
            "What should I do to enter hollywood?\n",
            "How do I use the Greenify app?\n",
            "What can I do to save the world?\n",
            "How do I win this?\n",
            "How do I think out of the box? How do I learn to think out of the box?\n",
            "How do I find the 5th dimension?\n",
            "How do I use the pad in MMA?\n",
            "How do I estimate the competition?\n",
            "What do I do to enter the line of event management?\n",
            "\n"
          ]
        }
      ],
      "source": [
        "results = find_nearest(query=\"How do i enter the matrix?\", k=10)\n",
        "\n",
        "print(''.join(results))\n",
        "\n",
        "assert len(results) == 10 and isinstance(results[0], str)\n",
        "assert results[0] == 'How do I get to the dark web?\\n'\n",
        "assert results[3] == 'What can I do to save the world?\\n'"
      ]
    },
    {
      "cell_type": "code",
      "execution_count": 33,
      "metadata": {
        "collapsed": true,
        "id": "kuiu2VQ-zT0x",
        "outputId": "cfa27d70-67ab-46fd-8748-0d6eeda5b90e",
        "colab": {
          "base_uri": "https://localhost:8080/"
        }
      },
      "outputs": [
        {
          "output_type": "execute_result",
          "data": {
            "text/plain": [
              "array(['What does Donald Trump think about Israel?\\n',\n",
              "       'What books does Donald Trump like?\\n',\n",
              "       'What does Donald Trump think of India?\\n',\n",
              "       'What does India think of Donald Trump?\\n',\n",
              "       'What does Donald Trump think of China?\\n',\n",
              "       'What does Donald Trump think about Pakistan?\\n',\n",
              "       'What companies does Donald Trump own?\\n',\n",
              "       'What does Dushka Zapata think about Donald Trump?\\n',\n",
              "       'How does it feel to date Ivanka Trump?\\n',\n",
              "       'What does salesforce mean?\\n'], dtype='<U1170')"
            ]
          },
          "metadata": {},
          "execution_count": 33
        }
      ],
      "source": [
        "find_nearest(query=\"How does Trump?\", k=10)"
      ]
    },
    {
      "cell_type": "code",
      "execution_count": 34,
      "metadata": {
        "id": "UtKrqSoTzT0x",
        "outputId": "73d0e8c6-7d85-4b0c-8977-5ec3d5daf8a7",
        "colab": {
          "base_uri": "https://localhost:8080/"
        }
      },
      "outputs": [
        {
          "output_type": "execute_result",
          "data": {
            "text/plain": [
              "array([\"Why don't I get a date?\\n\",\n",
              "       \"Why do you always answer a question with a question? I don't, or do I?\\n\",\n",
              "       \"Why can't I ask a question anonymously?\\n\",\n",
              "       \"Why don't I get a girlfriend?\\n\",\n",
              "       \"Why don't I have a boyfriend?\\n\", \"I don't have no question?\\n\",\n",
              "       \"Why can't I take a joke?\\n\", \"Why don't I ever get a girl?\\n\",\n",
              "       \"Can I ask a girl out that I don't know?\\n\",\n",
              "       \"Why don't I have a girlfriend?\\n\"], dtype='<U1170')"
            ]
          },
          "metadata": {},
          "execution_count": 34
        }
      ],
      "source": [
        "find_nearest(query=\"Why don't i ask a question myself?\", k=10)"
      ]
    },
    {
      "cell_type": "markdown",
      "metadata": {
        "collapsed": true,
        "id": "Y-HS_oP8zT0x"
      },
      "source": [
        "__Now what?__\n",
        "* Try running TSNE on all data, not just 1000 phrases\n",
        "* See what other embeddings are there in the model zoo: `gensim.downloader.info()`\n",
        "* Take a look at [FastText](https://github.com/facebookresearch/fastText) embeddings\n",
        "* Optimize `find_nearest` with locality-sensitive hashing: use [nearpy](https://github.com/pixelogik/NearPy) or `sklearn.neighbors`."
      ]
    }
  ],
  "metadata": {
    "kernelspec": {
      "display_name": "Python 3",
      "language": "python",
      "name": "python3"
    },
    "language_info": {
      "codemirror_mode": {
        "name": "ipython",
        "version": 3
      },
      "file_extension": ".py",
      "mimetype": "text/x-python",
      "name": "python",
      "nbconvert_exporter": "python",
      "pygments_lexer": "ipython3",
      "version": "3.5.2"
    },
    "colab": {
      "provenance": []
    }
  },
  "nbformat": 4,
  "nbformat_minor": 0
}